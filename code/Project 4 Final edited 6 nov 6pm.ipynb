{
 "cells": [
  {
   "cell_type": "markdown",
   "metadata": {},
   "source": [
    "# DSI Project 4: West Nile Virus Prediction"
   ]
  },
  {
   "cell_type": "markdown",
   "metadata": {
    "ExecuteTime": {
     "end_time": "2019-11-04T06:30:53.313537Z",
     "start_time": "2019-11-04T06:30:53.309580Z"
    }
   },
   "source": [
    "## Problem Statement:"
   ]
  },
  {
   "cell_type": "markdown",
   "metadata": {
    "ExecuteTime": {
     "end_time": "2019-11-04T06:40:00.244359Z",
     "start_time": "2019-11-04T06:40:00.238376Z"
    }
   },
   "source": [
    "Due to the recent epidemic of West Nile Virus in Chicago, we need to deploy pesticides throughout the city cost-effectively (as pesticides are expensive) and safely without causing hazard to public health.<br>\n",
    "Given weather, location, testing, and spraying data, the task is to predict where and when different species of mosquitos will be tested positive for West Nile Virus. Mosquitos in traps across the city are tested for the virus. The results of these tests influence when and where the city will spray airborne pesticides to control adult mosquito populations. Success is evaluated on area under the ROC curve between the predicted probability that West Nile Virus is present and the observed outcomes.\n"
   ]
  },
  {
   "cell_type": "markdown",
   "metadata": {},
   "source": [
    "## Executive Summary\n",
    "---\n",
    "### Contents:\n",
    "- [Data Description](#Data-Description)\n",
    "- [Data Cleaning & EDA](#Data-Cleaning-&-EDA)\n",
    "- [Feature Engineering](#Feature-Engineering)\n",
    "- [Model Evaluation & Kaggle Prediction Scoring](#Model-Evaluation-&-Kaggle-Prediction-Scoring)\n",
    "- [Conclusion](#Conclusion)"
   ]
  },
  {
   "cell_type": "markdown",
   "metadata": {
    "ExecuteTime": {
     "end_time": "2019-11-04T06:53:18.187687Z",
     "start_time": "2019-11-04T06:53:18.182573Z"
    }
   },
   "source": [
    "# Data Description"
   ]
  },
  {
   "cell_type": "markdown",
   "metadata": {},
   "source": [
    "Every year from late-May to early-October, public health workers in Chicago setup mosquito traps scattered across the city. Every week from Monday through Wednesday, these traps collect mosquitos, and the mosquitos are tested for the presence of West Nile virus before the end of the week. The test results include the number of mosquitos, the mosquitos species, and whether or not West Nile virus is present in the cohort.\n",
    "\n",
    "There are in total 4 datasets provided:\n",
    "- Train Dataset (May-Oct 2007, May-Oct 2009, Jun-Sep 2011, Jun-Sep 2013) \n",
    "- Test Dataset (Jun-Sep 2008, Jun-Oct 2010, Jun-Sep 2012, Jun-Oct 2014)\n",
    "- Weather Dataset (May-Oct 2007-2014)\n",
    "- Spray Dataset (Aug-Sep 2011, Jul-Sep 2013)    "
   ]
  },
  {
   "cell_type": "markdown",
   "metadata": {},
   "source": [
    "## Data Cleaning & EDA"
   ]
  },
  {
   "cell_type": "code",
   "execution_count": 98,
   "metadata": {
    "ExecuteTime": {
     "end_time": "2019-11-06T10:12:22.237972Z",
     "start_time": "2019-11-06T10:12:22.202968Z"
    }
   },
   "outputs": [],
   "source": [
    "import pandas as pd\n",
    "import numpy as np\n",
    "import matplotlib.pyplot as plt\n",
    "import geopandas as gpd\n",
    "from shapely.geometry import Point, Polygon\n",
    "import seaborn as sns\n",
    "from sklearn.linear_model import LogisticRegression\n",
    "from sklearn.preprocessing import StandardScaler, PolynomialFeatures\n",
    "from sklearn.model_selection import train_test_split, GridSearchCV, cross_val_score\n",
    "from sklearn.metrics import roc_auc_score,confusion_matrix,classification_report\n",
    "from imblearn.over_sampling import SMOTE\n",
    "from sklearn.neighbors import KNeighborsClassifier\n",
    "from sklearn.tree import DecisionTreeClassifier\n",
    "from sklearn.ensemble import RandomForestClassifier,ExtraTreesClassifier, AdaBoostClassifier, GradientBoostingClassifier, VotingClassifier\n",
    "from sklearn.naive_bayes import MultinomialNB\n",
    "from sklearn.pipeline import Pipeline\n",
    "from sklearn.feature_selection import RFECV\n",
    "\n",
    "\n",
    "%matplotlib inline\n",
    "\n",
    "pd.set_option('display.max_rows', 100) # to look at more rows of data later\n",
    "pd.set_option('display.max_columns', 100) # to expand columns view so that all can be seen later"
   ]
  },
  {
   "cell_type": "markdown",
   "metadata": {},
   "source": [
    "Cleaning of the Weather Data has been done, for details of the cleaning process you may refer [here](./weather_cleaned.ipynb). <br>\n",
    "You may refer to the clean csv [here](../dataset/weather_final.csv)"
   ]
  },
  {
   "cell_type": "code",
   "execution_count": 101,
   "metadata": {
    "ExecuteTime": {
     "end_time": "2019-11-06T10:13:29.381461Z",
     "start_time": "2019-11-06T10:13:28.696291Z"
    }
   },
   "outputs": [],
   "source": [
    "# Load dataset\n",
    "train_df = pd.read_csv('../dataset/train.csv')\n",
    "test_df = pd.read_csv('../dataset/test.csv')\n",
    "weather_df = pd.read_csv('../dataset/weather_final.csv')\n",
    "spray_df=pd.read_csv('../dataset/spray.csv')\n",
    "street_map = gpd.read_file('../dataset/geo_export_6f337adc-3081-4800-8a83-2e6ce1971179.shx')"
   ]
  },
  {
   "cell_type": "code",
   "execution_count": null,
   "metadata": {
    "ExecuteTime": {
     "end_time": "2019-11-06T10:10:58.184343Z",
     "start_time": "2019-11-06T10:10:55.448Z"
    }
   },
   "outputs": [],
   "source": [
    "# Print shape of dataset\n",
    "print(train_df.shape)\n",
    "print(test_df.shape)"
   ]
  },
  {
   "cell_type": "markdown",
   "metadata": {},
   "source": [
    "There are more test data (92%) than train data (8%)."
   ]
  },
  {
   "cell_type": "code",
   "execution_count": 5,
   "metadata": {
    "ExecuteTime": {
     "end_time": "2019-11-06T09:06:52.259366Z",
     "start_time": "2019-11-06T09:06:52.252384Z"
    }
   },
   "outputs": [
    {
     "name": "stdout",
     "output_type": "stream",
     "text": [
      "Index(['Date', 'Address', 'Species', 'Block', 'Street', 'Trap',\n",
      "       'AddressNumberAndStreet', 'Latitude', 'Longitude', 'AddressAccuracy',\n",
      "       'NumMosquitos', 'WnvPresent'],\n",
      "      dtype='object')\n",
      "Index(['Id', 'Date', 'Address', 'Species', 'Block', 'Street', 'Trap',\n",
      "       'AddressNumberAndStreet', 'Latitude', 'Longitude', 'AddressAccuracy'],\n",
      "      dtype='object')\n"
     ]
    }
   ],
   "source": [
    "# Print columns\n",
    "print(train_df.columns)\n",
    "print(test_df.columns)"
   ]
  },
  {
   "cell_type": "markdown",
   "metadata": {},
   "source": [
    "Test Dataset comprises all features in Train Datasets except for 'NumMosquitos' and 'WnvPresent'"
   ]
  },
  {
   "cell_type": "code",
   "execution_count": 6,
   "metadata": {
    "ExecuteTime": {
     "end_time": "2019-11-06T09:06:53.427243Z",
     "start_time": "2019-11-06T09:06:53.397324Z"
    }
   },
   "outputs": [
    {
     "data": {
      "text/html": [
       "<div>\n",
       "<style scoped>\n",
       "    .dataframe tbody tr th:only-of-type {\n",
       "        vertical-align: middle;\n",
       "    }\n",
       "\n",
       "    .dataframe tbody tr th {\n",
       "        vertical-align: top;\n",
       "    }\n",
       "\n",
       "    .dataframe thead th {\n",
       "        text-align: right;\n",
       "    }\n",
       "</style>\n",
       "<table border=\"1\" class=\"dataframe\">\n",
       "  <thead>\n",
       "    <tr style=\"text-align: right;\">\n",
       "      <th></th>\n",
       "      <th>Date</th>\n",
       "      <th>Address</th>\n",
       "      <th>Species</th>\n",
       "      <th>Block</th>\n",
       "      <th>Street</th>\n",
       "      <th>Trap</th>\n",
       "      <th>AddressNumberAndStreet</th>\n",
       "      <th>Latitude</th>\n",
       "      <th>Longitude</th>\n",
       "      <th>AddressAccuracy</th>\n",
       "      <th>NumMosquitos</th>\n",
       "      <th>WnvPresent</th>\n",
       "    </tr>\n",
       "  </thead>\n",
       "  <tbody>\n",
       "    <tr>\n",
       "      <th>0</th>\n",
       "      <td>2007-05-29</td>\n",
       "      <td>4100 North Oak Park Avenue, Chicago, IL 60634,...</td>\n",
       "      <td>CULEX PIPIENS/RESTUANS</td>\n",
       "      <td>41</td>\n",
       "      <td>N OAK PARK AVE</td>\n",
       "      <td>T002</td>\n",
       "      <td>4100  N OAK PARK AVE, Chicago, IL</td>\n",
       "      <td>41.954690</td>\n",
       "      <td>-87.800991</td>\n",
       "      <td>9</td>\n",
       "      <td>1</td>\n",
       "      <td>0</td>\n",
       "    </tr>\n",
       "    <tr>\n",
       "      <th>1</th>\n",
       "      <td>2007-05-29</td>\n",
       "      <td>4100 North Oak Park Avenue, Chicago, IL 60634,...</td>\n",
       "      <td>CULEX RESTUANS</td>\n",
       "      <td>41</td>\n",
       "      <td>N OAK PARK AVE</td>\n",
       "      <td>T002</td>\n",
       "      <td>4100  N OAK PARK AVE, Chicago, IL</td>\n",
       "      <td>41.954690</td>\n",
       "      <td>-87.800991</td>\n",
       "      <td>9</td>\n",
       "      <td>1</td>\n",
       "      <td>0</td>\n",
       "    </tr>\n",
       "    <tr>\n",
       "      <th>2</th>\n",
       "      <td>2007-05-29</td>\n",
       "      <td>6200 North Mandell Avenue, Chicago, IL 60646, USA</td>\n",
       "      <td>CULEX RESTUANS</td>\n",
       "      <td>62</td>\n",
       "      <td>N MANDELL AVE</td>\n",
       "      <td>T007</td>\n",
       "      <td>6200  N MANDELL AVE, Chicago, IL</td>\n",
       "      <td>41.994991</td>\n",
       "      <td>-87.769279</td>\n",
       "      <td>9</td>\n",
       "      <td>1</td>\n",
       "      <td>0</td>\n",
       "    </tr>\n",
       "    <tr>\n",
       "      <th>3</th>\n",
       "      <td>2007-05-29</td>\n",
       "      <td>7900 West Foster Avenue, Chicago, IL 60656, USA</td>\n",
       "      <td>CULEX PIPIENS/RESTUANS</td>\n",
       "      <td>79</td>\n",
       "      <td>W FOSTER AVE</td>\n",
       "      <td>T015</td>\n",
       "      <td>7900  W FOSTER AVE, Chicago, IL</td>\n",
       "      <td>41.974089</td>\n",
       "      <td>-87.824812</td>\n",
       "      <td>8</td>\n",
       "      <td>1</td>\n",
       "      <td>0</td>\n",
       "    </tr>\n",
       "    <tr>\n",
       "      <th>4</th>\n",
       "      <td>2007-05-29</td>\n",
       "      <td>7900 West Foster Avenue, Chicago, IL 60656, USA</td>\n",
       "      <td>CULEX RESTUANS</td>\n",
       "      <td>79</td>\n",
       "      <td>W FOSTER AVE</td>\n",
       "      <td>T015</td>\n",
       "      <td>7900  W FOSTER AVE, Chicago, IL</td>\n",
       "      <td>41.974089</td>\n",
       "      <td>-87.824812</td>\n",
       "      <td>8</td>\n",
       "      <td>4</td>\n",
       "      <td>0</td>\n",
       "    </tr>\n",
       "  </tbody>\n",
       "</table>\n",
       "</div>"
      ],
      "text/plain": [
       "         Date                                            Address  \\\n",
       "0  2007-05-29  4100 North Oak Park Avenue, Chicago, IL 60634,...   \n",
       "1  2007-05-29  4100 North Oak Park Avenue, Chicago, IL 60634,...   \n",
       "2  2007-05-29  6200 North Mandell Avenue, Chicago, IL 60646, USA   \n",
       "3  2007-05-29    7900 West Foster Avenue, Chicago, IL 60656, USA   \n",
       "4  2007-05-29    7900 West Foster Avenue, Chicago, IL 60656, USA   \n",
       "\n",
       "                  Species  Block           Street  Trap  \\\n",
       "0  CULEX PIPIENS/RESTUANS     41   N OAK PARK AVE  T002   \n",
       "1          CULEX RESTUANS     41   N OAK PARK AVE  T002   \n",
       "2          CULEX RESTUANS     62    N MANDELL AVE  T007   \n",
       "3  CULEX PIPIENS/RESTUANS     79     W FOSTER AVE  T015   \n",
       "4          CULEX RESTUANS     79     W FOSTER AVE  T015   \n",
       "\n",
       "              AddressNumberAndStreet   Latitude  Longitude  AddressAccuracy  \\\n",
       "0  4100  N OAK PARK AVE, Chicago, IL  41.954690 -87.800991                9   \n",
       "1  4100  N OAK PARK AVE, Chicago, IL  41.954690 -87.800991                9   \n",
       "2   6200  N MANDELL AVE, Chicago, IL  41.994991 -87.769279                9   \n",
       "3    7900  W FOSTER AVE, Chicago, IL  41.974089 -87.824812                8   \n",
       "4    7900  W FOSTER AVE, Chicago, IL  41.974089 -87.824812                8   \n",
       "\n",
       "   NumMosquitos  WnvPresent  \n",
       "0             1           0  \n",
       "1             1           0  \n",
       "2             1           0  \n",
       "3             1           0  \n",
       "4             4           0  "
      ]
     },
     "execution_count": 6,
     "metadata": {},
     "output_type": "execute_result"
    }
   ],
   "source": [
    "train_df.head()"
   ]
  },
  {
   "cell_type": "code",
   "execution_count": 7,
   "metadata": {
    "ExecuteTime": {
     "end_time": "2019-11-06T09:06:55.005418Z",
     "start_time": "2019-11-06T09:06:54.591588Z"
    }
   },
   "outputs": [
    {
     "data": {
      "image/png": "[encoded data removed]",
      "text/plain": [
       "<Figure size 720x432 with 1 Axes>"
      ]
     },
     "metadata": {
      "needs_background": "light"
     },
     "output_type": "display_data"
    }
   ],
   "source": [
    "plt.figure(figsize=(10,6))\n",
    "sns.barplot(y='Species', x='NumMosquitos', hue='WnvPresent', data=train_df, palette='Set1_r',ci=None)\n",
    "plt.title('Frequency of Mosquito Species and Presence of WNV')\n",
    "plt.xlabel('Frequency of Mosquito Species');"
   ]
  },
  {
   "cell_type": "code",
   "execution_count": 8,
   "metadata": {
    "ExecuteTime": {
     "end_time": "2019-11-06T09:06:56.526352Z",
     "start_time": "2019-11-06T09:06:56.404681Z"
    }
   },
   "outputs": [
    {
     "data": {
      "text/plain": [
       "2007-05      25\n",
       "2007-06     176\n",
       "2007-07     575\n",
       "2007-08    2050\n",
       "2007-09     774\n",
       "2007-10     211\n",
       "2009-05      59\n",
       "2009-06     578\n",
       "2009-07     755\n",
       "2009-08     374\n",
       "2009-09     418\n",
       "2009-10      65\n",
       "2011-06     381\n",
       "2011-07     640\n",
       "2011-08     493\n",
       "2011-09     540\n",
       "2013-06     436\n",
       "2013-07     636\n",
       "2013-08     834\n",
       "2013-09     486\n",
       "Name: Date, dtype: int64"
      ]
     },
     "execution_count": 8,
     "metadata": {},
     "output_type": "execute_result"
    }
   ],
   "source": [
    "# Check date duration in train data\n",
    "pd.to_datetime(train_df['Date'],format='%Y-%m-%d').dt.strftime(\"%Y-%m\").value_counts().sort_index()"
   ]
  },
  {
   "cell_type": "markdown",
   "metadata": {},
   "source": [
    "Train Dataset comprises data for:\n",
    "- May-Oct 2007\n",
    "- May-Oct 2009\n",
    "- Jun-Sep 2011\n",
    "- Jun-Sep 2013\n"
   ]
  },
  {
   "cell_type": "code",
   "execution_count": 9,
   "metadata": {
    "ExecuteTime": {
     "end_time": "2019-11-06T09:06:57.798153Z",
     "start_time": "2019-11-06T09:06:57.664511Z"
    }
   },
   "outputs": [
    {
     "data": {
      "text/html": [
       "<div>\n",
       "<style scoped>\n",
       "    .dataframe tbody tr th:only-of-type {\n",
       "        vertical-align: middle;\n",
       "    }\n",
       "\n",
       "    .dataframe tbody tr th {\n",
       "        vertical-align: top;\n",
       "    }\n",
       "\n",
       "    .dataframe thead th {\n",
       "        text-align: right;\n",
       "    }\n",
       "</style>\n",
       "<table border=\"1\" class=\"dataframe\">\n",
       "  <thead>\n",
       "    <tr style=\"text-align: right;\">\n",
       "      <th></th>\n",
       "      <th>date</th>\n",
       "    </tr>\n",
       "    <tr>\n",
       "      <th>year_month</th>\n",
       "      <th></th>\n",
       "    </tr>\n",
       "  </thead>\n",
       "  <tbody>\n",
       "    <tr>\n",
       "      <th>2007-05</th>\n",
       "      <td>1</td>\n",
       "    </tr>\n",
       "    <tr>\n",
       "      <th>2007-06</th>\n",
       "      <td>3</td>\n",
       "    </tr>\n",
       "    <tr>\n",
       "      <th>2007-07</th>\n",
       "      <td>6</td>\n",
       "    </tr>\n",
       "    <tr>\n",
       "      <th>2007-08</th>\n",
       "      <td>13</td>\n",
       "    </tr>\n",
       "    <tr>\n",
       "      <th>2007-09</th>\n",
       "      <td>8</td>\n",
       "    </tr>\n",
       "    <tr>\n",
       "      <th>2007-10</th>\n",
       "      <td>2</td>\n",
       "    </tr>\n",
       "    <tr>\n",
       "      <th>2009-05</th>\n",
       "      <td>1</td>\n",
       "    </tr>\n",
       "    <tr>\n",
       "      <th>2009-06</th>\n",
       "      <td>9</td>\n",
       "    </tr>\n",
       "    <tr>\n",
       "      <th>2009-07</th>\n",
       "      <td>7</td>\n",
       "    </tr>\n",
       "    <tr>\n",
       "      <th>2009-08</th>\n",
       "      <td>4</td>\n",
       "    </tr>\n",
       "    <tr>\n",
       "      <th>2009-09</th>\n",
       "      <td>4</td>\n",
       "    </tr>\n",
       "    <tr>\n",
       "      <th>2009-10</th>\n",
       "      <td>1</td>\n",
       "    </tr>\n",
       "    <tr>\n",
       "      <th>2011-06</th>\n",
       "      <td>4</td>\n",
       "    </tr>\n",
       "    <tr>\n",
       "      <th>2011-07</th>\n",
       "      <td>4</td>\n",
       "    </tr>\n",
       "    <tr>\n",
       "      <th>2011-08</th>\n",
       "      <td>4</td>\n",
       "    </tr>\n",
       "    <tr>\n",
       "      <th>2011-09</th>\n",
       "      <td>6</td>\n",
       "    </tr>\n",
       "    <tr>\n",
       "      <th>2013-06</th>\n",
       "      <td>5</td>\n",
       "    </tr>\n",
       "    <tr>\n",
       "      <th>2013-07</th>\n",
       "      <td>4</td>\n",
       "    </tr>\n",
       "    <tr>\n",
       "      <th>2013-08</th>\n",
       "      <td>5</td>\n",
       "    </tr>\n",
       "    <tr>\n",
       "      <th>2013-09</th>\n",
       "      <td>4</td>\n",
       "    </tr>\n",
       "  </tbody>\n",
       "</table>\n",
       "</div>"
      ],
      "text/plain": [
       "            date\n",
       "year_month      \n",
       "2007-05        1\n",
       "2007-06        3\n",
       "2007-07        6\n",
       "2007-08       13\n",
       "2007-09        8\n",
       "2007-10        2\n",
       "2009-05        1\n",
       "2009-06        9\n",
       "2009-07        7\n",
       "2009-08        4\n",
       "2009-09        4\n",
       "2009-10        1\n",
       "2011-06        4\n",
       "2011-07        4\n",
       "2011-08        4\n",
       "2011-09        6\n",
       "2013-06        5\n",
       "2013-07        4\n",
       "2013-08        5\n",
       "2013-09        4"
      ]
     },
     "execution_count": 9,
     "metadata": {},
     "output_type": "execute_result"
    }
   ],
   "source": [
    "# Check if train data is collected on a consistent basis throughout the period?\n",
    "d = pd.concat([train_df[['Date']] ,pd.to_datetime(train_df['Date']).dt.to_period(\"M\")], axis=1)\n",
    "d.columns = ['date','year_month']\n",
    "d.drop_duplicates().groupby(by=['year_month']).count()"
   ]
  },
  {
   "cell_type": "markdown",
   "metadata": {},
   "source": [
    "Train Data collection frequency is not consistent across months.<br>\n",
    "ie. In May 2007 , there is only observation on one day and in Aug 2007, there are 13 observation days."
   ]
  },
  {
   "cell_type": "code",
   "execution_count": 13,
   "metadata": {
    "ExecuteTime": {
     "end_time": "2019-11-06T09:08:34.557666Z",
     "start_time": "2019-11-06T09:08:34.550647Z"
    }
   },
   "outputs": [],
   "source": [
    "train_df_copy=train_df.copy()"
   ]
  },
  {
   "cell_type": "code",
   "execution_count": 16,
   "metadata": {
    "ExecuteTime": {
     "end_time": "2019-11-06T09:09:44.692390Z",
     "start_time": "2019-11-06T09:09:44.553761Z"
    }
   },
   "outputs": [],
   "source": [
    "# fig, ax = plt.subplots(figsize=(8,8))\n",
    "# street_map.plot(ax = ax);\n",
    "\n",
    "# Compile list of observation of each geo point\n",
    "geometry = [Point(xy) for xy in zip(train_df['Longitude'], train_df['Latitude'])]\n",
    "geometry[:3]\n",
    "\n",
    "# Set up Chicago coordinates using EPSG coordinate ref. system\n",
    "crs = {'init': 'epsg:4326'}\n",
    "\n",
    "# # Convert train dataframe to geo dataframe\n",
    "# # geo_df = gpd.GeoDataFrame(train_df_copy,\n",
    "# #                           crs = crs,\n",
    "# #                           geometry = geometry)\n",
    "# # geo_df.head(2)"
   ]
  },
  {
   "cell_type": "code",
   "execution_count": 17,
   "metadata": {
    "ExecuteTime": {
     "end_time": "2019-11-06T09:09:50.772034Z",
     "start_time": "2019-11-06T09:09:49.677615Z"
    }
   },
   "outputs": [
    {
     "data": {
      "image/png": "[encoded data removed]",
      "text/plain": [
       "<Figure size 864x864 with 1 Axes>"
      ]
     },
     "metadata": {
      "needs_background": "light"
     },
     "output_type": "display_data"
    }
   ],
   "source": [
    "fig, ax = plt.subplots(figsize=(12,12))\n",
    "street_map.plot(ax=ax, alpha=.3, color='grey');\n",
    "geo_df[geo_df['WnvPresent'] == 0].plot(ax=ax, markersize=20, color='g', marker='^', label='Neg')\n",
    "geo_df[geo_df['WnvPresent'] == 1].plot(ax=ax, markersize=20, color='r', marker='+', label='Pos')\n",
    "plt.legend(prop={'size':15});"
   ]
  },
  {
   "cell_type": "code",
   "execution_count": 18,
   "metadata": {
    "ExecuteTime": {
     "end_time": "2019-11-06T09:10:03.084817Z",
     "start_time": "2019-11-06T09:10:03.062875Z"
    }
   },
   "outputs": [
    {
     "data": {
      "text/html": [
       "<div>\n",
       "<style scoped>\n",
       "    .dataframe tbody tr th:only-of-type {\n",
       "        vertical-align: middle;\n",
       "    }\n",
       "\n",
       "    .dataframe tbody tr th {\n",
       "        vertical-align: top;\n",
       "    }\n",
       "\n",
       "    .dataframe thead th {\n",
       "        text-align: right;\n",
       "    }\n",
       "</style>\n",
       "<table border=\"1\" class=\"dataframe\">\n",
       "  <thead>\n",
       "    <tr style=\"text-align: right;\">\n",
       "      <th></th>\n",
       "      <th>Id</th>\n",
       "      <th>Date</th>\n",
       "      <th>Address</th>\n",
       "      <th>Species</th>\n",
       "      <th>Block</th>\n",
       "      <th>Street</th>\n",
       "      <th>Trap</th>\n",
       "      <th>AddressNumberAndStreet</th>\n",
       "      <th>Latitude</th>\n",
       "      <th>Longitude</th>\n",
       "      <th>AddressAccuracy</th>\n",
       "    </tr>\n",
       "  </thead>\n",
       "  <tbody>\n",
       "    <tr>\n",
       "      <th>0</th>\n",
       "      <td>1</td>\n",
       "      <td>2008-06-11</td>\n",
       "      <td>4100 North Oak Park Avenue, Chicago, IL 60634,...</td>\n",
       "      <td>CULEX PIPIENS/RESTUANS</td>\n",
       "      <td>41</td>\n",
       "      <td>N OAK PARK AVE</td>\n",
       "      <td>T002</td>\n",
       "      <td>4100  N OAK PARK AVE, Chicago, IL</td>\n",
       "      <td>41.95469</td>\n",
       "      <td>-87.800991</td>\n",
       "      <td>9</td>\n",
       "    </tr>\n",
       "    <tr>\n",
       "      <th>1</th>\n",
       "      <td>2</td>\n",
       "      <td>2008-06-11</td>\n",
       "      <td>4100 North Oak Park Avenue, Chicago, IL 60634,...</td>\n",
       "      <td>CULEX RESTUANS</td>\n",
       "      <td>41</td>\n",
       "      <td>N OAK PARK AVE</td>\n",
       "      <td>T002</td>\n",
       "      <td>4100  N OAK PARK AVE, Chicago, IL</td>\n",
       "      <td>41.95469</td>\n",
       "      <td>-87.800991</td>\n",
       "      <td>9</td>\n",
       "    </tr>\n",
       "    <tr>\n",
       "      <th>2</th>\n",
       "      <td>3</td>\n",
       "      <td>2008-06-11</td>\n",
       "      <td>4100 North Oak Park Avenue, Chicago, IL 60634,...</td>\n",
       "      <td>CULEX PIPIENS</td>\n",
       "      <td>41</td>\n",
       "      <td>N OAK PARK AVE</td>\n",
       "      <td>T002</td>\n",
       "      <td>4100  N OAK PARK AVE, Chicago, IL</td>\n",
       "      <td>41.95469</td>\n",
       "      <td>-87.800991</td>\n",
       "      <td>9</td>\n",
       "    </tr>\n",
       "    <tr>\n",
       "      <th>3</th>\n",
       "      <td>4</td>\n",
       "      <td>2008-06-11</td>\n",
       "      <td>4100 North Oak Park Avenue, Chicago, IL 60634,...</td>\n",
       "      <td>CULEX SALINARIUS</td>\n",
       "      <td>41</td>\n",
       "      <td>N OAK PARK AVE</td>\n",
       "      <td>T002</td>\n",
       "      <td>4100  N OAK PARK AVE, Chicago, IL</td>\n",
       "      <td>41.95469</td>\n",
       "      <td>-87.800991</td>\n",
       "      <td>9</td>\n",
       "    </tr>\n",
       "    <tr>\n",
       "      <th>4</th>\n",
       "      <td>5</td>\n",
       "      <td>2008-06-11</td>\n",
       "      <td>4100 North Oak Park Avenue, Chicago, IL 60634,...</td>\n",
       "      <td>CULEX TERRITANS</td>\n",
       "      <td>41</td>\n",
       "      <td>N OAK PARK AVE</td>\n",
       "      <td>T002</td>\n",
       "      <td>4100  N OAK PARK AVE, Chicago, IL</td>\n",
       "      <td>41.95469</td>\n",
       "      <td>-87.800991</td>\n",
       "      <td>9</td>\n",
       "    </tr>\n",
       "  </tbody>\n",
       "</table>\n",
       "</div>"
      ],
      "text/plain": [
       "   Id        Date                                            Address  \\\n",
       "0   1  2008-06-11  4100 North Oak Park Avenue, Chicago, IL 60634,...   \n",
       "1   2  2008-06-11  4100 North Oak Park Avenue, Chicago, IL 60634,...   \n",
       "2   3  2008-06-11  4100 North Oak Park Avenue, Chicago, IL 60634,...   \n",
       "3   4  2008-06-11  4100 North Oak Park Avenue, Chicago, IL 60634,...   \n",
       "4   5  2008-06-11  4100 North Oak Park Avenue, Chicago, IL 60634,...   \n",
       "\n",
       "                  Species  Block           Street  Trap  \\\n",
       "0  CULEX PIPIENS/RESTUANS     41   N OAK PARK AVE  T002   \n",
       "1          CULEX RESTUANS     41   N OAK PARK AVE  T002   \n",
       "2           CULEX PIPIENS     41   N OAK PARK AVE  T002   \n",
       "3        CULEX SALINARIUS     41   N OAK PARK AVE  T002   \n",
       "4         CULEX TERRITANS     41   N OAK PARK AVE  T002   \n",
       "\n",
       "              AddressNumberAndStreet  Latitude  Longitude  AddressAccuracy  \n",
       "0  4100  N OAK PARK AVE, Chicago, IL  41.95469 -87.800991                9  \n",
       "1  4100  N OAK PARK AVE, Chicago, IL  41.95469 -87.800991                9  \n",
       "2  4100  N OAK PARK AVE, Chicago, IL  41.95469 -87.800991                9  \n",
       "3  4100  N OAK PARK AVE, Chicago, IL  41.95469 -87.800991                9  \n",
       "4  4100  N OAK PARK AVE, Chicago, IL  41.95469 -87.800991                9  "
      ]
     },
     "execution_count": 18,
     "metadata": {},
     "output_type": "execute_result"
    }
   ],
   "source": [
    "test_df.head()"
   ]
  },
  {
   "cell_type": "code",
   "execution_count": 19,
   "metadata": {
    "ExecuteTime": {
     "end_time": "2019-11-06T09:10:05.866379Z",
     "start_time": "2019-11-06T09:10:04.747372Z"
    }
   },
   "outputs": [
    {
     "data": {
      "text/plain": [
       "2008-06     3633\n",
       "2008-07    10935\n",
       "2008-08     8578\n",
       "2008-09     7352\n",
       "2010-06     6075\n",
       "2010-07    12252\n",
       "2010-08     8520\n",
       "2010-09     8495\n",
       "2010-10     1215\n",
       "2012-06     4874\n",
       "2012-07     6336\n",
       "2012-08    11029\n",
       "2012-09     4876\n",
       "2014-06     4896\n",
       "2014-07     6142\n",
       "2014-08     4988\n",
       "2014-09     4889\n",
       "2014-10     1208\n",
       "Name: Date, dtype: int64"
      ]
     },
     "execution_count": 19,
     "metadata": {},
     "output_type": "execute_result"
    }
   ],
   "source": [
    "# Check date duration in test data\n",
    "pd.to_datetime(test_df['Date'],format='%Y-%m-%d').dt.strftime(\"%Y-%m\").value_counts().sort_index()"
   ]
  },
  {
   "cell_type": "markdown",
   "metadata": {},
   "source": [
    "Test Dataset comprises data for:\n",
    "- Jun-Sep 2008\n",
    "- Jun-Oct 2010\n",
    "- Jun-Sep 2012\n",
    "- Jun-Oct 2014"
   ]
  },
  {
   "cell_type": "code",
   "execution_count": 20,
   "metadata": {
    "ExecuteTime": {
     "end_time": "2019-11-06T09:10:08.353313Z",
     "start_time": "2019-11-06T09:10:07.501590Z"
    }
   },
   "outputs": [
    {
     "data": {
      "text/html": [
       "<div>\n",
       "<style scoped>\n",
       "    .dataframe tbody tr th:only-of-type {\n",
       "        vertical-align: middle;\n",
       "    }\n",
       "\n",
       "    .dataframe tbody tr th {\n",
       "        vertical-align: top;\n",
       "    }\n",
       "\n",
       "    .dataframe thead th {\n",
       "        text-align: right;\n",
       "    }\n",
       "</style>\n",
       "<table border=\"1\" class=\"dataframe\">\n",
       "  <thead>\n",
       "    <tr style=\"text-align: right;\">\n",
       "      <th></th>\n",
       "      <th>date</th>\n",
       "    </tr>\n",
       "    <tr>\n",
       "      <th>year_month</th>\n",
       "      <th></th>\n",
       "    </tr>\n",
       "  </thead>\n",
       "  <tbody>\n",
       "    <tr>\n",
       "      <th>2008-06</th>\n",
       "      <td>3</td>\n",
       "    </tr>\n",
       "    <tr>\n",
       "      <th>2008-07</th>\n",
       "      <td>9</td>\n",
       "    </tr>\n",
       "    <tr>\n",
       "      <th>2008-08</th>\n",
       "      <td>7</td>\n",
       "    </tr>\n",
       "    <tr>\n",
       "      <th>2008-09</th>\n",
       "      <td>6</td>\n",
       "    </tr>\n",
       "    <tr>\n",
       "      <th>2010-06</th>\n",
       "      <td>5</td>\n",
       "    </tr>\n",
       "    <tr>\n",
       "      <th>2010-07</th>\n",
       "      <td>10</td>\n",
       "    </tr>\n",
       "    <tr>\n",
       "      <th>2010-08</th>\n",
       "      <td>7</td>\n",
       "    </tr>\n",
       "    <tr>\n",
       "      <th>2010-09</th>\n",
       "      <td>7</td>\n",
       "    </tr>\n",
       "    <tr>\n",
       "      <th>2010-10</th>\n",
       "      <td>1</td>\n",
       "    </tr>\n",
       "    <tr>\n",
       "      <th>2012-06</th>\n",
       "      <td>4</td>\n",
       "    </tr>\n",
       "    <tr>\n",
       "      <th>2012-07</th>\n",
       "      <td>5</td>\n",
       "    </tr>\n",
       "    <tr>\n",
       "      <th>2012-08</th>\n",
       "      <td>9</td>\n",
       "    </tr>\n",
       "    <tr>\n",
       "      <th>2012-09</th>\n",
       "      <td>4</td>\n",
       "    </tr>\n",
       "    <tr>\n",
       "      <th>2014-06</th>\n",
       "      <td>4</td>\n",
       "    </tr>\n",
       "    <tr>\n",
       "      <th>2014-07</th>\n",
       "      <td>5</td>\n",
       "    </tr>\n",
       "    <tr>\n",
       "      <th>2014-08</th>\n",
       "      <td>4</td>\n",
       "    </tr>\n",
       "    <tr>\n",
       "      <th>2014-09</th>\n",
       "      <td>4</td>\n",
       "    </tr>\n",
       "    <tr>\n",
       "      <th>2014-10</th>\n",
       "      <td>1</td>\n",
       "    </tr>\n",
       "  </tbody>\n",
       "</table>\n",
       "</div>"
      ],
      "text/plain": [
       "            date\n",
       "year_month      \n",
       "2008-06        3\n",
       "2008-07        9\n",
       "2008-08        7\n",
       "2008-09        6\n",
       "2010-06        5\n",
       "2010-07       10\n",
       "2010-08        7\n",
       "2010-09        7\n",
       "2010-10        1\n",
       "2012-06        4\n",
       "2012-07        5\n",
       "2012-08        9\n",
       "2012-09        4\n",
       "2014-06        4\n",
       "2014-07        5\n",
       "2014-08        4\n",
       "2014-09        4\n",
       "2014-10        1"
      ]
     },
     "execution_count": 20,
     "metadata": {},
     "output_type": "execute_result"
    }
   ],
   "source": [
    "# Check if test data is collected on a consistent basis throughout the period?\n",
    "d = pd.concat([test_df[['Date']] ,pd.to_datetime(test_df['Date']).dt.to_period(\"M\")], axis=1)\n",
    "d.columns = ['date','year_month']\n",
    "d.drop_duplicates().groupby(by=['year_month']).count()"
   ]
  },
  {
   "cell_type": "markdown",
   "metadata": {
    "ExecuteTime": {
     "end_time": "2019-11-06T08:04:34.576988Z",
     "start_time": "2019-11-06T08:04:34.568008Z"
    }
   },
   "source": [
    "Test Data collection frequency is not consistent across months.<br>\n",
    "ie. In Jun 2008 , there are only observation on three day and in Jul 2010, there are 10 observation days."
   ]
  },
  {
   "cell_type": "code",
   "execution_count": 21,
   "metadata": {
    "ExecuteTime": {
     "end_time": "2019-11-06T09:10:09.992311Z",
     "start_time": "2019-11-06T09:10:09.961393Z"
    }
   },
   "outputs": [
    {
     "name": "stdout",
     "output_type": "stream",
     "text": [
      "Date                      813\n",
      "Address                   813\n",
      "Species                   813\n",
      "Block                     813\n",
      "Street                    813\n",
      "Trap                      813\n",
      "AddressNumberAndStreet    813\n",
      "Latitude                  813\n",
      "Longitude                 813\n",
      "AddressAccuracy           813\n",
      "NumMosquitos              813\n",
      "WnvPresent                813\n",
      "dtype: int64\n"
     ]
    }
   ],
   "source": [
    "print(train_df[train_df.duplicated()].count())"
   ]
  },
  {
   "cell_type": "markdown",
   "metadata": {
    "ExecuteTime": {
     "end_time": "2019-11-04T07:09:50.866076Z",
     "start_time": "2019-11-04T07:09:50.858728Z"
    }
   },
   "source": [
    "There are 813 duplicate observations in train dataset due to the test results are organized in such a way that when the number of mosquitos exceed 50, they are split into another row in the dataset.(In short, the number of mosquito of each row are capped at 50)."
   ]
  },
  {
   "cell_type": "code",
   "execution_count": 22,
   "metadata": {
    "ExecuteTime": {
     "end_time": "2019-11-06T09:10:11.712636Z",
     "start_time": "2019-11-06T09:10:11.561040Z"
    }
   },
   "outputs": [
    {
     "name": "stdout",
     "output_type": "stream",
     "text": [
      "Id                        0\n",
      "Date                      0\n",
      "Address                   0\n",
      "Species                   0\n",
      "Block                     0\n",
      "Street                    0\n",
      "Trap                      0\n",
      "AddressNumberAndStreet    0\n",
      "Latitude                  0\n",
      "Longitude                 0\n",
      "AddressAccuracy           0\n",
      "dtype: int64\n"
     ]
    }
   ],
   "source": [
    "print(test_df[test_df.duplicated()].count())"
   ]
  },
  {
   "cell_type": "markdown",
   "metadata": {
    "ExecuteTime": {
     "end_time": "2019-11-04T07:11:17.501524Z",
     "start_time": "2019-11-04T07:11:17.495693Z"
    }
   },
   "source": [
    "There is no duplicate observations in test dataset as there's no 'NumMosquitos' in test dataset."
   ]
  },
  {
   "cell_type": "code",
   "execution_count": 23,
   "metadata": {
    "ExecuteTime": {
     "end_time": "2019-11-06T09:11:21.400750Z",
     "start_time": "2019-11-06T09:11:21.270099Z"
    }
   },
   "outputs": [
    {
     "data": {
      "text/html": [
       "<div>\n",
       "<style scoped>\n",
       "    .dataframe tbody tr th:only-of-type {\n",
       "        vertical-align: middle;\n",
       "    }\n",
       "\n",
       "    .dataframe tbody tr th {\n",
       "        vertical-align: top;\n",
       "    }\n",
       "\n",
       "    .dataframe thead th {\n",
       "        text-align: right;\n",
       "    }\n",
       "</style>\n",
       "<table border=\"1\" class=\"dataframe\">\n",
       "  <thead>\n",
       "    <tr style=\"text-align: right;\">\n",
       "      <th></th>\n",
       "      <th></th>\n",
       "      <th></th>\n",
       "      <th></th>\n",
       "      <th>Block</th>\n",
       "      <th>Latitude</th>\n",
       "      <th>Longitude</th>\n",
       "      <th>AddressAccuracy</th>\n",
       "      <th>NumMosquitos</th>\n",
       "    </tr>\n",
       "    <tr>\n",
       "      <th>Date</th>\n",
       "      <th>Address</th>\n",
       "      <th>Species</th>\n",
       "      <th>WnvPresent</th>\n",
       "      <th></th>\n",
       "      <th></th>\n",
       "      <th></th>\n",
       "      <th></th>\n",
       "      <th></th>\n",
       "    </tr>\n",
       "  </thead>\n",
       "  <tbody>\n",
       "    <tr>\n",
       "      <th rowspan=\"25\" valign=\"top\">2007-05-29</th>\n",
       "      <th rowspan=\"2\" valign=\"top\">1100 Roosevelt Road, Chicago, IL 60608, USA</th>\n",
       "      <th>CULEX PIPIENS/RESTUANS</th>\n",
       "      <th>0</th>\n",
       "      <td>11</td>\n",
       "      <td>41.867108</td>\n",
       "      <td>-87.654224</td>\n",
       "      <td>8</td>\n",
       "      <td>1</td>\n",
       "    </tr>\n",
       "    <tr>\n",
       "      <th>CULEX RESTUANS</th>\n",
       "      <th>0</th>\n",
       "      <td>11</td>\n",
       "      <td>41.867108</td>\n",
       "      <td>-87.654224</td>\n",
       "      <td>8</td>\n",
       "      <td>2</td>\n",
       "    </tr>\n",
       "    <tr>\n",
       "      <th>1100 South Peoria Street, Chicago, IL 60608, USA</th>\n",
       "      <th>CULEX RESTUANS</th>\n",
       "      <th>0</th>\n",
       "      <td>11</td>\n",
       "      <td>41.862292</td>\n",
       "      <td>-87.648860</td>\n",
       "      <td>8</td>\n",
       "      <td>1</td>\n",
       "    </tr>\n",
       "    <tr>\n",
       "      <th>1100 West Chicago Avenue, Chicago, IL 60642, USA</th>\n",
       "      <th>CULEX RESTUANS</th>\n",
       "      <th>0</th>\n",
       "      <td>11</td>\n",
       "      <td>41.896282</td>\n",
       "      <td>-87.655232</td>\n",
       "      <td>8</td>\n",
       "      <td>1</td>\n",
       "    </tr>\n",
       "    <tr>\n",
       "      <th>1500 North Long Avenue, Chicago, IL 60651, USA</th>\n",
       "      <th>CULEX RESTUANS</th>\n",
       "      <th>0</th>\n",
       "      <td>15</td>\n",
       "      <td>41.907645</td>\n",
       "      <td>-87.760886</td>\n",
       "      <td>8</td>\n",
       "      <td>1</td>\n",
       "    </tr>\n",
       "    <tr>\n",
       "      <th>1500 West Webster Avenue, Chicago, IL 60614, USA</th>\n",
       "      <th>CULEX RESTUANS</th>\n",
       "      <th>0</th>\n",
       "      <td>15</td>\n",
       "      <td>41.921600</td>\n",
       "      <td>-87.666455</td>\n",
       "      <td>8</td>\n",
       "      <td>2</td>\n",
       "    </tr>\n",
       "    <tr>\n",
       "      <th>1700 West 95th Street, Chicago, IL 60643, USA</th>\n",
       "      <th>CULEX RESTUANS</th>\n",
       "      <th>0</th>\n",
       "      <td>17</td>\n",
       "      <td>41.720848</td>\n",
       "      <td>-87.666014</td>\n",
       "      <td>9</td>\n",
       "      <td>3</td>\n",
       "    </tr>\n",
       "    <tr>\n",
       "      <th>2100 North Stave Street, Chicago, IL 60647, USA</th>\n",
       "      <th>CULEX PIPIENS/RESTUANS</th>\n",
       "      <th>0</th>\n",
       "      <td>21</td>\n",
       "      <td>41.919343</td>\n",
       "      <td>-87.694259</td>\n",
       "      <td>8</td>\n",
       "      <td>1</td>\n",
       "    </tr>\n",
       "    <tr>\n",
       "      <th rowspan=\"2\" valign=\"top\">2200 North Cannon Drive, Chicago, IL 60614, USA</th>\n",
       "      <th>CULEX PIPIENS/RESTUANS</th>\n",
       "      <th>0</th>\n",
       "      <td>22</td>\n",
       "      <td>41.921965</td>\n",
       "      <td>-87.632085</td>\n",
       "      <td>8</td>\n",
       "      <td>2</td>\n",
       "    </tr>\n",
       "    <tr>\n",
       "      <th>CULEX RESTUANS</th>\n",
       "      <th>0</th>\n",
       "      <td>22</td>\n",
       "      <td>41.921965</td>\n",
       "      <td>-87.632085</td>\n",
       "      <td>8</td>\n",
       "      <td>3</td>\n",
       "    </tr>\n",
       "    <tr>\n",
       "      <th rowspan=\"2\" valign=\"top\">2200 West 113th Street, Chicago, IL 60643, USA</th>\n",
       "      <th>CULEX PIPIENS/RESTUANS</th>\n",
       "      <th>0</th>\n",
       "      <td>22</td>\n",
       "      <td>41.688324</td>\n",
       "      <td>-87.676709</td>\n",
       "      <td>8</td>\n",
       "      <td>1</td>\n",
       "    </tr>\n",
       "    <tr>\n",
       "      <th>CULEX RESTUANS</th>\n",
       "      <th>0</th>\n",
       "      <td>22</td>\n",
       "      <td>41.688324</td>\n",
       "      <td>-87.676709</td>\n",
       "      <td>8</td>\n",
       "      <td>1</td>\n",
       "    </tr>\n",
       "    <tr>\n",
       "      <th rowspan=\"2\" valign=\"top\">2200 West 89th Street, Chicago, IL 60643, USA</th>\n",
       "      <th>CULEX PIPIENS</th>\n",
       "      <th>0</th>\n",
       "      <td>22</td>\n",
       "      <td>41.731922</td>\n",
       "      <td>-87.677512</td>\n",
       "      <td>8</td>\n",
       "      <td>1</td>\n",
       "    </tr>\n",
       "    <tr>\n",
       "      <th>CULEX RESTUANS</th>\n",
       "      <th>0</th>\n",
       "      <td>22</td>\n",
       "      <td>41.731922</td>\n",
       "      <td>-87.677512</td>\n",
       "      <td>8</td>\n",
       "      <td>5</td>\n",
       "    </tr>\n",
       "    <tr>\n",
       "      <th>2500 West Grand Avenue, Chicago, IL 60654, USA</th>\n",
       "      <th>CULEX RESTUANS</th>\n",
       "      <th>0</th>\n",
       "      <td>25</td>\n",
       "      <td>41.891118</td>\n",
       "      <td>-87.654491</td>\n",
       "      <td>8</td>\n",
       "      <td>1</td>\n",
       "    </tr>\n",
       "    <tr>\n",
       "      <th rowspan=\"2\" valign=\"top\">4100 North Oak Park Avenue, Chicago, IL 60634, USA</th>\n",
       "      <th>CULEX PIPIENS/RESTUANS</th>\n",
       "      <th>0</th>\n",
       "      <td>41</td>\n",
       "      <td>41.954690</td>\n",
       "      <td>-87.800991</td>\n",
       "      <td>9</td>\n",
       "      <td>1</td>\n",
       "    </tr>\n",
       "    <tr>\n",
       "      <th>CULEX RESTUANS</th>\n",
       "      <th>0</th>\n",
       "      <td>41</td>\n",
       "      <td>41.954690</td>\n",
       "      <td>-87.800991</td>\n",
       "      <td>9</td>\n",
       "      <td>1</td>\n",
       "    </tr>\n",
       "    <tr>\n",
       "      <th>6200 North Mandell Avenue, Chicago, IL 60646, USA</th>\n",
       "      <th>CULEX RESTUANS</th>\n",
       "      <th>0</th>\n",
       "      <td>62</td>\n",
       "      <td>41.994991</td>\n",
       "      <td>-87.769279</td>\n",
       "      <td>9</td>\n",
       "      <td>1</td>\n",
       "    </tr>\n",
       "    <tr>\n",
       "      <th>6500 North Oak Park Avenue, Chicago, IL 60631, USA</th>\n",
       "      <th>CULEX PIPIENS/RESTUANS</th>\n",
       "      <th>0</th>\n",
       "      <td>65</td>\n",
       "      <td>41.999129</td>\n",
       "      <td>-87.795585</td>\n",
       "      <td>8</td>\n",
       "      <td>1</td>\n",
       "    </tr>\n",
       "    <tr>\n",
       "      <th>7500 North Oakley Avenue, Chicago, IL 60645, USA</th>\n",
       "      <th>CULEX PIPIENS/RESTUANS</th>\n",
       "      <th>0</th>\n",
       "      <td>75</td>\n",
       "      <td>42.017430</td>\n",
       "      <td>-87.687769</td>\n",
       "      <td>8</td>\n",
       "      <td>1</td>\n",
       "    </tr>\n",
       "    <tr>\n",
       "      <th rowspan=\"2\" valign=\"top\">7900 West Foster Avenue, Chicago, IL 60656, USA</th>\n",
       "      <th>CULEX PIPIENS/RESTUANS</th>\n",
       "      <th>0</th>\n",
       "      <td>79</td>\n",
       "      <td>41.974089</td>\n",
       "      <td>-87.824812</td>\n",
       "      <td>8</td>\n",
       "      <td>1</td>\n",
       "    </tr>\n",
       "    <tr>\n",
       "      <th>CULEX RESTUANS</th>\n",
       "      <th>0</th>\n",
       "      <td>79</td>\n",
       "      <td>41.974089</td>\n",
       "      <td>-87.824812</td>\n",
       "      <td>8</td>\n",
       "      <td>4</td>\n",
       "    </tr>\n",
       "    <tr>\n",
       "      <th>8900 South Carpenter Street, Chicago, IL 60620, USA</th>\n",
       "      <th>CULEX RESTUANS</th>\n",
       "      <th>0</th>\n",
       "      <td>89</td>\n",
       "      <td>41.732984</td>\n",
       "      <td>-87.649642</td>\n",
       "      <td>8</td>\n",
       "      <td>1</td>\n",
       "    </tr>\n",
       "    <tr>\n",
       "      <th rowspan=\"2\" valign=\"top\">North Streeter Drive, Chicago, IL 60611, USA</th>\n",
       "      <th>CULEX PIPIENS/RESTUANS</th>\n",
       "      <th>0</th>\n",
       "      <td>53</td>\n",
       "      <td>41.891126</td>\n",
       "      <td>-87.611560</td>\n",
       "      <td>5</td>\n",
       "      <td>1</td>\n",
       "    </tr>\n",
       "    <tr>\n",
       "      <th>CULEX RESTUANS</th>\n",
       "      <th>0</th>\n",
       "      <td>53</td>\n",
       "      <td>41.891126</td>\n",
       "      <td>-87.611560</td>\n",
       "      <td>5</td>\n",
       "      <td>2</td>\n",
       "    </tr>\n",
       "    <tr>\n",
       "      <th rowspan=\"25\" valign=\"top\">2007-06-05</th>\n",
       "      <th rowspan=\"3\" valign=\"top\">1100 Roosevelt Road, Chicago, IL 60608, USA</th>\n",
       "      <th>CULEX PIPIENS</th>\n",
       "      <th>0</th>\n",
       "      <td>11</td>\n",
       "      <td>41.867108</td>\n",
       "      <td>-87.654224</td>\n",
       "      <td>8</td>\n",
       "      <td>2</td>\n",
       "    </tr>\n",
       "    <tr>\n",
       "      <th>CULEX PIPIENS/RESTUANS</th>\n",
       "      <th>0</th>\n",
       "      <td>11</td>\n",
       "      <td>41.867108</td>\n",
       "      <td>-87.654224</td>\n",
       "      <td>8</td>\n",
       "      <td>1</td>\n",
       "    </tr>\n",
       "    <tr>\n",
       "      <th>CULEX RESTUANS</th>\n",
       "      <th>0</th>\n",
       "      <td>11</td>\n",
       "      <td>41.867108</td>\n",
       "      <td>-87.654224</td>\n",
       "      <td>8</td>\n",
       "      <td>1</td>\n",
       "    </tr>\n",
       "    <tr>\n",
       "      <th>1100 South State Street, Chicago, IL 60605, USA</th>\n",
       "      <th>CULEX PIPIENS/RESTUANS</th>\n",
       "      <th>0</th>\n",
       "      <td>11</td>\n",
       "      <td>41.869216</td>\n",
       "      <td>-87.627561</td>\n",
       "      <td>8</td>\n",
       "      <td>1</td>\n",
       "    </tr>\n",
       "    <tr>\n",
       "      <th>1100 West Chicago Avenue, Chicago, IL 60642, USA</th>\n",
       "      <th>CULEX RESTUANS</th>\n",
       "      <th>0</th>\n",
       "      <td>11</td>\n",
       "      <td>41.896282</td>\n",
       "      <td>-87.655232</td>\n",
       "      <td>8</td>\n",
       "      <td>2</td>\n",
       "    </tr>\n",
       "    <tr>\n",
       "      <th>1400 North Sacramento Avenue, Chicago, IL 60622, USA</th>\n",
       "      <th>CULEX RESTUANS</th>\n",
       "      <th>0</th>\n",
       "      <td>14</td>\n",
       "      <td>41.906638</td>\n",
       "      <td>-87.701431</td>\n",
       "      <td>9</td>\n",
       "      <td>3</td>\n",
       "    </tr>\n",
       "    <tr>\n",
       "      <th>1500 North Long Avenue, Chicago, IL 60651, USA</th>\n",
       "      <th>CULEX RESTUANS</th>\n",
       "      <th>0</th>\n",
       "      <td>15</td>\n",
       "      <td>41.907645</td>\n",
       "      <td>-87.760886</td>\n",
       "      <td>8</td>\n",
       "      <td>3</td>\n",
       "    </tr>\n",
       "    <tr>\n",
       "      <th>1500 West Granville Avenue, Chicago, IL 60660, USA</th>\n",
       "      <th>CULEX PIPIENS/RESTUANS</th>\n",
       "      <th>0</th>\n",
       "      <td>15</td>\n",
       "      <td>41.994469</td>\n",
       "      <td>-87.667736</td>\n",
       "      <td>8</td>\n",
       "      <td>1</td>\n",
       "    </tr>\n",
       "    <tr>\n",
       "      <th rowspan=\"3\" valign=\"top\">1500 West Webster Avenue, Chicago, IL 60614, USA</th>\n",
       "      <th>CULEX PIPIENS</th>\n",
       "      <th>0</th>\n",
       "      <td>15</td>\n",
       "      <td>41.921600</td>\n",
       "      <td>-87.666455</td>\n",
       "      <td>8</td>\n",
       "      <td>1</td>\n",
       "    </tr>\n",
       "    <tr>\n",
       "      <th>CULEX PIPIENS/RESTUANS</th>\n",
       "      <th>0</th>\n",
       "      <td>15</td>\n",
       "      <td>41.921600</td>\n",
       "      <td>-87.666455</td>\n",
       "      <td>8</td>\n",
       "      <td>1</td>\n",
       "    </tr>\n",
       "    <tr>\n",
       "      <th>CULEX RESTUANS</th>\n",
       "      <th>0</th>\n",
       "      <td>15</td>\n",
       "      <td>41.921600</td>\n",
       "      <td>-87.666455</td>\n",
       "      <td>8</td>\n",
       "      <td>2</td>\n",
       "    </tr>\n",
       "    <tr>\n",
       "      <th>1700 West 95th Street, Chicago, IL 60643, USA</th>\n",
       "      <th>CULEX PIPIENS/RESTUANS</th>\n",
       "      <th>0</th>\n",
       "      <td>17</td>\n",
       "      <td>41.720848</td>\n",
       "      <td>-87.666014</td>\n",
       "      <td>9</td>\n",
       "      <td>2</td>\n",
       "    </tr>\n",
       "    <tr>\n",
       "      <th>1800 West Farwell Avenue, Chicago, IL 60626, USA</th>\n",
       "      <th>CULEX RESTUANS</th>\n",
       "      <th>0</th>\n",
       "      <td>18</td>\n",
       "      <td>42.006858</td>\n",
       "      <td>-87.675919</td>\n",
       "      <td>9</td>\n",
       "      <td>2</td>\n",
       "    </tr>\n",
       "    <tr>\n",
       "      <th>2100 North Lawler Avenue, Chicago, IL 60639, USA</th>\n",
       "      <th>CULEX RESTUANS</th>\n",
       "      <th>0</th>\n",
       "      <td>21</td>\n",
       "      <td>41.918705</td>\n",
       "      <td>-87.752329</td>\n",
       "      <td>8</td>\n",
       "      <td>1</td>\n",
       "    </tr>\n",
       "    <tr>\n",
       "      <th rowspan=\"2\" valign=\"top\">2100 North Stave Street, Chicago, IL 60647, USA</th>\n",
       "      <th>CULEX PIPIENS/RESTUANS</th>\n",
       "      <th>0</th>\n",
       "      <td>21</td>\n",
       "      <td>41.919343</td>\n",
       "      <td>-87.694259</td>\n",
       "      <td>8</td>\n",
       "      <td>1</td>\n",
       "    </tr>\n",
       "    <tr>\n",
       "      <th>CULEX RESTUANS</th>\n",
       "      <th>0</th>\n",
       "      <td>21</td>\n",
       "      <td>41.919343</td>\n",
       "      <td>-87.694259</td>\n",
       "      <td>8</td>\n",
       "      <td>1</td>\n",
       "    </tr>\n",
       "    <tr>\n",
       "      <th>2200 North Cannon Drive, Chicago, IL 60614, USA</th>\n",
       "      <th>CULEX RESTUANS</th>\n",
       "      <th>0</th>\n",
       "      <td>22</td>\n",
       "      <td>41.921965</td>\n",
       "      <td>-87.632085</td>\n",
       "      <td>8</td>\n",
       "      <td>3</td>\n",
       "    </tr>\n",
       "    <tr>\n",
       "      <th>2200 West 113th Street, Chicago, IL 60643, USA</th>\n",
       "      <th>CULEX RESTUANS</th>\n",
       "      <th>0</th>\n",
       "      <td>22</td>\n",
       "      <td>41.688324</td>\n",
       "      <td>-87.676709</td>\n",
       "      <td>8</td>\n",
       "      <td>4</td>\n",
       "    </tr>\n",
       "    <tr>\n",
       "      <th rowspan=\"3\" valign=\"top\">2200 West 89th Street, Chicago, IL 60643, USA</th>\n",
       "      <th>CULEX PIPIENS</th>\n",
       "      <th>0</th>\n",
       "      <td>22</td>\n",
       "      <td>41.731922</td>\n",
       "      <td>-87.677512</td>\n",
       "      <td>8</td>\n",
       "      <td>1</td>\n",
       "    </tr>\n",
       "    <tr>\n",
       "      <th>CULEX PIPIENS/RESTUANS</th>\n",
       "      <th>0</th>\n",
       "      <td>22</td>\n",
       "      <td>41.731922</td>\n",
       "      <td>-87.677512</td>\n",
       "      <td>8</td>\n",
       "      <td>1</td>\n",
       "    </tr>\n",
       "    <tr>\n",
       "      <th>CULEX RESTUANS</th>\n",
       "      <th>0</th>\n",
       "      <td>22</td>\n",
       "      <td>41.731922</td>\n",
       "      <td>-87.677512</td>\n",
       "      <td>8</td>\n",
       "      <td>1</td>\n",
       "    </tr>\n",
       "    <tr>\n",
       "      <th>2500 South Millard Avenue, Chicago, IL 60623, USA</th>\n",
       "      <th>CULEX RESTUANS</th>\n",
       "      <th>0</th>\n",
       "      <td>25</td>\n",
       "      <td>41.846075</td>\n",
       "      <td>-87.716277</td>\n",
       "      <td>9</td>\n",
       "      <td>1</td>\n",
       "    </tr>\n",
       "    <tr>\n",
       "      <th>2500 West Grand Avenue, Chicago, IL 60654, USA</th>\n",
       "      <th>CULEX RESTUANS</th>\n",
       "      <th>0</th>\n",
       "      <td>25</td>\n",
       "      <td>41.891118</td>\n",
       "      <td>-87.654491</td>\n",
       "      <td>8</td>\n",
       "      <td>1</td>\n",
       "    </tr>\n",
       "    <tr>\n",
       "      <th>2800 North Francisco Avenue, Chicago, IL 60618, USA</th>\n",
       "      <th>CULEX RESTUANS</th>\n",
       "      <th>0</th>\n",
       "      <td>28</td>\n",
       "      <td>41.932094</td>\n",
       "      <td>-87.700117</td>\n",
       "      <td>8</td>\n",
       "      <td>1</td>\n",
       "    </tr>\n",
       "    <tr>\n",
       "      <th>3500 West 116th Street, Chicago, IL 60655, USA</th>\n",
       "      <th>CULEX PIPIENS/RESTUANS</th>\n",
       "      <th>0</th>\n",
       "      <td>35</td>\n",
       "      <td>41.682587</td>\n",
       "      <td>-87.707973</td>\n",
       "      <td>9</td>\n",
       "      <td>3</td>\n",
       "    </tr>\n",
       "    <tr>\n",
       "      <th>...</th>\n",
       "      <th>...</th>\n",
       "      <th>...</th>\n",
       "      <th>...</th>\n",
       "      <td>...</td>\n",
       "      <td>...</td>\n",
       "      <td>...</td>\n",
       "      <td>...</td>\n",
       "      <td>...</td>\n",
       "    </tr>\n",
       "    <tr>\n",
       "      <th rowspan=\"50\" valign=\"top\">2013-09-26</th>\n",
       "      <th>4200 West 65th Street, Chicago, IL 60621, USA</th>\n",
       "      <th>CULEX PIPIENS/RESTUANS</th>\n",
       "      <th>0</th>\n",
       "      <td>42</td>\n",
       "      <td>41.776428</td>\n",
       "      <td>-87.627096</td>\n",
       "      <td>8</td>\n",
       "      <td>1</td>\n",
       "    </tr>\n",
       "    <tr>\n",
       "      <th>4500 North Campbell Avenue, Chicago, IL 60625, USA</th>\n",
       "      <th>CULEX RESTUANS</th>\n",
       "      <th>0</th>\n",
       "      <td>45</td>\n",
       "      <td>41.963976</td>\n",
       "      <td>-87.691810</td>\n",
       "      <td>9</td>\n",
       "      <td>8</td>\n",
       "    </tr>\n",
       "    <tr>\n",
       "      <th rowspan=\"2\" valign=\"top\">4600 Milwaukee Avenue, Chicago, IL 60630, USA</th>\n",
       "      <th>CULEX PIPIENS</th>\n",
       "      <th>1</th>\n",
       "      <td>46</td>\n",
       "      <td>41.964242</td>\n",
       "      <td>-87.757639</td>\n",
       "      <td>8</td>\n",
       "      <td>3</td>\n",
       "    </tr>\n",
       "    <tr>\n",
       "      <th>CULEX PIPIENS/RESTUANS</th>\n",
       "      <th>0</th>\n",
       "      <td>46</td>\n",
       "      <td>41.964242</td>\n",
       "      <td>-87.757639</td>\n",
       "      <td>8</td>\n",
       "      <td>10</td>\n",
       "    </tr>\n",
       "    <tr>\n",
       "      <th>4800 West Montana Street, Chicago, IL 60639, USA</th>\n",
       "      <th>CULEX PIPIENS/RESTUANS</th>\n",
       "      <th>0</th>\n",
       "      <td>48</td>\n",
       "      <td>41.925198</td>\n",
       "      <td>-87.746381</td>\n",
       "      <td>8</td>\n",
       "      <td>1</td>\n",
       "    </tr>\n",
       "    <tr>\n",
       "      <th rowspan=\"2\" valign=\"top\">5000 South Central Avenue, Chicago, IL 60638, USA</th>\n",
       "      <th>CULEX PIPIENS</th>\n",
       "      <th>0</th>\n",
       "      <td>50</td>\n",
       "      <td>41.801498</td>\n",
       "      <td>-87.763416</td>\n",
       "      <td>9</td>\n",
       "      <td>4</td>\n",
       "    </tr>\n",
       "    <tr>\n",
       "      <th>CULEX PIPIENS/RESTUANS</th>\n",
       "      <th>0</th>\n",
       "      <td>50</td>\n",
       "      <td>41.801498</td>\n",
       "      <td>-87.763416</td>\n",
       "      <td>9</td>\n",
       "      <td>2</td>\n",
       "    </tr>\n",
       "    <tr>\n",
       "      <th rowspan=\"2\" valign=\"top\">5000 South Union Avenue, Chicago, IL 60609, USA</th>\n",
       "      <th>CULEX PIPIENS/RESTUANS</th>\n",
       "      <th>0</th>\n",
       "      <td>50</td>\n",
       "      <td>41.803423</td>\n",
       "      <td>-87.642984</td>\n",
       "      <td>8</td>\n",
       "      <td>2</td>\n",
       "    </tr>\n",
       "    <tr>\n",
       "      <th>CULEX RESTUANS</th>\n",
       "      <th>0</th>\n",
       "      <td>50</td>\n",
       "      <td>41.803423</td>\n",
       "      <td>-87.642984</td>\n",
       "      <td>8</td>\n",
       "      <td>2</td>\n",
       "    </tr>\n",
       "    <tr>\n",
       "      <th rowspan=\"2\" valign=\"top\">5100 North Mont Clare Avenue, Chicago, IL 60656, USA</th>\n",
       "      <th>CULEX PIPIENS</th>\n",
       "      <th>0</th>\n",
       "      <td>51</td>\n",
       "      <td>41.973845</td>\n",
       "      <td>-87.805059</td>\n",
       "      <td>9</td>\n",
       "      <td>1</td>\n",
       "    </tr>\n",
       "    <tr>\n",
       "      <th>CULEX PIPIENS/RESTUANS</th>\n",
       "      <th>0</th>\n",
       "      <td>51</td>\n",
       "      <td>41.973845</td>\n",
       "      <td>-87.805059</td>\n",
       "      <td>9</td>\n",
       "      <td>11</td>\n",
       "    </tr>\n",
       "    <tr>\n",
       "      <th>5100 West 72nd Street, Chicago, IL 60638, USA</th>\n",
       "      <th>CULEX PIPIENS/RESTUANS</th>\n",
       "      <th>1</th>\n",
       "      <td>51</td>\n",
       "      <td>41.763733</td>\n",
       "      <td>-87.742302</td>\n",
       "      <td>8</td>\n",
       "      <td>6</td>\n",
       "    </tr>\n",
       "    <tr>\n",
       "      <th rowspan=\"2\" valign=\"top\">5200 South Kolmar Avenue, Chicago, IL 60632, USA</th>\n",
       "      <th>CULEX PIPIENS</th>\n",
       "      <th>0</th>\n",
       "      <td>52</td>\n",
       "      <td>41.798697</td>\n",
       "      <td>-87.736812</td>\n",
       "      <td>8</td>\n",
       "      <td>2</td>\n",
       "    </tr>\n",
       "    <tr>\n",
       "      <th>CULEX PIPIENS/RESTUANS</th>\n",
       "      <th>0</th>\n",
       "      <td>52</td>\n",
       "      <td>41.798697</td>\n",
       "      <td>-87.736812</td>\n",
       "      <td>8</td>\n",
       "      <td>2</td>\n",
       "    </tr>\n",
       "    <tr>\n",
       "      <th>5800 North Pulaski Road, Chicago, IL 60646, USA</th>\n",
       "      <th>CULEX PIPIENS</th>\n",
       "      <th>0</th>\n",
       "      <td>58</td>\n",
       "      <td>41.984809</td>\n",
       "      <td>-87.728492</td>\n",
       "      <td>8</td>\n",
       "      <td>5</td>\n",
       "    </tr>\n",
       "    <tr>\n",
       "      <th>5800 North Ridge Avenue, Chicago, IL 60660, USA</th>\n",
       "      <th>CULEX PIPIENS/RESTUANS</th>\n",
       "      <th>0</th>\n",
       "      <td>58</td>\n",
       "      <td>41.987280</td>\n",
       "      <td>-87.666066</td>\n",
       "      <td>8</td>\n",
       "      <td>5</td>\n",
       "    </tr>\n",
       "    <tr>\n",
       "      <th>6000 West Montrose Avenue, Chicago, IL 60634, USA</th>\n",
       "      <th>CULEX PIPIENS</th>\n",
       "      <th>0</th>\n",
       "      <td>60</td>\n",
       "      <td>41.960616</td>\n",
       "      <td>-87.777189</td>\n",
       "      <td>9</td>\n",
       "      <td>2</td>\n",
       "    </tr>\n",
       "    <tr>\n",
       "      <th>6100 North Lemont Avenue, Chicago, IL 60646, USA</th>\n",
       "      <th>CULEX PIPIENS/RESTUANS</th>\n",
       "      <th>0</th>\n",
       "      <td>61</td>\n",
       "      <td>41.991429</td>\n",
       "      <td>-87.747113</td>\n",
       "      <td>8</td>\n",
       "      <td>2</td>\n",
       "    </tr>\n",
       "    <tr>\n",
       "      <th>6100 West Fullerton Avenue, Chicago, IL 60639, USA</th>\n",
       "      <th>CULEX PIPIENS/RESTUANS</th>\n",
       "      <th>0</th>\n",
       "      <td>61</td>\n",
       "      <td>41.923738</td>\n",
       "      <td>-87.785288</td>\n",
       "      <td>9</td>\n",
       "      <td>5</td>\n",
       "    </tr>\n",
       "    <tr>\n",
       "      <th>6300 West 64th Street, Chicago, IL 60638, USA</th>\n",
       "      <th>CULEX PIPIENS/RESTUANS</th>\n",
       "      <th>1</th>\n",
       "      <td>63</td>\n",
       "      <td>41.776156</td>\n",
       "      <td>-87.778927</td>\n",
       "      <td>9</td>\n",
       "      <td>4</td>\n",
       "    </tr>\n",
       "    <tr>\n",
       "      <th>6700 South Kedzie Avenue, Chicago, IL 60629, USA</th>\n",
       "      <th>CULEX PIPIENS</th>\n",
       "      <th>0</th>\n",
       "      <td>67</td>\n",
       "      <td>41.771660</td>\n",
       "      <td>-87.703047</td>\n",
       "      <td>8</td>\n",
       "      <td>6</td>\n",
       "    </tr>\n",
       "    <tr>\n",
       "      <th>7000 North Moselle Avenue, Chicago, IL 60646, USA</th>\n",
       "      <th>CULEX PIPIENS/RESTUANS</th>\n",
       "      <th>0</th>\n",
       "      <td>70</td>\n",
       "      <td>42.008314</td>\n",
       "      <td>-87.777921</td>\n",
       "      <td>9</td>\n",
       "      <td>10</td>\n",
       "    </tr>\n",
       "    <tr>\n",
       "      <th>7000 West Armitage Avenue, Chicago, IL 60707, USA</th>\n",
       "      <th>CULEX PIPIENS/RESTUANS</th>\n",
       "      <th>0</th>\n",
       "      <td>70</td>\n",
       "      <td>41.916265</td>\n",
       "      <td>-87.800515</td>\n",
       "      <td>8</td>\n",
       "      <td>8</td>\n",
       "    </tr>\n",
       "    <tr>\n",
       "      <th>7100 North Harlem Avenue, Chicago, IL 60631, USA</th>\n",
       "      <th>CULEX PIPIENS/RESTUANS</th>\n",
       "      <th>0</th>\n",
       "      <td>71</td>\n",
       "      <td>42.009876</td>\n",
       "      <td>-87.807277</td>\n",
       "      <td>9</td>\n",
       "      <td>5</td>\n",
       "    </tr>\n",
       "    <tr>\n",
       "      <th>7100 South South Shore Drive, Chicago, IL 60649, USA</th>\n",
       "      <th>CULEX PIPIENS/RESTUANS</th>\n",
       "      <th>0</th>\n",
       "      <td>71</td>\n",
       "      <td>41.766202</td>\n",
       "      <td>-87.562889</td>\n",
       "      <td>9</td>\n",
       "      <td>1</td>\n",
       "    </tr>\n",
       "    <tr>\n",
       "      <th>7900 South South Chicago Avenue, Chicago, IL 60617, USA</th>\n",
       "      <th>CULEX PIPIENS/RESTUANS</th>\n",
       "      <th>0</th>\n",
       "      <td>79</td>\n",
       "      <td>41.754292</td>\n",
       "      <td>-87.590773</td>\n",
       "      <td>9</td>\n",
       "      <td>2</td>\n",
       "    </tr>\n",
       "    <tr>\n",
       "      <th>8200 South Kostner Avenue, Chicago, IL 60652, USA</th>\n",
       "      <th>CULEX PIPIENS/RESTUANS</th>\n",
       "      <th>0</th>\n",
       "      <td>82</td>\n",
       "      <td>41.743402</td>\n",
       "      <td>-87.731435</td>\n",
       "      <td>8</td>\n",
       "      <td>3</td>\n",
       "    </tr>\n",
       "    <tr>\n",
       "      <th rowspan=\"2\" valign=\"top\">8900 South Carpenter Street, Chicago, IL 60620, USA</th>\n",
       "      <th>CULEX PIPIENS</th>\n",
       "      <th>0</th>\n",
       "      <td>89</td>\n",
       "      <td>41.732984</td>\n",
       "      <td>-87.649642</td>\n",
       "      <td>8</td>\n",
       "      <td>6</td>\n",
       "    </tr>\n",
       "    <tr>\n",
       "      <th>CULEX PIPIENS/RESTUANS</th>\n",
       "      <th>0</th>\n",
       "      <td>89</td>\n",
       "      <td>41.732984</td>\n",
       "      <td>-87.649642</td>\n",
       "      <td>8</td>\n",
       "      <td>21</td>\n",
       "    </tr>\n",
       "    <tr>\n",
       "      <th>8900 South Muskegon Avenue, Chicago, IL 60617, USA</th>\n",
       "      <th>CULEX PIPIENS/RESTUANS</th>\n",
       "      <th>0</th>\n",
       "      <td>89</td>\n",
       "      <td>41.733643</td>\n",
       "      <td>-87.555510</td>\n",
       "      <td>8</td>\n",
       "      <td>5</td>\n",
       "    </tr>\n",
       "    <tr>\n",
       "      <th>9100 West Higgins Road, Rosemont, IL 60018, USA</th>\n",
       "      <th>CULEX RESTUANS</th>\n",
       "      <th>0</th>\n",
       "      <td>91</td>\n",
       "      <td>41.992478</td>\n",
       "      <td>-87.862995</td>\n",
       "      <td>8</td>\n",
       "      <td>1</td>\n",
       "    </tr>\n",
       "    <tr>\n",
       "      <th>Chicago, IL, USA</th>\n",
       "      <th>CULEX PIPIENS</th>\n",
       "      <th>0</th>\n",
       "      <td>43</td>\n",
       "      <td>41.878114</td>\n",
       "      <td>-87.629798</td>\n",
       "      <td>3</td>\n",
       "      <td>2</td>\n",
       "    </tr>\n",
       "    <tr>\n",
       "      <th rowspan=\"2\" valign=\"top\">East 91st Place, Chicago, IL, USA</th>\n",
       "      <th>CULEX PIPIENS</th>\n",
       "      <th>0</th>\n",
       "      <td>65</td>\n",
       "      <td>41.728495</td>\n",
       "      <td>-87.600963</td>\n",
       "      <td>5</td>\n",
       "      <td>1</td>\n",
       "    </tr>\n",
       "    <tr>\n",
       "      <th>CULEX PIPIENS/RESTUANS</th>\n",
       "      <th>0</th>\n",
       "      <td>65</td>\n",
       "      <td>41.728495</td>\n",
       "      <td>-87.600963</td>\n",
       "      <td>5</td>\n",
       "      <td>7</td>\n",
       "    </tr>\n",
       "    <tr>\n",
       "      <th rowspan=\"3\" valign=\"top\">ORD Terminal 5, O'Hare International Airport, Chicago, IL 60666, USA</th>\n",
       "      <th>CULEX PIPIENS</th>\n",
       "      <th>0</th>\n",
       "      <td>40</td>\n",
       "      <td>167.898756</td>\n",
       "      <td>-351.562460</td>\n",
       "      <td>36</td>\n",
       "      <td>37</td>\n",
       "    </tr>\n",
       "    <tr>\n",
       "      <th rowspan=\"2\" valign=\"top\">CULEX PIPIENS/RESTUANS</th>\n",
       "      <th>0</th>\n",
       "      <td>10</td>\n",
       "      <td>41.974689</td>\n",
       "      <td>-87.890615</td>\n",
       "      <td>9</td>\n",
       "      <td>4</td>\n",
       "    </tr>\n",
       "    <tr>\n",
       "      <th>1</th>\n",
       "      <td>10</td>\n",
       "      <td>41.974689</td>\n",
       "      <td>-87.890615</td>\n",
       "      <td>9</td>\n",
       "      <td>39</td>\n",
       "    </tr>\n",
       "    <tr>\n",
       "      <th rowspan=\"3\" valign=\"top\">South Brandon Avenue, Chicago, IL 60617, USA</th>\n",
       "      <th>CULEX PIPIENS</th>\n",
       "      <th>0</th>\n",
       "      <td>13</td>\n",
       "      <td>41.740641</td>\n",
       "      <td>-87.546587</td>\n",
       "      <td>5</td>\n",
       "      <td>6</td>\n",
       "    </tr>\n",
       "    <tr>\n",
       "      <th>CULEX PIPIENS/RESTUANS</th>\n",
       "      <th>0</th>\n",
       "      <td>13</td>\n",
       "      <td>41.740641</td>\n",
       "      <td>-87.546587</td>\n",
       "      <td>5</td>\n",
       "      <td>11</td>\n",
       "    </tr>\n",
       "    <tr>\n",
       "      <th>CULEX RESTUANS</th>\n",
       "      <th>0</th>\n",
       "      <td>13</td>\n",
       "      <td>41.740641</td>\n",
       "      <td>-87.546587</td>\n",
       "      <td>5</td>\n",
       "      <td>1</td>\n",
       "    </tr>\n",
       "    <tr>\n",
       "      <th rowspan=\"3\" valign=\"top\">South Cottage Grove Avenue, Chicago, IL, USA</th>\n",
       "      <th>CULEX PIPIENS</th>\n",
       "      <th>0</th>\n",
       "      <td>10</td>\n",
       "      <td>41.750498</td>\n",
       "      <td>-87.605294</td>\n",
       "      <td>5</td>\n",
       "      <td>1</td>\n",
       "    </tr>\n",
       "    <tr>\n",
       "      <th>CULEX PIPIENS/RESTUANS</th>\n",
       "      <th>0</th>\n",
       "      <td>10</td>\n",
       "      <td>41.750498</td>\n",
       "      <td>-87.605294</td>\n",
       "      <td>5</td>\n",
       "      <td>2</td>\n",
       "    </tr>\n",
       "    <tr>\n",
       "      <th>CULEX RESTUANS</th>\n",
       "      <th>0</th>\n",
       "      <td>10</td>\n",
       "      <td>41.750498</td>\n",
       "      <td>-87.605294</td>\n",
       "      <td>5</td>\n",
       "      <td>1</td>\n",
       "    </tr>\n",
       "    <tr>\n",
       "      <th rowspan=\"2\" valign=\"top\">South Doty Avenue, Chicago, IL, USA</th>\n",
       "      <th>CULEX PIPIENS</th>\n",
       "      <th>0</th>\n",
       "      <td>12</td>\n",
       "      <td>41.673408</td>\n",
       "      <td>-87.599862</td>\n",
       "      <td>5</td>\n",
       "      <td>2</td>\n",
       "    </tr>\n",
       "    <tr>\n",
       "      <th>CULEX PIPIENS/RESTUANS</th>\n",
       "      <th>0</th>\n",
       "      <td>12</td>\n",
       "      <td>41.673408</td>\n",
       "      <td>-87.599862</td>\n",
       "      <td>5</td>\n",
       "      <td>5</td>\n",
       "    </tr>\n",
       "    <tr>\n",
       "      <th rowspan=\"2\" valign=\"top\">South Stony Island Avenue, Chicago, IL, USA</th>\n",
       "      <th>CULEX PIPIENS</th>\n",
       "      <th>0</th>\n",
       "      <td>10</td>\n",
       "      <td>41.726465</td>\n",
       "      <td>-87.585413</td>\n",
       "      <td>5</td>\n",
       "      <td>6</td>\n",
       "    </tr>\n",
       "    <tr>\n",
       "      <th>CULEX PIPIENS/RESTUANS</th>\n",
       "      <th>0</th>\n",
       "      <td>10</td>\n",
       "      <td>41.726465</td>\n",
       "      <td>-87.585413</td>\n",
       "      <td>5</td>\n",
       "      <td>4</td>\n",
       "    </tr>\n",
       "    <tr>\n",
       "      <th>South Vincennes Avenue, Chicago, IL, USA</th>\n",
       "      <th>CULEX PIPIENS/RESTUANS</th>\n",
       "      <th>0</th>\n",
       "      <td>10</td>\n",
       "      <td>41.723195</td>\n",
       "      <td>-87.649970</td>\n",
       "      <td>5</td>\n",
       "      <td>4</td>\n",
       "    </tr>\n",
       "    <tr>\n",
       "      <th>University of Illinois at Chicago, 1100 South Ashland Avenue, Chicago, IL 60607, USA</th>\n",
       "      <th>CULEX PIPIENS/RESTUANS</th>\n",
       "      <th>0</th>\n",
       "      <td>11</td>\n",
       "      <td>41.868077</td>\n",
       "      <td>-87.666901</td>\n",
       "      <td>9</td>\n",
       "      <td>2</td>\n",
       "    </tr>\n",
       "    <tr>\n",
       "      <th>West Garfield Boulevard, Chicago, IL, USA</th>\n",
       "      <th>CULEX PIPIENS/RESTUANS</th>\n",
       "      <th>0</th>\n",
       "      <td>90</td>\n",
       "      <td>41.793818</td>\n",
       "      <td>-87.654234</td>\n",
       "      <td>5</td>\n",
       "      <td>8</td>\n",
       "    </tr>\n",
       "  </tbody>\n",
       "</table>\n",
       "<p>8610 rows × 5 columns</p>\n",
       "</div>"
      ],
      "text/plain": [
       "                                                                                                 Block  \\\n",
       "Date       Address                                            Species                WnvPresent          \n",
       "2007-05-29 1100 Roosevelt Road, Chicago, IL 60608, USA        CULEX PIPIENS/RESTUANS 0              11   \n",
       "                                                              CULEX RESTUANS         0              11   \n",
       "           1100 South Peoria Street, Chicago, IL 60608, USA   CULEX RESTUANS         0              11   \n",
       "           1100 West Chicago Avenue, Chicago, IL 60642, USA   CULEX RESTUANS         0              11   \n",
       "           1500 North Long Avenue, Chicago, IL 60651, USA     CULEX RESTUANS         0              15   \n",
       "           1500 West Webster Avenue, Chicago, IL 60614, USA   CULEX RESTUANS         0              15   \n",
       "           1700 West 95th Street, Chicago, IL 60643, USA      CULEX RESTUANS         0              17   \n",
       "           2100 North Stave Street, Chicago, IL 60647, USA    CULEX PIPIENS/RESTUANS 0              21   \n",
       "           2200 North Cannon Drive, Chicago, IL 60614, USA    CULEX PIPIENS/RESTUANS 0              22   \n",
       "                                                              CULEX RESTUANS         0              22   \n",
       "           2200 West 113th Street, Chicago, IL 60643, USA     CULEX PIPIENS/RESTUANS 0              22   \n",
       "                                                              CULEX RESTUANS         0              22   \n",
       "           2200 West 89th Street, Chicago, IL 60643, USA      CULEX PIPIENS          0              22   \n",
       "                                                              CULEX RESTUANS         0              22   \n",
       "           2500 West Grand Avenue, Chicago, IL 60654, USA     CULEX RESTUANS         0              25   \n",
       "           4100 North Oak Park Avenue, Chicago, IL 60634, USA CULEX PIPIENS/RESTUANS 0              41   \n",
       "                                                              CULEX RESTUANS         0              41   \n",
       "           6200 North Mandell Avenue, Chicago, IL 60646, USA  CULEX RESTUANS         0              62   \n",
       "           6500 North Oak Park Avenue, Chicago, IL 60631, USA CULEX PIPIENS/RESTUANS 0              65   \n",
       "           7500 North Oakley Avenue, Chicago, IL 60645, USA   CULEX PIPIENS/RESTUANS 0              75   \n",
       "           7900 West Foster Avenue, Chicago, IL 60656, USA    CULEX PIPIENS/RESTUANS 0              79   \n",
       "                                                              CULEX RESTUANS         0              79   \n",
       "           8900 South Carpenter Street, Chicago, IL 60620,... CULEX RESTUANS         0              89   \n",
       "           North Streeter Drive, Chicago, IL 60611, USA       CULEX PIPIENS/RESTUANS 0              53   \n",
       "                                                              CULEX RESTUANS         0              53   \n",
       "2007-06-05 1100 Roosevelt Road, Chicago, IL 60608, USA        CULEX PIPIENS          0              11   \n",
       "                                                              CULEX PIPIENS/RESTUANS 0              11   \n",
       "                                                              CULEX RESTUANS         0              11   \n",
       "           1100 South State Street, Chicago, IL 60605, USA    CULEX PIPIENS/RESTUANS 0              11   \n",
       "           1100 West Chicago Avenue, Chicago, IL 60642, USA   CULEX RESTUANS         0              11   \n",
       "           1400 North Sacramento Avenue, Chicago, IL 60622... CULEX RESTUANS         0              14   \n",
       "           1500 North Long Avenue, Chicago, IL 60651, USA     CULEX RESTUANS         0              15   \n",
       "           1500 West Granville Avenue, Chicago, IL 60660, USA CULEX PIPIENS/RESTUANS 0              15   \n",
       "           1500 West Webster Avenue, Chicago, IL 60614, USA   CULEX PIPIENS          0              15   \n",
       "                                                              CULEX PIPIENS/RESTUANS 0              15   \n",
       "                                                              CULEX RESTUANS         0              15   \n",
       "           1700 West 95th Street, Chicago, IL 60643, USA      CULEX PIPIENS/RESTUANS 0              17   \n",
       "           1800 West Farwell Avenue, Chicago, IL 60626, USA   CULEX RESTUANS         0              18   \n",
       "           2100 North Lawler Avenue, Chicago, IL 60639, USA   CULEX RESTUANS         0              21   \n",
       "           2100 North Stave Street, Chicago, IL 60647, USA    CULEX PIPIENS/RESTUANS 0              21   \n",
       "                                                              CULEX RESTUANS         0              21   \n",
       "           2200 North Cannon Drive, Chicago, IL 60614, USA    CULEX RESTUANS         0              22   \n",
       "           2200 West 113th Street, Chicago, IL 60643, USA     CULEX RESTUANS         0              22   \n",
       "           2200 West 89th Street, Chicago, IL 60643, USA      CULEX PIPIENS          0              22   \n",
       "                                                              CULEX PIPIENS/RESTUANS 0              22   \n",
       "                                                              CULEX RESTUANS         0              22   \n",
       "           2500 South Millard Avenue, Chicago, IL 60623, USA  CULEX RESTUANS         0              25   \n",
       "           2500 West Grand Avenue, Chicago, IL 60654, USA     CULEX RESTUANS         0              25   \n",
       "           2800 North Francisco Avenue, Chicago, IL 60618,... CULEX RESTUANS         0              28   \n",
       "           3500 West 116th Street, Chicago, IL 60655, USA     CULEX PIPIENS/RESTUANS 0              35   \n",
       "...                                                                                                ...   \n",
       "2013-09-26 4200 West 65th Street, Chicago, IL 60621, USA      CULEX PIPIENS/RESTUANS 0              42   \n",
       "           4500 North Campbell Avenue, Chicago, IL 60625, USA CULEX RESTUANS         0              45   \n",
       "           4600 Milwaukee Avenue, Chicago, IL 60630, USA      CULEX PIPIENS          1              46   \n",
       "                                                              CULEX PIPIENS/RESTUANS 0              46   \n",
       "           4800 West Montana Street, Chicago, IL 60639, USA   CULEX PIPIENS/RESTUANS 0              48   \n",
       "           5000 South Central Avenue, Chicago, IL 60638, USA  CULEX PIPIENS          0              50   \n",
       "                                                              CULEX PIPIENS/RESTUANS 0              50   \n",
       "           5000 South Union Avenue, Chicago, IL 60609, USA    CULEX PIPIENS/RESTUANS 0              50   \n",
       "                                                              CULEX RESTUANS         0              50   \n",
       "           5100 North Mont Clare Avenue, Chicago, IL 60656... CULEX PIPIENS          0              51   \n",
       "                                                              CULEX PIPIENS/RESTUANS 0              51   \n",
       "           5100 West 72nd Street, Chicago, IL 60638, USA      CULEX PIPIENS/RESTUANS 1              51   \n",
       "           5200 South Kolmar Avenue, Chicago, IL 60632, USA   CULEX PIPIENS          0              52   \n",
       "                                                              CULEX PIPIENS/RESTUANS 0              52   \n",
       "           5800 North Pulaski Road, Chicago, IL 60646, USA    CULEX PIPIENS          0              58   \n",
       "           5800 North Ridge Avenue, Chicago, IL 60660, USA    CULEX PIPIENS/RESTUANS 0              58   \n",
       "           6000 West Montrose Avenue, Chicago, IL 60634, USA  CULEX PIPIENS          0              60   \n",
       "           6100 North Lemont Avenue, Chicago, IL 60646, USA   CULEX PIPIENS/RESTUANS 0              61   \n",
       "           6100 West Fullerton Avenue, Chicago, IL 60639, USA CULEX PIPIENS/RESTUANS 0              61   \n",
       "           6300 West 64th Street, Chicago, IL 60638, USA      CULEX PIPIENS/RESTUANS 1              63   \n",
       "           6700 South Kedzie Avenue, Chicago, IL 60629, USA   CULEX PIPIENS          0              67   \n",
       "           7000 North Moselle Avenue, Chicago, IL 60646, USA  CULEX PIPIENS/RESTUANS 0              70   \n",
       "           7000 West Armitage Avenue, Chicago, IL 60707, USA  CULEX PIPIENS/RESTUANS 0              70   \n",
       "           7100 North Harlem Avenue, Chicago, IL 60631, USA   CULEX PIPIENS/RESTUANS 0              71   \n",
       "           7100 South South Shore Drive, Chicago, IL 60649... CULEX PIPIENS/RESTUANS 0              71   \n",
       "           7900 South South Chicago Avenue, Chicago, IL 60... CULEX PIPIENS/RESTUANS 0              79   \n",
       "           8200 South Kostner Avenue, Chicago, IL 60652, USA  CULEX PIPIENS/RESTUANS 0              82   \n",
       "           8900 South Carpenter Street, Chicago, IL 60620,... CULEX PIPIENS          0              89   \n",
       "                                                              CULEX PIPIENS/RESTUANS 0              89   \n",
       "           8900 South Muskegon Avenue, Chicago, IL 60617, USA CULEX PIPIENS/RESTUANS 0              89   \n",
       "           9100 West Higgins Road, Rosemont, IL 60018, USA    CULEX RESTUANS         0              91   \n",
       "           Chicago, IL, USA                                   CULEX PIPIENS          0              43   \n",
       "           East 91st Place, Chicago, IL, USA                  CULEX PIPIENS          0              65   \n",
       "                                                              CULEX PIPIENS/RESTUANS 0              65   \n",
       "           ORD Terminal 5, O'Hare International Airport, C... CULEX PIPIENS          0              40   \n",
       "                                                              CULEX PIPIENS/RESTUANS 0              10   \n",
       "                                                                                     1              10   \n",
       "           South Brandon Avenue, Chicago, IL 60617, USA       CULEX PIPIENS          0              13   \n",
       "                                                              CULEX PIPIENS/RESTUANS 0              13   \n",
       "                                                              CULEX RESTUANS         0              13   \n",
       "           South Cottage Grove Avenue, Chicago, IL, USA       CULEX PIPIENS          0              10   \n",
       "                                                              CULEX PIPIENS/RESTUANS 0              10   \n",
       "                                                              CULEX RESTUANS         0              10   \n",
       "           South Doty Avenue, Chicago, IL, USA                CULEX PIPIENS          0              12   \n",
       "                                                              CULEX PIPIENS/RESTUANS 0              12   \n",
       "           South Stony Island Avenue, Chicago, IL, USA        CULEX PIPIENS          0              10   \n",
       "                                                              CULEX PIPIENS/RESTUANS 0              10   \n",
       "           South Vincennes Avenue, Chicago, IL, USA           CULEX PIPIENS/RESTUANS 0              10   \n",
       "           University of Illinois at Chicago, 1100 South A... CULEX PIPIENS/RESTUANS 0              11   \n",
       "           West Garfield Boulevard, Chicago, IL, USA          CULEX PIPIENS/RESTUANS 0              90   \n",
       "\n",
       "                                                                                                   Latitude  \\\n",
       "Date       Address                                            Species                WnvPresent               \n",
       "2007-05-29 1100 Roosevelt Road, Chicago, IL 60608, USA        CULEX PIPIENS/RESTUANS 0            41.867108   \n",
       "                                                              CULEX RESTUANS         0            41.867108   \n",
       "           1100 South Peoria Street, Chicago, IL 60608, USA   CULEX RESTUANS         0            41.862292   \n",
       "           1100 West Chicago Avenue, Chicago, IL 60642, USA   CULEX RESTUANS         0            41.896282   \n",
       "           1500 North Long Avenue, Chicago, IL 60651, USA     CULEX RESTUANS         0            41.907645   \n",
       "           1500 West Webster Avenue, Chicago, IL 60614, USA   CULEX RESTUANS         0            41.921600   \n",
       "           1700 West 95th Street, Chicago, IL 60643, USA      CULEX RESTUANS         0            41.720848   \n",
       "           2100 North Stave Street, Chicago, IL 60647, USA    CULEX PIPIENS/RESTUANS 0            41.919343   \n",
       "           2200 North Cannon Drive, Chicago, IL 60614, USA    CULEX PIPIENS/RESTUANS 0            41.921965   \n",
       "                                                              CULEX RESTUANS         0            41.921965   \n",
       "           2200 West 113th Street, Chicago, IL 60643, USA     CULEX PIPIENS/RESTUANS 0            41.688324   \n",
       "                                                              CULEX RESTUANS         0            41.688324   \n",
       "           2200 West 89th Street, Chicago, IL 60643, USA      CULEX PIPIENS          0            41.731922   \n",
       "                                                              CULEX RESTUANS         0            41.731922   \n",
       "           2500 West Grand Avenue, Chicago, IL 60654, USA     CULEX RESTUANS         0            41.891118   \n",
       "           4100 North Oak Park Avenue, Chicago, IL 60634, USA CULEX PIPIENS/RESTUANS 0            41.954690   \n",
       "                                                              CULEX RESTUANS         0            41.954690   \n",
       "           6200 North Mandell Avenue, Chicago, IL 60646, USA  CULEX RESTUANS         0            41.994991   \n",
       "           6500 North Oak Park Avenue, Chicago, IL 60631, USA CULEX PIPIENS/RESTUANS 0            41.999129   \n",
       "           7500 North Oakley Avenue, Chicago, IL 60645, USA   CULEX PIPIENS/RESTUANS 0            42.017430   \n",
       "           7900 West Foster Avenue, Chicago, IL 60656, USA    CULEX PIPIENS/RESTUANS 0            41.974089   \n",
       "                                                              CULEX RESTUANS         0            41.974089   \n",
       "           8900 South Carpenter Street, Chicago, IL 60620,... CULEX RESTUANS         0            41.732984   \n",
       "           North Streeter Drive, Chicago, IL 60611, USA       CULEX PIPIENS/RESTUANS 0            41.891126   \n",
       "                                                              CULEX RESTUANS         0            41.891126   \n",
       "2007-06-05 1100 Roosevelt Road, Chicago, IL 60608, USA        CULEX PIPIENS          0            41.867108   \n",
       "                                                              CULEX PIPIENS/RESTUANS 0            41.867108   \n",
       "                                                              CULEX RESTUANS         0            41.867108   \n",
       "           1100 South State Street, Chicago, IL 60605, USA    CULEX PIPIENS/RESTUANS 0            41.869216   \n",
       "           1100 West Chicago Avenue, Chicago, IL 60642, USA   CULEX RESTUANS         0            41.896282   \n",
       "           1400 North Sacramento Avenue, Chicago, IL 60622... CULEX RESTUANS         0            41.906638   \n",
       "           1500 North Long Avenue, Chicago, IL 60651, USA     CULEX RESTUANS         0            41.907645   \n",
       "           1500 West Granville Avenue, Chicago, IL 60660, USA CULEX PIPIENS/RESTUANS 0            41.994469   \n",
       "           1500 West Webster Avenue, Chicago, IL 60614, USA   CULEX PIPIENS          0            41.921600   \n",
       "                                                              CULEX PIPIENS/RESTUANS 0            41.921600   \n",
       "                                                              CULEX RESTUANS         0            41.921600   \n",
       "           1700 West 95th Street, Chicago, IL 60643, USA      CULEX PIPIENS/RESTUANS 0            41.720848   \n",
       "           1800 West Farwell Avenue, Chicago, IL 60626, USA   CULEX RESTUANS         0            42.006858   \n",
       "           2100 North Lawler Avenue, Chicago, IL 60639, USA   CULEX RESTUANS         0            41.918705   \n",
       "           2100 North Stave Street, Chicago, IL 60647, USA    CULEX PIPIENS/RESTUANS 0            41.919343   \n",
       "                                                              CULEX RESTUANS         0            41.919343   \n",
       "           2200 North Cannon Drive, Chicago, IL 60614, USA    CULEX RESTUANS         0            41.921965   \n",
       "           2200 West 113th Street, Chicago, IL 60643, USA     CULEX RESTUANS         0            41.688324   \n",
       "           2200 West 89th Street, Chicago, IL 60643, USA      CULEX PIPIENS          0            41.731922   \n",
       "                                                              CULEX PIPIENS/RESTUANS 0            41.731922   \n",
       "                                                              CULEX RESTUANS         0            41.731922   \n",
       "           2500 South Millard Avenue, Chicago, IL 60623, USA  CULEX RESTUANS         0            41.846075   \n",
       "           2500 West Grand Avenue, Chicago, IL 60654, USA     CULEX RESTUANS         0            41.891118   \n",
       "           2800 North Francisco Avenue, Chicago, IL 60618,... CULEX RESTUANS         0            41.932094   \n",
       "           3500 West 116th Street, Chicago, IL 60655, USA     CULEX PIPIENS/RESTUANS 0            41.682587   \n",
       "...                                                                                                     ...   \n",
       "2013-09-26 4200 West 65th Street, Chicago, IL 60621, USA      CULEX PIPIENS/RESTUANS 0            41.776428   \n",
       "           4500 North Campbell Avenue, Chicago, IL 60625, USA CULEX RESTUANS         0            41.963976   \n",
       "           4600 Milwaukee Avenue, Chicago, IL 60630, USA      CULEX PIPIENS          1            41.964242   \n",
       "                                                              CULEX PIPIENS/RESTUANS 0            41.964242   \n",
       "           4800 West Montana Street, Chicago, IL 60639, USA   CULEX PIPIENS/RESTUANS 0            41.925198   \n",
       "           5000 South Central Avenue, Chicago, IL 60638, USA  CULEX PIPIENS          0            41.801498   \n",
       "                                                              CULEX PIPIENS/RESTUANS 0            41.801498   \n",
       "           5000 South Union Avenue, Chicago, IL 60609, USA    CULEX PIPIENS/RESTUANS 0            41.803423   \n",
       "                                                              CULEX RESTUANS         0            41.803423   \n",
       "           5100 North Mont Clare Avenue, Chicago, IL 60656... CULEX PIPIENS          0            41.973845   \n",
       "                                                              CULEX PIPIENS/RESTUANS 0            41.973845   \n",
       "           5100 West 72nd Street, Chicago, IL 60638, USA      CULEX PIPIENS/RESTUANS 1            41.763733   \n",
       "           5200 South Kolmar Avenue, Chicago, IL 60632, USA   CULEX PIPIENS          0            41.798697   \n",
       "                                                              CULEX PIPIENS/RESTUANS 0            41.798697   \n",
       "           5800 North Pulaski Road, Chicago, IL 60646, USA    CULEX PIPIENS          0            41.984809   \n",
       "           5800 North Ridge Avenue, Chicago, IL 60660, USA    CULEX PIPIENS/RESTUANS 0            41.987280   \n",
       "           6000 West Montrose Avenue, Chicago, IL 60634, USA  CULEX PIPIENS          0            41.960616   \n",
       "           6100 North Lemont Avenue, Chicago, IL 60646, USA   CULEX PIPIENS/RESTUANS 0            41.991429   \n",
       "           6100 West Fullerton Avenue, Chicago, IL 60639, USA CULEX PIPIENS/RESTUANS 0            41.923738   \n",
       "           6300 West 64th Street, Chicago, IL 60638, USA      CULEX PIPIENS/RESTUANS 1            41.776156   \n",
       "           6700 South Kedzie Avenue, Chicago, IL 60629, USA   CULEX PIPIENS          0            41.771660   \n",
       "           7000 North Moselle Avenue, Chicago, IL 60646, USA  CULEX PIPIENS/RESTUANS 0            42.008314   \n",
       "           7000 West Armitage Avenue, Chicago, IL 60707, USA  CULEX PIPIENS/RESTUANS 0            41.916265   \n",
       "           7100 North Harlem Avenue, Chicago, IL 60631, USA   CULEX PIPIENS/RESTUANS 0            42.009876   \n",
       "           7100 South South Shore Drive, Chicago, IL 60649... CULEX PIPIENS/RESTUANS 0            41.766202   \n",
       "           7900 South South Chicago Avenue, Chicago, IL 60... CULEX PIPIENS/RESTUANS 0            41.754292   \n",
       "           8200 South Kostner Avenue, Chicago, IL 60652, USA  CULEX PIPIENS/RESTUANS 0            41.743402   \n",
       "           8900 South Carpenter Street, Chicago, IL 60620,... CULEX PIPIENS          0            41.732984   \n",
       "                                                              CULEX PIPIENS/RESTUANS 0            41.732984   \n",
       "           8900 South Muskegon Avenue, Chicago, IL 60617, USA CULEX PIPIENS/RESTUANS 0            41.733643   \n",
       "           9100 West Higgins Road, Rosemont, IL 60018, USA    CULEX RESTUANS         0            41.992478   \n",
       "           Chicago, IL, USA                                   CULEX PIPIENS          0            41.878114   \n",
       "           East 91st Place, Chicago, IL, USA                  CULEX PIPIENS          0            41.728495   \n",
       "                                                              CULEX PIPIENS/RESTUANS 0            41.728495   \n",
       "           ORD Terminal 5, O'Hare International Airport, C... CULEX PIPIENS          0           167.898756   \n",
       "                                                              CULEX PIPIENS/RESTUANS 0            41.974689   \n",
       "                                                                                     1            41.974689   \n",
       "           South Brandon Avenue, Chicago, IL 60617, USA       CULEX PIPIENS          0            41.740641   \n",
       "                                                              CULEX PIPIENS/RESTUANS 0            41.740641   \n",
       "                                                              CULEX RESTUANS         0            41.740641   \n",
       "           South Cottage Grove Avenue, Chicago, IL, USA       CULEX PIPIENS          0            41.750498   \n",
       "                                                              CULEX PIPIENS/RESTUANS 0            41.750498   \n",
       "                                                              CULEX RESTUANS         0            41.750498   \n",
       "           South Doty Avenue, Chicago, IL, USA                CULEX PIPIENS          0            41.673408   \n",
       "                                                              CULEX PIPIENS/RESTUANS 0            41.673408   \n",
       "           South Stony Island Avenue, Chicago, IL, USA        CULEX PIPIENS          0            41.726465   \n",
       "                                                              CULEX PIPIENS/RESTUANS 0            41.726465   \n",
       "           South Vincennes Avenue, Chicago, IL, USA           CULEX PIPIENS/RESTUANS 0            41.723195   \n",
       "           University of Illinois at Chicago, 1100 South A... CULEX PIPIENS/RESTUANS 0            41.868077   \n",
       "           West Garfield Boulevard, Chicago, IL, USA          CULEX PIPIENS/RESTUANS 0            41.793818   \n",
       "\n",
       "                                                                                                  Longitude  \\\n",
       "Date       Address                                            Species                WnvPresent               \n",
       "2007-05-29 1100 Roosevelt Road, Chicago, IL 60608, USA        CULEX PIPIENS/RESTUANS 0           -87.654224   \n",
       "                                                              CULEX RESTUANS         0           -87.654224   \n",
       "           1100 South Peoria Street, Chicago, IL 60608, USA   CULEX RESTUANS         0           -87.648860   \n",
       "           1100 West Chicago Avenue, Chicago, IL 60642, USA   CULEX RESTUANS         0           -87.655232   \n",
       "           1500 North Long Avenue, Chicago, IL 60651, USA     CULEX RESTUANS         0           -87.760886   \n",
       "           1500 West Webster Avenue, Chicago, IL 60614, USA   CULEX RESTUANS         0           -87.666455   \n",
       "           1700 West 95th Street, Chicago, IL 60643, USA      CULEX RESTUANS         0           -87.666014   \n",
       "           2100 North Stave Street, Chicago, IL 60647, USA    CULEX PIPIENS/RESTUANS 0           -87.694259   \n",
       "           2200 North Cannon Drive, Chicago, IL 60614, USA    CULEX PIPIENS/RESTUANS 0           -87.632085   \n",
       "                                                              CULEX RESTUANS         0           -87.632085   \n",
       "           2200 West 113th Street, Chicago, IL 60643, USA     CULEX PIPIENS/RESTUANS 0           -87.676709   \n",
       "                                                              CULEX RESTUANS         0           -87.676709   \n",
       "           2200 West 89th Street, Chicago, IL 60643, USA      CULEX PIPIENS          0           -87.677512   \n",
       "                                                              CULEX RESTUANS         0           -87.677512   \n",
       "           2500 West Grand Avenue, Chicago, IL 60654, USA     CULEX RESTUANS         0           -87.654491   \n",
       "           4100 North Oak Park Avenue, Chicago, IL 60634, USA CULEX PIPIENS/RESTUANS 0           -87.800991   \n",
       "                                                              CULEX RESTUANS         0           -87.800991   \n",
       "           6200 North Mandell Avenue, Chicago, IL 60646, USA  CULEX RESTUANS         0           -87.769279   \n",
       "           6500 North Oak Park Avenue, Chicago, IL 60631, USA CULEX PIPIENS/RESTUANS 0           -87.795585   \n",
       "           7500 North Oakley Avenue, Chicago, IL 60645, USA   CULEX PIPIENS/RESTUANS 0           -87.687769   \n",
       "           7900 West Foster Avenue, Chicago, IL 60656, USA    CULEX PIPIENS/RESTUANS 0           -87.824812   \n",
       "                                                              CULEX RESTUANS         0           -87.824812   \n",
       "           8900 South Carpenter Street, Chicago, IL 60620,... CULEX RESTUANS         0           -87.649642   \n",
       "           North Streeter Drive, Chicago, IL 60611, USA       CULEX PIPIENS/RESTUANS 0           -87.611560   \n",
       "                                                              CULEX RESTUANS         0           -87.611560   \n",
       "2007-06-05 1100 Roosevelt Road, Chicago, IL 60608, USA        CULEX PIPIENS          0           -87.654224   \n",
       "                                                              CULEX PIPIENS/RESTUANS 0           -87.654224   \n",
       "                                                              CULEX RESTUANS         0           -87.654224   \n",
       "           1100 South State Street, Chicago, IL 60605, USA    CULEX PIPIENS/RESTUANS 0           -87.627561   \n",
       "           1100 West Chicago Avenue, Chicago, IL 60642, USA   CULEX RESTUANS         0           -87.655232   \n",
       "           1400 North Sacramento Avenue, Chicago, IL 60622... CULEX RESTUANS         0           -87.701431   \n",
       "           1500 North Long Avenue, Chicago, IL 60651, USA     CULEX RESTUANS         0           -87.760886   \n",
       "           1500 West Granville Avenue, Chicago, IL 60660, USA CULEX PIPIENS/RESTUANS 0           -87.667736   \n",
       "           1500 West Webster Avenue, Chicago, IL 60614, USA   CULEX PIPIENS          0           -87.666455   \n",
       "                                                              CULEX PIPIENS/RESTUANS 0           -87.666455   \n",
       "                                                              CULEX RESTUANS         0           -87.666455   \n",
       "           1700 West 95th Street, Chicago, IL 60643, USA      CULEX PIPIENS/RESTUANS 0           -87.666014   \n",
       "           1800 West Farwell Avenue, Chicago, IL 60626, USA   CULEX RESTUANS         0           -87.675919   \n",
       "           2100 North Lawler Avenue, Chicago, IL 60639, USA   CULEX RESTUANS         0           -87.752329   \n",
       "           2100 North Stave Street, Chicago, IL 60647, USA    CULEX PIPIENS/RESTUANS 0           -87.694259   \n",
       "                                                              CULEX RESTUANS         0           -87.694259   \n",
       "           2200 North Cannon Drive, Chicago, IL 60614, USA    CULEX RESTUANS         0           -87.632085   \n",
       "           2200 West 113th Street, Chicago, IL 60643, USA     CULEX RESTUANS         0           -87.676709   \n",
       "           2200 West 89th Street, Chicago, IL 60643, USA      CULEX PIPIENS          0           -87.677512   \n",
       "                                                              CULEX PIPIENS/RESTUANS 0           -87.677512   \n",
       "                                                              CULEX RESTUANS         0           -87.677512   \n",
       "           2500 South Millard Avenue, Chicago, IL 60623, USA  CULEX RESTUANS         0           -87.716277   \n",
       "           2500 West Grand Avenue, Chicago, IL 60654, USA     CULEX RESTUANS         0           -87.654491   \n",
       "           2800 North Francisco Avenue, Chicago, IL 60618,... CULEX RESTUANS         0           -87.700117   \n",
       "           3500 West 116th Street, Chicago, IL 60655, USA     CULEX PIPIENS/RESTUANS 0           -87.707973   \n",
       "...                                                                                                     ...   \n",
       "2013-09-26 4200 West 65th Street, Chicago, IL 60621, USA      CULEX PIPIENS/RESTUANS 0           -87.627096   \n",
       "           4500 North Campbell Avenue, Chicago, IL 60625, USA CULEX RESTUANS         0           -87.691810   \n",
       "           4600 Milwaukee Avenue, Chicago, IL 60630, USA      CULEX PIPIENS          1           -87.757639   \n",
       "                                                              CULEX PIPIENS/RESTUANS 0           -87.757639   \n",
       "           4800 West Montana Street, Chicago, IL 60639, USA   CULEX PIPIENS/RESTUANS 0           -87.746381   \n",
       "           5000 South Central Avenue, Chicago, IL 60638, USA  CULEX PIPIENS          0           -87.763416   \n",
       "                                                              CULEX PIPIENS/RESTUANS 0           -87.763416   \n",
       "           5000 South Union Avenue, Chicago, IL 60609, USA    CULEX PIPIENS/RESTUANS 0           -87.642984   \n",
       "                                                              CULEX RESTUANS         0           -87.642984   \n",
       "           5100 North Mont Clare Avenue, Chicago, IL 60656... CULEX PIPIENS          0           -87.805059   \n",
       "                                                              CULEX PIPIENS/RESTUANS 0           -87.805059   \n",
       "           5100 West 72nd Street, Chicago, IL 60638, USA      CULEX PIPIENS/RESTUANS 1           -87.742302   \n",
       "           5200 South Kolmar Avenue, Chicago, IL 60632, USA   CULEX PIPIENS          0           -87.736812   \n",
       "                                                              CULEX PIPIENS/RESTUANS 0           -87.736812   \n",
       "           5800 North Pulaski Road, Chicago, IL 60646, USA    CULEX PIPIENS          0           -87.728492   \n",
       "           5800 North Ridge Avenue, Chicago, IL 60660, USA    CULEX PIPIENS/RESTUANS 0           -87.666066   \n",
       "           6000 West Montrose Avenue, Chicago, IL 60634, USA  CULEX PIPIENS          0           -87.777189   \n",
       "           6100 North Lemont Avenue, Chicago, IL 60646, USA   CULEX PIPIENS/RESTUANS 0           -87.747113   \n",
       "           6100 West Fullerton Avenue, Chicago, IL 60639, USA CULEX PIPIENS/RESTUANS 0           -87.785288   \n",
       "           6300 West 64th Street, Chicago, IL 60638, USA      CULEX PIPIENS/RESTUANS 1           -87.778927   \n",
       "           6700 South Kedzie Avenue, Chicago, IL 60629, USA   CULEX PIPIENS          0           -87.703047   \n",
       "           7000 North Moselle Avenue, Chicago, IL 60646, USA  CULEX PIPIENS/RESTUANS 0           -87.777921   \n",
       "           7000 West Armitage Avenue, Chicago, IL 60707, USA  CULEX PIPIENS/RESTUANS 0           -87.800515   \n",
       "           7100 North Harlem Avenue, Chicago, IL 60631, USA   CULEX PIPIENS/RESTUANS 0           -87.807277   \n",
       "           7100 South South Shore Drive, Chicago, IL 60649... CULEX PIPIENS/RESTUANS 0           -87.562889   \n",
       "           7900 South South Chicago Avenue, Chicago, IL 60... CULEX PIPIENS/RESTUANS 0           -87.590773   \n",
       "           8200 South Kostner Avenue, Chicago, IL 60652, USA  CULEX PIPIENS/RESTUANS 0           -87.731435   \n",
       "           8900 South Carpenter Street, Chicago, IL 60620,... CULEX PIPIENS          0           -87.649642   \n",
       "                                                              CULEX PIPIENS/RESTUANS 0           -87.649642   \n",
       "           8900 South Muskegon Avenue, Chicago, IL 60617, USA CULEX PIPIENS/RESTUANS 0           -87.555510   \n",
       "           9100 West Higgins Road, Rosemont, IL 60018, USA    CULEX RESTUANS         0           -87.862995   \n",
       "           Chicago, IL, USA                                   CULEX PIPIENS          0           -87.629798   \n",
       "           East 91st Place, Chicago, IL, USA                  CULEX PIPIENS          0           -87.600963   \n",
       "                                                              CULEX PIPIENS/RESTUANS 0           -87.600963   \n",
       "           ORD Terminal 5, O'Hare International Airport, C... CULEX PIPIENS          0          -351.562460   \n",
       "                                                              CULEX PIPIENS/RESTUANS 0           -87.890615   \n",
       "                                                                                     1           -87.890615   \n",
       "           South Brandon Avenue, Chicago, IL 60617, USA       CULEX PIPIENS          0           -87.546587   \n",
       "                                                              CULEX PIPIENS/RESTUANS 0           -87.546587   \n",
       "                                                              CULEX RESTUANS         0           -87.546587   \n",
       "           South Cottage Grove Avenue, Chicago, IL, USA       CULEX PIPIENS          0           -87.605294   \n",
       "                                                              CULEX PIPIENS/RESTUANS 0           -87.605294   \n",
       "                                                              CULEX RESTUANS         0           -87.605294   \n",
       "           South Doty Avenue, Chicago, IL, USA                CULEX PIPIENS          0           -87.599862   \n",
       "                                                              CULEX PIPIENS/RESTUANS 0           -87.599862   \n",
       "           South Stony Island Avenue, Chicago, IL, USA        CULEX PIPIENS          0           -87.585413   \n",
       "                                                              CULEX PIPIENS/RESTUANS 0           -87.585413   \n",
       "           South Vincennes Avenue, Chicago, IL, USA           CULEX PIPIENS/RESTUANS 0           -87.649970   \n",
       "           University of Illinois at Chicago, 1100 South A... CULEX PIPIENS/RESTUANS 0           -87.666901   \n",
       "           West Garfield Boulevard, Chicago, IL, USA          CULEX PIPIENS/RESTUANS 0           -87.654234   \n",
       "\n",
       "                                                                                                 AddressAccuracy  \\\n",
       "Date       Address                                            Species                WnvPresent                    \n",
       "2007-05-29 1100 Roosevelt Road, Chicago, IL 60608, USA        CULEX PIPIENS/RESTUANS 0                         8   \n",
       "                                                              CULEX RESTUANS         0                         8   \n",
       "           1100 South Peoria Street, Chicago, IL 60608, USA   CULEX RESTUANS         0                         8   \n",
       "           1100 West Chicago Avenue, Chicago, IL 60642, USA   CULEX RESTUANS         0                         8   \n",
       "           1500 North Long Avenue, Chicago, IL 60651, USA     CULEX RESTUANS         0                         8   \n",
       "           1500 West Webster Avenue, Chicago, IL 60614, USA   CULEX RESTUANS         0                         8   \n",
       "           1700 West 95th Street, Chicago, IL 60643, USA      CULEX RESTUANS         0                         9   \n",
       "           2100 North Stave Street, Chicago, IL 60647, USA    CULEX PIPIENS/RESTUANS 0                         8   \n",
       "           2200 North Cannon Drive, Chicago, IL 60614, USA    CULEX PIPIENS/RESTUANS 0                         8   \n",
       "                                                              CULEX RESTUANS         0                         8   \n",
       "           2200 West 113th Street, Chicago, IL 60643, USA     CULEX PIPIENS/RESTUANS 0                         8   \n",
       "                                                              CULEX RESTUANS         0                         8   \n",
       "           2200 West 89th Street, Chicago, IL 60643, USA      CULEX PIPIENS          0                         8   \n",
       "                                                              CULEX RESTUANS         0                         8   \n",
       "           2500 West Grand Avenue, Chicago, IL 60654, USA     CULEX RESTUANS         0                         8   \n",
       "           4100 North Oak Park Avenue, Chicago, IL 60634, USA CULEX PIPIENS/RESTUANS 0                         9   \n",
       "                                                              CULEX RESTUANS         0                         9   \n",
       "           6200 North Mandell Avenue, Chicago, IL 60646, USA  CULEX RESTUANS         0                         9   \n",
       "           6500 North Oak Park Avenue, Chicago, IL 60631, USA CULEX PIPIENS/RESTUANS 0                         8   \n",
       "           7500 North Oakley Avenue, Chicago, IL 60645, USA   CULEX PIPIENS/RESTUANS 0                         8   \n",
       "           7900 West Foster Avenue, Chicago, IL 60656, USA    CULEX PIPIENS/RESTUANS 0                         8   \n",
       "                                                              CULEX RESTUANS         0                         8   \n",
       "           8900 South Carpenter Street, Chicago, IL 60620,... CULEX RESTUANS         0                         8   \n",
       "           North Streeter Drive, Chicago, IL 60611, USA       CULEX PIPIENS/RESTUANS 0                         5   \n",
       "                                                              CULEX RESTUANS         0                         5   \n",
       "2007-06-05 1100 Roosevelt Road, Chicago, IL 60608, USA        CULEX PIPIENS          0                         8   \n",
       "                                                              CULEX PIPIENS/RESTUANS 0                         8   \n",
       "                                                              CULEX RESTUANS         0                         8   \n",
       "           1100 South State Street, Chicago, IL 60605, USA    CULEX PIPIENS/RESTUANS 0                         8   \n",
       "           1100 West Chicago Avenue, Chicago, IL 60642, USA   CULEX RESTUANS         0                         8   \n",
       "           1400 North Sacramento Avenue, Chicago, IL 60622... CULEX RESTUANS         0                         9   \n",
       "           1500 North Long Avenue, Chicago, IL 60651, USA     CULEX RESTUANS         0                         8   \n",
       "           1500 West Granville Avenue, Chicago, IL 60660, USA CULEX PIPIENS/RESTUANS 0                         8   \n",
       "           1500 West Webster Avenue, Chicago, IL 60614, USA   CULEX PIPIENS          0                         8   \n",
       "                                                              CULEX PIPIENS/RESTUANS 0                         8   \n",
       "                                                              CULEX RESTUANS         0                         8   \n",
       "           1700 West 95th Street, Chicago, IL 60643, USA      CULEX PIPIENS/RESTUANS 0                         9   \n",
       "           1800 West Farwell Avenue, Chicago, IL 60626, USA   CULEX RESTUANS         0                         9   \n",
       "           2100 North Lawler Avenue, Chicago, IL 60639, USA   CULEX RESTUANS         0                         8   \n",
       "           2100 North Stave Street, Chicago, IL 60647, USA    CULEX PIPIENS/RESTUANS 0                         8   \n",
       "                                                              CULEX RESTUANS         0                         8   \n",
       "           2200 North Cannon Drive, Chicago, IL 60614, USA    CULEX RESTUANS         0                         8   \n",
       "           2200 West 113th Street, Chicago, IL 60643, USA     CULEX RESTUANS         0                         8   \n",
       "           2200 West 89th Street, Chicago, IL 60643, USA      CULEX PIPIENS          0                         8   \n",
       "                                                              CULEX PIPIENS/RESTUANS 0                         8   \n",
       "                                                              CULEX RESTUANS         0                         8   \n",
       "           2500 South Millard Avenue, Chicago, IL 60623, USA  CULEX RESTUANS         0                         9   \n",
       "           2500 West Grand Avenue, Chicago, IL 60654, USA     CULEX RESTUANS         0                         8   \n",
       "           2800 North Francisco Avenue, Chicago, IL 60618,... CULEX RESTUANS         0                         8   \n",
       "           3500 West 116th Street, Chicago, IL 60655, USA     CULEX PIPIENS/RESTUANS 0                         9   \n",
       "...                                                                                                          ...   \n",
       "2013-09-26 4200 West 65th Street, Chicago, IL 60621, USA      CULEX PIPIENS/RESTUANS 0                         8   \n",
       "           4500 North Campbell Avenue, Chicago, IL 60625, USA CULEX RESTUANS         0                         9   \n",
       "           4600 Milwaukee Avenue, Chicago, IL 60630, USA      CULEX PIPIENS          1                         8   \n",
       "                                                              CULEX PIPIENS/RESTUANS 0                         8   \n",
       "           4800 West Montana Street, Chicago, IL 60639, USA   CULEX PIPIENS/RESTUANS 0                         8   \n",
       "           5000 South Central Avenue, Chicago, IL 60638, USA  CULEX PIPIENS          0                         9   \n",
       "                                                              CULEX PIPIENS/RESTUANS 0                         9   \n",
       "           5000 South Union Avenue, Chicago, IL 60609, USA    CULEX PIPIENS/RESTUANS 0                         8   \n",
       "                                                              CULEX RESTUANS         0                         8   \n",
       "           5100 North Mont Clare Avenue, Chicago, IL 60656... CULEX PIPIENS          0                         9   \n",
       "                                                              CULEX PIPIENS/RESTUANS 0                         9   \n",
       "           5100 West 72nd Street, Chicago, IL 60638, USA      CULEX PIPIENS/RESTUANS 1                         8   \n",
       "           5200 South Kolmar Avenue, Chicago, IL 60632, USA   CULEX PIPIENS          0                         8   \n",
       "                                                              CULEX PIPIENS/RESTUANS 0                         8   \n",
       "           5800 North Pulaski Road, Chicago, IL 60646, USA    CULEX PIPIENS          0                         8   \n",
       "           5800 North Ridge Avenue, Chicago, IL 60660, USA    CULEX PIPIENS/RESTUANS 0                         8   \n",
       "           6000 West Montrose Avenue, Chicago, IL 60634, USA  CULEX PIPIENS          0                         9   \n",
       "           6100 North Lemont Avenue, Chicago, IL 60646, USA   CULEX PIPIENS/RESTUANS 0                         8   \n",
       "           6100 West Fullerton Avenue, Chicago, IL 60639, USA CULEX PIPIENS/RESTUANS 0                         9   \n",
       "           6300 West 64th Street, Chicago, IL 60638, USA      CULEX PIPIENS/RESTUANS 1                         9   \n",
       "           6700 South Kedzie Avenue, Chicago, IL 60629, USA   CULEX PIPIENS          0                         8   \n",
       "           7000 North Moselle Avenue, Chicago, IL 60646, USA  CULEX PIPIENS/RESTUANS 0                         9   \n",
       "           7000 West Armitage Avenue, Chicago, IL 60707, USA  CULEX PIPIENS/RESTUANS 0                         8   \n",
       "           7100 North Harlem Avenue, Chicago, IL 60631, USA   CULEX PIPIENS/RESTUANS 0                         9   \n",
       "           7100 South South Shore Drive, Chicago, IL 60649... CULEX PIPIENS/RESTUANS 0                         9   \n",
       "           7900 South South Chicago Avenue, Chicago, IL 60... CULEX PIPIENS/RESTUANS 0                         9   \n",
       "           8200 South Kostner Avenue, Chicago, IL 60652, USA  CULEX PIPIENS/RESTUANS 0                         8   \n",
       "           8900 South Carpenter Street, Chicago, IL 60620,... CULEX PIPIENS          0                         8   \n",
       "                                                              CULEX PIPIENS/RESTUANS 0                         8   \n",
       "           8900 South Muskegon Avenue, Chicago, IL 60617, USA CULEX PIPIENS/RESTUANS 0                         8   \n",
       "           9100 West Higgins Road, Rosemont, IL 60018, USA    CULEX RESTUANS         0                         8   \n",
       "           Chicago, IL, USA                                   CULEX PIPIENS          0                         3   \n",
       "           East 91st Place, Chicago, IL, USA                  CULEX PIPIENS          0                         5   \n",
       "                                                              CULEX PIPIENS/RESTUANS 0                         5   \n",
       "           ORD Terminal 5, O'Hare International Airport, C... CULEX PIPIENS          0                        36   \n",
       "                                                              CULEX PIPIENS/RESTUANS 0                         9   \n",
       "                                                                                     1                         9   \n",
       "           South Brandon Avenue, Chicago, IL 60617, USA       CULEX PIPIENS          0                         5   \n",
       "                                                              CULEX PIPIENS/RESTUANS 0                         5   \n",
       "                                                              CULEX RESTUANS         0                         5   \n",
       "           South Cottage Grove Avenue, Chicago, IL, USA       CULEX PIPIENS          0                         5   \n",
       "                                                              CULEX PIPIENS/RESTUANS 0                         5   \n",
       "                                                              CULEX RESTUANS         0                         5   \n",
       "           South Doty Avenue, Chicago, IL, USA                CULEX PIPIENS          0                         5   \n",
       "                                                              CULEX PIPIENS/RESTUANS 0                         5   \n",
       "           South Stony Island Avenue, Chicago, IL, USA        CULEX PIPIENS          0                         5   \n",
       "                                                              CULEX PIPIENS/RESTUANS 0                         5   \n",
       "           South Vincennes Avenue, Chicago, IL, USA           CULEX PIPIENS/RESTUANS 0                         5   \n",
       "           University of Illinois at Chicago, 1100 South A... CULEX PIPIENS/RESTUANS 0                         9   \n",
       "           West Garfield Boulevard, Chicago, IL, USA          CULEX PIPIENS/RESTUANS 0                         5   \n",
       "\n",
       "                                                                                                 NumMosquitos  \n",
       "Date       Address                                            Species                WnvPresent                \n",
       "2007-05-29 1100 Roosevelt Road, Chicago, IL 60608, USA        CULEX PIPIENS/RESTUANS 0                      1  \n",
       "                                                              CULEX RESTUANS         0                      2  \n",
       "           1100 South Peoria Street, Chicago, IL 60608, USA   CULEX RESTUANS         0                      1  \n",
       "           1100 West Chicago Avenue, Chicago, IL 60642, USA   CULEX RESTUANS         0                      1  \n",
       "           1500 North Long Avenue, Chicago, IL 60651, USA     CULEX RESTUANS         0                      1  \n",
       "           1500 West Webster Avenue, Chicago, IL 60614, USA   CULEX RESTUANS         0                      2  \n",
       "           1700 West 95th Street, Chicago, IL 60643, USA      CULEX RESTUANS         0                      3  \n",
       "           2100 North Stave Street, Chicago, IL 60647, USA    CULEX PIPIENS/RESTUANS 0                      1  \n",
       "           2200 North Cannon Drive, Chicago, IL 60614, USA    CULEX PIPIENS/RESTUANS 0                      2  \n",
       "                                                              CULEX RESTUANS         0                      3  \n",
       "           2200 West 113th Street, Chicago, IL 60643, USA     CULEX PIPIENS/RESTUANS 0                      1  \n",
       "                                                              CULEX RESTUANS         0                      1  \n",
       "           2200 West 89th Street, Chicago, IL 60643, USA      CULEX PIPIENS          0                      1  \n",
       "                                                              CULEX RESTUANS         0                      5  \n",
       "           2500 West Grand Avenue, Chicago, IL 60654, USA     CULEX RESTUANS         0                      1  \n",
       "           4100 North Oak Park Avenue, Chicago, IL 60634, USA CULEX PIPIENS/RESTUANS 0                      1  \n",
       "                                                              CULEX RESTUANS         0                      1  \n",
       "           6200 North Mandell Avenue, Chicago, IL 60646, USA  CULEX RESTUANS         0                      1  \n",
       "           6500 North Oak Park Avenue, Chicago, IL 60631, USA CULEX PIPIENS/RESTUANS 0                      1  \n",
       "           7500 North Oakley Avenue, Chicago, IL 60645, USA   CULEX PIPIENS/RESTUANS 0                      1  \n",
       "           7900 West Foster Avenue, Chicago, IL 60656, USA    CULEX PIPIENS/RESTUANS 0                      1  \n",
       "                                                              CULEX RESTUANS         0                      4  \n",
       "           8900 South Carpenter Street, Chicago, IL 60620,... CULEX RESTUANS         0                      1  \n",
       "           North Streeter Drive, Chicago, IL 60611, USA       CULEX PIPIENS/RESTUANS 0                      1  \n",
       "                                                              CULEX RESTUANS         0                      2  \n",
       "2007-06-05 1100 Roosevelt Road, Chicago, IL 60608, USA        CULEX PIPIENS          0                      2  \n",
       "                                                              CULEX PIPIENS/RESTUANS 0                      1  \n",
       "                                                              CULEX RESTUANS         0                      1  \n",
       "           1100 South State Street, Chicago, IL 60605, USA    CULEX PIPIENS/RESTUANS 0                      1  \n",
       "           1100 West Chicago Avenue, Chicago, IL 60642, USA   CULEX RESTUANS         0                      2  \n",
       "           1400 North Sacramento Avenue, Chicago, IL 60622... CULEX RESTUANS         0                      3  \n",
       "           1500 North Long Avenue, Chicago, IL 60651, USA     CULEX RESTUANS         0                      3  \n",
       "           1500 West Granville Avenue, Chicago, IL 60660, USA CULEX PIPIENS/RESTUANS 0                      1  \n",
       "           1500 West Webster Avenue, Chicago, IL 60614, USA   CULEX PIPIENS          0                      1  \n",
       "                                                              CULEX PIPIENS/RESTUANS 0                      1  \n",
       "                                                              CULEX RESTUANS         0                      2  \n",
       "           1700 West 95th Street, Chicago, IL 60643, USA      CULEX PIPIENS/RESTUANS 0                      2  \n",
       "           1800 West Farwell Avenue, Chicago, IL 60626, USA   CULEX RESTUANS         0                      2  \n",
       "           2100 North Lawler Avenue, Chicago, IL 60639, USA   CULEX RESTUANS         0                      1  \n",
       "           2100 North Stave Street, Chicago, IL 60647, USA    CULEX PIPIENS/RESTUANS 0                      1  \n",
       "                                                              CULEX RESTUANS         0                      1  \n",
       "           2200 North Cannon Drive, Chicago, IL 60614, USA    CULEX RESTUANS         0                      3  \n",
       "           2200 West 113th Street, Chicago, IL 60643, USA     CULEX RESTUANS         0                      4  \n",
       "           2200 West 89th Street, Chicago, IL 60643, USA      CULEX PIPIENS          0                      1  \n",
       "                                                              CULEX PIPIENS/RESTUANS 0                      1  \n",
       "                                                              CULEX RESTUANS         0                      1  \n",
       "           2500 South Millard Avenue, Chicago, IL 60623, USA  CULEX RESTUANS         0                      1  \n",
       "           2500 West Grand Avenue, Chicago, IL 60654, USA     CULEX RESTUANS         0                      1  \n",
       "           2800 North Francisco Avenue, Chicago, IL 60618,... CULEX RESTUANS         0                      1  \n",
       "           3500 West 116th Street, Chicago, IL 60655, USA     CULEX PIPIENS/RESTUANS 0                      3  \n",
       "...                                                                                                       ...  \n",
       "2013-09-26 4200 West 65th Street, Chicago, IL 60621, USA      CULEX PIPIENS/RESTUANS 0                      1  \n",
       "           4500 North Campbell Avenue, Chicago, IL 60625, USA CULEX RESTUANS         0                      8  \n",
       "           4600 Milwaukee Avenue, Chicago, IL 60630, USA      CULEX PIPIENS          1                      3  \n",
       "                                                              CULEX PIPIENS/RESTUANS 0                     10  \n",
       "           4800 West Montana Street, Chicago, IL 60639, USA   CULEX PIPIENS/RESTUANS 0                      1  \n",
       "           5000 South Central Avenue, Chicago, IL 60638, USA  CULEX PIPIENS          0                      4  \n",
       "                                                              CULEX PIPIENS/RESTUANS 0                      2  \n",
       "           5000 South Union Avenue, Chicago, IL 60609, USA    CULEX PIPIENS/RESTUANS 0                      2  \n",
       "                                                              CULEX RESTUANS         0                      2  \n",
       "           5100 North Mont Clare Avenue, Chicago, IL 60656... CULEX PIPIENS          0                      1  \n",
       "                                                              CULEX PIPIENS/RESTUANS 0                     11  \n",
       "           5100 West 72nd Street, Chicago, IL 60638, USA      CULEX PIPIENS/RESTUANS 1                      6  \n",
       "           5200 South Kolmar Avenue, Chicago, IL 60632, USA   CULEX PIPIENS          0                      2  \n",
       "                                                              CULEX PIPIENS/RESTUANS 0                      2  \n",
       "           5800 North Pulaski Road, Chicago, IL 60646, USA    CULEX PIPIENS          0                      5  \n",
       "           5800 North Ridge Avenue, Chicago, IL 60660, USA    CULEX PIPIENS/RESTUANS 0                      5  \n",
       "           6000 West Montrose Avenue, Chicago, IL 60634, USA  CULEX PIPIENS          0                      2  \n",
       "           6100 North Lemont Avenue, Chicago, IL 60646, USA   CULEX PIPIENS/RESTUANS 0                      2  \n",
       "           6100 West Fullerton Avenue, Chicago, IL 60639, USA CULEX PIPIENS/RESTUANS 0                      5  \n",
       "           6300 West 64th Street, Chicago, IL 60638, USA      CULEX PIPIENS/RESTUANS 1                      4  \n",
       "           6700 South Kedzie Avenue, Chicago, IL 60629, USA   CULEX PIPIENS          0                      6  \n",
       "           7000 North Moselle Avenue, Chicago, IL 60646, USA  CULEX PIPIENS/RESTUANS 0                     10  \n",
       "           7000 West Armitage Avenue, Chicago, IL 60707, USA  CULEX PIPIENS/RESTUANS 0                      8  \n",
       "           7100 North Harlem Avenue, Chicago, IL 60631, USA   CULEX PIPIENS/RESTUANS 0                      5  \n",
       "           7100 South South Shore Drive, Chicago, IL 60649... CULEX PIPIENS/RESTUANS 0                      1  \n",
       "           7900 South South Chicago Avenue, Chicago, IL 60... CULEX PIPIENS/RESTUANS 0                      2  \n",
       "           8200 South Kostner Avenue, Chicago, IL 60652, USA  CULEX PIPIENS/RESTUANS 0                      3  \n",
       "           8900 South Carpenter Street, Chicago, IL 60620,... CULEX PIPIENS          0                      6  \n",
       "                                                              CULEX PIPIENS/RESTUANS 0                     21  \n",
       "           8900 South Muskegon Avenue, Chicago, IL 60617, USA CULEX PIPIENS/RESTUANS 0                      5  \n",
       "           9100 West Higgins Road, Rosemont, IL 60018, USA    CULEX RESTUANS         0                      1  \n",
       "           Chicago, IL, USA                                   CULEX PIPIENS          0                      2  \n",
       "           East 91st Place, Chicago, IL, USA                  CULEX PIPIENS          0                      1  \n",
       "                                                              CULEX PIPIENS/RESTUANS 0                      7  \n",
       "           ORD Terminal 5, O'Hare International Airport, C... CULEX PIPIENS          0                     37  \n",
       "                                                              CULEX PIPIENS/RESTUANS 0                      4  \n",
       "                                                                                     1                     39  \n",
       "           South Brandon Avenue, Chicago, IL 60617, USA       CULEX PIPIENS          0                      6  \n",
       "                                                              CULEX PIPIENS/RESTUANS 0                     11  \n",
       "                                                              CULEX RESTUANS         0                      1  \n",
       "           South Cottage Grove Avenue, Chicago, IL, USA       CULEX PIPIENS          0                      1  \n",
       "                                                              CULEX PIPIENS/RESTUANS 0                      2  \n",
       "                                                              CULEX RESTUANS         0                      1  \n",
       "           South Doty Avenue, Chicago, IL, USA                CULEX PIPIENS          0                      2  \n",
       "                                                              CULEX PIPIENS/RESTUANS 0                      5  \n",
       "           South Stony Island Avenue, Chicago, IL, USA        CULEX PIPIENS          0                      6  \n",
       "                                                              CULEX PIPIENS/RESTUANS 0                      4  \n",
       "           South Vincennes Avenue, Chicago, IL, USA           CULEX PIPIENS/RESTUANS 0                      4  \n",
       "           University of Illinois at Chicago, 1100 South A... CULEX PIPIENS/RESTUANS 0                      2  \n",
       "           West Garfield Boulevard, Chicago, IL, USA          CULEX PIPIENS/RESTUANS 0                      8  \n",
       "\n",
       "[8610 rows x 5 columns]"
      ]
     },
     "execution_count": 23,
     "metadata": {},
     "output_type": "execute_result"
    }
   ],
   "source": [
    "train_df.groupby(by=['Date','Address','Species','WnvPresent']).sum()"
   ]
  },
  {
   "cell_type": "markdown",
   "metadata": {},
   "source": [
    "We define unique trap observation by grouping 'Date','Address','Species','WnvPresent'.<br>\n",
    "We are not considering 'NumMosquitos' as our feature as there's no ''NumMosquitos' found in test dataset.<br>There are in total 8610 unique trap observations in train dataset."
   ]
  },
  {
   "cell_type": "code",
   "execution_count": 24,
   "metadata": {
    "ExecuteTime": {
     "end_time": "2019-11-06T09:11:22.995487Z",
     "start_time": "2019-11-06T09:11:22.979530Z"
    }
   },
   "outputs": [],
   "source": [
    "# Drop duplicates\n",
    "train_df.drop_duplicates(subset=['Date','Address','Species','Trap','Block','WnvPresent'],inplace=True)\n",
    "train_df.reset_index(inplace=True)"
   ]
  },
  {
   "cell_type": "code",
   "execution_count": 25,
   "metadata": {
    "ExecuteTime": {
     "end_time": "2019-11-06T09:11:24.492517Z",
     "start_time": "2019-11-06T09:11:24.484505Z"
    }
   },
   "outputs": [
    {
     "data": {
      "text/plain": [
       "(8610, 13)"
      ]
     },
     "execution_count": 25,
     "metadata": {},
     "output_type": "execute_result"
    }
   ],
   "source": [
    "train_df.shape"
   ]
  },
  {
   "cell_type": "code",
   "execution_count": 26,
   "metadata": {
    "ExecuteTime": {
     "end_time": "2019-11-06T09:11:26.020401Z",
     "start_time": "2019-11-06T09:11:26.008431Z"
    }
   },
   "outputs": [
    {
     "data": {
      "text/plain": [
       "array(['CULEX PIPIENS/RESTUANS', 'CULEX PIPIENS', 'CULEX RESTUANS'],\n",
       "      dtype=object)"
      ]
     },
     "execution_count": 26,
     "metadata": {},
     "output_type": "execute_result"
    }
   ],
   "source": [
    "# Check which mozzies spread WNV\n",
    "train_df[train_df['WnvPresent'] == 1]['Species'].unique()"
   ]
  },
  {
   "cell_type": "markdown",
   "metadata": {},
   "source": [
    "From train dataset it can be observed that WNV is only present in the following 3 species of Mosquitos:\n",
    "- CULEX PIPIENS/RESTUANS\n",
    "- CULEX PIPIENS\n",
    "- CULEX RESTUANS"
   ]
  },
  {
   "cell_type": "code",
   "execution_count": 27,
   "metadata": {
    "ExecuteTime": {
     "end_time": "2019-11-06T09:11:27.838538Z",
     "start_time": "2019-11-06T09:11:27.825573Z"
    }
   },
   "outputs": [
    {
     "data": {
      "text/plain": [
       "array(['CULEX PIPIENS/RESTUANS', 'CULEX RESTUANS', 'CULEX PIPIENS',\n",
       "       'CULEX SALINARIUS', 'CULEX TERRITANS', 'CULEX TARSALIS',\n",
       "       'CULEX ERRATICUS'], dtype=object)"
      ]
     },
     "execution_count": 27,
     "metadata": {},
     "output_type": "execute_result"
    }
   ],
   "source": [
    "# Check if there's overlap\n",
    "train_df[train_df['WnvPresent'] == 0]['Species'].unique()"
   ]
  },
  {
   "cell_type": "markdown",
   "metadata": {},
   "source": [
    "However, the presence of any single species does not mandate the presence of WNV. "
   ]
  },
  {
   "cell_type": "code",
   "execution_count": 28,
   "metadata": {
    "ExecuteTime": {
     "end_time": "2019-11-06T09:11:29.356284Z",
     "start_time": "2019-11-06T09:11:29.325367Z"
    }
   },
   "outputs": [],
   "source": [
    "# One-hot encode mozzies that spread WNV\n",
    "train_species = pd.get_dummies(train_df['Species'])[['CULEX PIPIENS/RESTUANS','CULEX PIPIENS','CULEX RESTUANS']]\n",
    "test_species = pd.get_dummies(test_df['Species'])[['CULEX PIPIENS/RESTUANS','CULEX PIPIENS','CULEX RESTUANS']]"
   ]
  },
  {
   "cell_type": "markdown",
   "metadata": {},
   "source": [
    "Based on earlier observation on train dataset, only 'CULEX PIPIENS/RESTUANS','CULEX PIPIENS','CULEX RESTUANS' are found to carry WNV.<br>\n",
    "We one hot encode these 3 species and for other species that does not fall in any of the 3 categories, it will be encoded as all zeroes (Other Species)."
   ]
  },
  {
   "cell_type": "code",
   "execution_count": 29,
   "metadata": {
    "ExecuteTime": {
     "end_time": "2019-11-06T09:11:30.962246Z",
     "start_time": "2019-11-06T09:11:30.937345Z"
    }
   },
   "outputs": [],
   "source": [
    "train_df = pd.concat([train_df,train_species],axis=1,sort=False)\n",
    "test_df = pd.concat([test_df,test_species],axis=1,sort=False)"
   ]
  },
  {
   "cell_type": "markdown",
   "metadata": {
    "ExecuteTime": {
     "end_time": "2019-11-04T07:41:02.897364Z",
     "start_time": "2019-11-04T07:41:02.884746Z"
    }
   },
   "source": [
    "In Weather dataset, there are 2 weather stations that records weather conditions daily.<br>\n",
    "\n",
    "We need to identify which weather station(1 or 2) is closest to each trap, and join the weather data based on the date of observation.\n",
    "\n",
    "Distance is calculated by euclidean distance between weather stations and traps coordinate."
   ]
  },
  {
   "cell_type": "code",
   "execution_count": 30,
   "metadata": {
    "ExecuteTime": {
     "end_time": "2019-11-06T09:11:32.841224Z",
     "start_time": "2019-11-06T09:11:32.534044Z"
    }
   },
   "outputs": [
    {
     "data": {
      "text/html": [
       "<div>\n",
       "<style scoped>\n",
       "    .dataframe tbody tr th:only-of-type {\n",
       "        vertical-align: middle;\n",
       "    }\n",
       "\n",
       "    .dataframe tbody tr th {\n",
       "        vertical-align: top;\n",
       "    }\n",
       "\n",
       "    .dataframe thead th {\n",
       "        text-align: right;\n",
       "    }\n",
       "</style>\n",
       "<table border=\"1\" class=\"dataframe\">\n",
       "  <thead>\n",
       "    <tr style=\"text-align: right;\">\n",
       "      <th></th>\n",
       "      <th>index</th>\n",
       "      <th>Date</th>\n",
       "      <th>Address</th>\n",
       "      <th>Species</th>\n",
       "      <th>Block</th>\n",
       "      <th>Street</th>\n",
       "      <th>Trap</th>\n",
       "      <th>AddressNumberAndStreet</th>\n",
       "      <th>Latitude</th>\n",
       "      <th>Longitude</th>\n",
       "      <th>AddressAccuracy</th>\n",
       "      <th>NumMosquitos</th>\n",
       "      <th>WnvPresent</th>\n",
       "      <th>CULEX PIPIENS/RESTUANS</th>\n",
       "      <th>CULEX PIPIENS</th>\n",
       "      <th>CULEX RESTUANS</th>\n",
       "      <th>diststat1</th>\n",
       "      <th>diststat2</th>\n",
       "      <th>Station</th>\n",
       "    </tr>\n",
       "  </thead>\n",
       "  <tbody>\n",
       "    <tr>\n",
       "      <th>0</th>\n",
       "      <td>0</td>\n",
       "      <td>2007-05-29</td>\n",
       "      <td>4100 North Oak Park Avenue, Chicago, IL 60634,...</td>\n",
       "      <td>CULEX PIPIENS/RESTUANS</td>\n",
       "      <td>41</td>\n",
       "      <td>N OAK PARK AVE</td>\n",
       "      <td>T002</td>\n",
       "      <td>4100  N OAK PARK AVE, Chicago, IL</td>\n",
       "      <td>41.95469</td>\n",
       "      <td>-87.800991</td>\n",
       "      <td>9</td>\n",
       "      <td>1</td>\n",
       "      <td>0</td>\n",
       "      <td>1</td>\n",
       "      <td>0</td>\n",
       "      <td>0</td>\n",
       "      <td>0.138026</td>\n",
       "      <td>0.17566</td>\n",
       "      <td>1</td>\n",
       "    </tr>\n",
       "    <tr>\n",
       "      <th>1</th>\n",
       "      <td>1</td>\n",
       "      <td>2007-05-29</td>\n",
       "      <td>4100 North Oak Park Avenue, Chicago, IL 60634,...</td>\n",
       "      <td>CULEX RESTUANS</td>\n",
       "      <td>41</td>\n",
       "      <td>N OAK PARK AVE</td>\n",
       "      <td>T002</td>\n",
       "      <td>4100  N OAK PARK AVE, Chicago, IL</td>\n",
       "      <td>41.95469</td>\n",
       "      <td>-87.800991</td>\n",
       "      <td>9</td>\n",
       "      <td>1</td>\n",
       "      <td>0</td>\n",
       "      <td>0</td>\n",
       "      <td>0</td>\n",
       "      <td>1</td>\n",
       "      <td>0.138026</td>\n",
       "      <td>0.17566</td>\n",
       "      <td>1</td>\n",
       "    </tr>\n",
       "  </tbody>\n",
       "</table>\n",
       "</div>"
      ],
      "text/plain": [
       "   index        Date                                            Address  \\\n",
       "0      0  2007-05-29  4100 North Oak Park Avenue, Chicago, IL 60634,...   \n",
       "1      1  2007-05-29  4100 North Oak Park Avenue, Chicago, IL 60634,...   \n",
       "\n",
       "                  Species  Block           Street  Trap  \\\n",
       "0  CULEX PIPIENS/RESTUANS     41   N OAK PARK AVE  T002   \n",
       "1          CULEX RESTUANS     41   N OAK PARK AVE  T002   \n",
       "\n",
       "              AddressNumberAndStreet  Latitude  Longitude  AddressAccuracy  \\\n",
       "0  4100  N OAK PARK AVE, Chicago, IL  41.95469 -87.800991                9   \n",
       "1  4100  N OAK PARK AVE, Chicago, IL  41.95469 -87.800991                9   \n",
       "\n",
       "   NumMosquitos  WnvPresent  CULEX PIPIENS/RESTUANS  CULEX PIPIENS  \\\n",
       "0             1           0                       1              0   \n",
       "1             1           0                       0              0   \n",
       "\n",
       "   CULEX RESTUANS  diststat1  diststat2  Station  \n",
       "0               0   0.138026    0.17566        1  \n",
       "1               1   0.138026    0.17566        1  "
      ]
     },
     "execution_count": 30,
     "metadata": {},
     "output_type": "execute_result"
    }
   ],
   "source": [
    "# Calculate euclidean distance of weather station from city and determine which station is nearest\n",
    "# This is calculated using pythagoras theorem  \n",
    "# Station 1: CHICAGO O'HARE INTERNATIONAL AIRPORT Lat: 41.995 Lon: -87.933 Elev: 662 ft. above sea level\n",
    "# Station 2: CHICAGO MIDWAY INTL ARPT Lat: 41.786 Lon: -87.752 Elev: 612 ft. above sea level\n",
    "train_df['diststat1'] = np.sqrt((train_df['Latitude'] - 41.995) ** 2 + (train_df['Longitude'] - (-87.933)) ** 2)\n",
    "train_df['diststat2'] = np.sqrt((train_df['Latitude'] - 41.786) ** 2 + (train_df['Longitude'] - (-87.752)) ** 2)\n",
    "train_df['Station'] = [2 if train_df['diststat1'][i] > train_df['diststat2'][i] else 1 for i in range(train_df.shape[0])]\n",
    "train_df.head(2)\n"
   ]
  },
  {
   "cell_type": "code",
   "execution_count": 31,
   "metadata": {
    "ExecuteTime": {
     "end_time": "2019-11-06T09:11:37.639247Z",
     "start_time": "2019-11-06T09:11:34.378820Z"
    }
   },
   "outputs": [
    {
     "data": {
      "text/html": [
       "<div>\n",
       "<style scoped>\n",
       "    .dataframe tbody tr th:only-of-type {\n",
       "        vertical-align: middle;\n",
       "    }\n",
       "\n",
       "    .dataframe tbody tr th {\n",
       "        vertical-align: top;\n",
       "    }\n",
       "\n",
       "    .dataframe thead th {\n",
       "        text-align: right;\n",
       "    }\n",
       "</style>\n",
       "<table border=\"1\" class=\"dataframe\">\n",
       "  <thead>\n",
       "    <tr style=\"text-align: right;\">\n",
       "      <th></th>\n",
       "      <th>Id</th>\n",
       "      <th>Date</th>\n",
       "      <th>Address</th>\n",
       "      <th>Species</th>\n",
       "      <th>Block</th>\n",
       "      <th>Street</th>\n",
       "      <th>Trap</th>\n",
       "      <th>AddressNumberAndStreet</th>\n",
       "      <th>Latitude</th>\n",
       "      <th>Longitude</th>\n",
       "      <th>AddressAccuracy</th>\n",
       "      <th>CULEX PIPIENS/RESTUANS</th>\n",
       "      <th>CULEX PIPIENS</th>\n",
       "      <th>CULEX RESTUANS</th>\n",
       "      <th>diststat1</th>\n",
       "      <th>diststat2</th>\n",
       "      <th>Station</th>\n",
       "    </tr>\n",
       "  </thead>\n",
       "  <tbody>\n",
       "    <tr>\n",
       "      <th>0</th>\n",
       "      <td>1</td>\n",
       "      <td>2008-06-11</td>\n",
       "      <td>4100 North Oak Park Avenue, Chicago, IL 60634,...</td>\n",
       "      <td>CULEX PIPIENS/RESTUANS</td>\n",
       "      <td>41</td>\n",
       "      <td>N OAK PARK AVE</td>\n",
       "      <td>T002</td>\n",
       "      <td>4100  N OAK PARK AVE, Chicago, IL</td>\n",
       "      <td>41.95469</td>\n",
       "      <td>-87.800991</td>\n",
       "      <td>9</td>\n",
       "      <td>1</td>\n",
       "      <td>0</td>\n",
       "      <td>0</td>\n",
       "      <td>0.138026</td>\n",
       "      <td>0.17566</td>\n",
       "      <td>1</td>\n",
       "    </tr>\n",
       "    <tr>\n",
       "      <th>1</th>\n",
       "      <td>2</td>\n",
       "      <td>2008-06-11</td>\n",
       "      <td>4100 North Oak Park Avenue, Chicago, IL 60634,...</td>\n",
       "      <td>CULEX RESTUANS</td>\n",
       "      <td>41</td>\n",
       "      <td>N OAK PARK AVE</td>\n",
       "      <td>T002</td>\n",
       "      <td>4100  N OAK PARK AVE, Chicago, IL</td>\n",
       "      <td>41.95469</td>\n",
       "      <td>-87.800991</td>\n",
       "      <td>9</td>\n",
       "      <td>0</td>\n",
       "      <td>0</td>\n",
       "      <td>1</td>\n",
       "      <td>0.138026</td>\n",
       "      <td>0.17566</td>\n",
       "      <td>1</td>\n",
       "    </tr>\n",
       "    <tr>\n",
       "      <th>2</th>\n",
       "      <td>3</td>\n",
       "      <td>2008-06-11</td>\n",
       "      <td>4100 North Oak Park Avenue, Chicago, IL 60634,...</td>\n",
       "      <td>CULEX PIPIENS</td>\n",
       "      <td>41</td>\n",
       "      <td>N OAK PARK AVE</td>\n",
       "      <td>T002</td>\n",
       "      <td>4100  N OAK PARK AVE, Chicago, IL</td>\n",
       "      <td>41.95469</td>\n",
       "      <td>-87.800991</td>\n",
       "      <td>9</td>\n",
       "      <td>0</td>\n",
       "      <td>1</td>\n",
       "      <td>0</td>\n",
       "      <td>0.138026</td>\n",
       "      <td>0.17566</td>\n",
       "      <td>1</td>\n",
       "    </tr>\n",
       "    <tr>\n",
       "      <th>3</th>\n",
       "      <td>4</td>\n",
       "      <td>2008-06-11</td>\n",
       "      <td>4100 North Oak Park Avenue, Chicago, IL 60634,...</td>\n",
       "      <td>CULEX SALINARIUS</td>\n",
       "      <td>41</td>\n",
       "      <td>N OAK PARK AVE</td>\n",
       "      <td>T002</td>\n",
       "      <td>4100  N OAK PARK AVE, Chicago, IL</td>\n",
       "      <td>41.95469</td>\n",
       "      <td>-87.800991</td>\n",
       "      <td>9</td>\n",
       "      <td>0</td>\n",
       "      <td>0</td>\n",
       "      <td>0</td>\n",
       "      <td>0.138026</td>\n",
       "      <td>0.17566</td>\n",
       "      <td>1</td>\n",
       "    </tr>\n",
       "    <tr>\n",
       "      <th>4</th>\n",
       "      <td>5</td>\n",
       "      <td>2008-06-11</td>\n",
       "      <td>4100 North Oak Park Avenue, Chicago, IL 60634,...</td>\n",
       "      <td>CULEX TERRITANS</td>\n",
       "      <td>41</td>\n",
       "      <td>N OAK PARK AVE</td>\n",
       "      <td>T002</td>\n",
       "      <td>4100  N OAK PARK AVE, Chicago, IL</td>\n",
       "      <td>41.95469</td>\n",
       "      <td>-87.800991</td>\n",
       "      <td>9</td>\n",
       "      <td>0</td>\n",
       "      <td>0</td>\n",
       "      <td>0</td>\n",
       "      <td>0.138026</td>\n",
       "      <td>0.17566</td>\n",
       "      <td>1</td>\n",
       "    </tr>\n",
       "  </tbody>\n",
       "</table>\n",
       "</div>"
      ],
      "text/plain": [
       "   Id        Date                                            Address  \\\n",
       "0   1  2008-06-11  4100 North Oak Park Avenue, Chicago, IL 60634,...   \n",
       "1   2  2008-06-11  4100 North Oak Park Avenue, Chicago, IL 60634,...   \n",
       "2   3  2008-06-11  4100 North Oak Park Avenue, Chicago, IL 60634,...   \n",
       "3   4  2008-06-11  4100 North Oak Park Avenue, Chicago, IL 60634,...   \n",
       "4   5  2008-06-11  4100 North Oak Park Avenue, Chicago, IL 60634,...   \n",
       "\n",
       "                  Species  Block           Street  Trap  \\\n",
       "0  CULEX PIPIENS/RESTUANS     41   N OAK PARK AVE  T002   \n",
       "1          CULEX RESTUANS     41   N OAK PARK AVE  T002   \n",
       "2           CULEX PIPIENS     41   N OAK PARK AVE  T002   \n",
       "3        CULEX SALINARIUS     41   N OAK PARK AVE  T002   \n",
       "4         CULEX TERRITANS     41   N OAK PARK AVE  T002   \n",
       "\n",
       "              AddressNumberAndStreet  Latitude  Longitude  AddressAccuracy  \\\n",
       "0  4100  N OAK PARK AVE, Chicago, IL  41.95469 -87.800991                9   \n",
       "1  4100  N OAK PARK AVE, Chicago, IL  41.95469 -87.800991                9   \n",
       "2  4100  N OAK PARK AVE, Chicago, IL  41.95469 -87.800991                9   \n",
       "3  4100  N OAK PARK AVE, Chicago, IL  41.95469 -87.800991                9   \n",
       "4  4100  N OAK PARK AVE, Chicago, IL  41.95469 -87.800991                9   \n",
       "\n",
       "   CULEX PIPIENS/RESTUANS  CULEX PIPIENS  CULEX RESTUANS  diststat1  \\\n",
       "0                       1              0               0   0.138026   \n",
       "1                       0              0               1   0.138026   \n",
       "2                       0              1               0   0.138026   \n",
       "3                       0              0               0   0.138026   \n",
       "4                       0              0               0   0.138026   \n",
       "\n",
       "   diststat2  Station  \n",
       "0    0.17566        1  \n",
       "1    0.17566        1  \n",
       "2    0.17566        1  \n",
       "3    0.17566        1  \n",
       "4    0.17566        1  "
      ]
     },
     "execution_count": 31,
     "metadata": {},
     "output_type": "execute_result"
    }
   ],
   "source": [
    "# Apply for test data set\n",
    "\n",
    "test_df['diststat1'] = np.sqrt((test_df['Latitude'] - 41.995) ** 2 + (test_df['Longitude'] - (-87.933)) ** 2)\n",
    "test_df['diststat2'] = np.sqrt((test_df['Latitude'] - 41.786) ** 2 + (test_df['Longitude'] - (-87.752)) ** 2)\n",
    "test_df['Station'] = [2 if test_df['diststat1'][i] > test_df['diststat2'][i] else 1 for i in range(test_df.shape[0])]\n",
    "test_df.head()"
   ]
  },
  {
   "cell_type": "markdown",
   "metadata": {},
   "source": [
    "## Feature Engineering"
   ]
  },
  {
   "cell_type": "code",
   "execution_count": 32,
   "metadata": {
    "ExecuteTime": {
     "end_time": "2019-11-06T09:11:39.345262Z",
     "start_time": "2019-11-06T09:11:39.236478Z"
    }
   },
   "outputs": [],
   "source": [
    "# Feature engineer to add a new column 'dateofyear', which is the day within a year.\n",
    "train_df['dateofyear'] = pd.to_datetime(train_df['Date'], format='%Y-%m-%d').dt.dayofyear\n",
    "test_df['dateofyear'] = pd.to_datetime(test_df['Date'], format='%Y-%m-%d').dt.dayofyear"
   ]
  },
  {
   "cell_type": "code",
   "execution_count": 33,
   "metadata": {
    "ExecuteTime": {
     "end_time": "2019-11-06T09:11:41.380748Z",
     "start_time": "2019-11-06T09:11:40.943993Z"
    }
   },
   "outputs": [],
   "source": [
    "# Merged weather and train/test to one dataframe\n",
    "train_weather_df = pd.merge(train_df,weather_df,on=['Station','Date'])\n",
    "train_weather_df.drop(axis=1,columns=['index'],inplace=True)\n",
    "train_weather_df.head()\n",
    "train_weather_df.to_csv('../dataset/train_weather_csv')"
   ]
  },
  {
   "cell_type": "code",
   "execution_count": 34,
   "metadata": {
    "ExecuteTime": {
     "end_time": "2019-11-06T09:11:43.777356Z",
     "start_time": "2019-11-06T09:11:43.058204Z"
    }
   },
   "outputs": [],
   "source": [
    "test_weather_df = pd.merge(test_df,weather_df,on=['Station','Date'])\n",
    "# test_weather_df.drop(axis=1,columns=['index'],inplace=True)\n",
    "test_weather_df.head()\n",
    "train_weather_df.to_csv('../dataset/test_weather_csv')"
   ]
  },
  {
   "cell_type": "code",
   "execution_count": 35,
   "metadata": {
    "ExecuteTime": {
     "end_time": "2019-11-06T09:11:45.813898Z",
     "start_time": "2019-11-06T09:11:45.802894Z"
    }
   },
   "outputs": [
    {
     "data": {
      "text/plain": [
       "Date                       object\n",
       "Address                    object\n",
       "Species                    object\n",
       "Block                       int64\n",
       "Street                     object\n",
       "Trap                       object\n",
       "AddressNumberAndStreet     object\n",
       "Latitude                  float64\n",
       "Longitude                 float64\n",
       "AddressAccuracy             int64\n",
       "NumMosquitos                int64\n",
       "WnvPresent                  int64\n",
       "CULEX PIPIENS/RESTUANS      uint8\n",
       "CULEX PIPIENS               uint8\n",
       "CULEX RESTUANS              uint8\n",
       "diststat1                 float64\n",
       "diststat2                 float64\n",
       "Station                     int64\n",
       "dateofyear                  int64\n",
       "Tmax                        int64\n",
       "Tmin                        int64\n",
       "Tavg                      float64\n",
       "Depart                    float64\n",
       "DewPoint                    int64\n",
       "WetBulb                   float64\n",
       "Heat                      float64\n",
       "Cool                      float64\n",
       "Sunrise                     int64\n",
       "Sunset                      int64\n",
       "CodeSum                    object\n",
       "PrecipTotal               float64\n",
       "StnPressure               float64\n",
       "SeaLevel                  float64\n",
       "ResultSpeed               float64\n",
       "ResultDir                   int64\n",
       "AvgSpeed                  float64\n",
       "Year                        int64\n",
       "Month                       int64\n",
       "dtype: object"
      ]
     },
     "execution_count": 35,
     "metadata": {},
     "output_type": "execute_result"
    }
   ],
   "source": [
    "train_weather_df.dtypes"
   ]
  },
  {
   "cell_type": "code",
   "execution_count": 36,
   "metadata": {
    "ExecuteTime": {
     "end_time": "2019-11-06T09:11:47.958799Z",
     "start_time": "2019-11-06T09:11:47.741686Z"
    }
   },
   "outputs": [
    {
     "data": {
      "text/plain": [
       "Text(0, 0.5, 'No of Occurance of WNV')"
      ]
     },
     "execution_count": 36,
     "metadata": {},
     "output_type": "execute_result"
    },
    {
     "data": {
      "image/png": "[encoded data removed]",
      "text/plain": [
       "<Figure size 720x432 with 1 Axes>"
      ]
     },
     "metadata": {
      "needs_background": "light"
     },
     "output_type": "display_data"
    }
   ],
   "source": [
    "plt.figure(figsize=(10,6))\n",
    "ax = sns.countplot(x=\"WnvPresent\", data=train_weather_df)\n",
    "plt.title('Distribution of Target :WNV in the Train Dateset')\n",
    "plt.xlabel('Presence of WNV')\n",
    "plt.ylabel('No of Occurance of WNV')"
   ]
  },
  {
   "cell_type": "markdown",
   "metadata": {},
   "source": [
    "Unbalance distribution of target (Presence of WNV) in train datasets.<br>\n",
    "We will have to stratify our target variable while doing train-test-split."
   ]
  },
  {
   "cell_type": "code",
   "execution_count": 37,
   "metadata": {
    "ExecuteTime": {
     "end_time": "2019-11-06T09:11:50.479250Z",
     "start_time": "2019-11-06T09:11:49.958301Z"
    }
   },
   "outputs": [
    {
     "data": {
      "text/plain": [
       "Text(0.5, 0.98, 'Wnv Counts across Months')"
      ]
     },
     "execution_count": 37,
     "metadata": {},
     "output_type": "execute_result"
    },
    {
     "data": {
      "image/png": "[encoded data removed]",
      "text/plain": [
       "<Figure size 428x360 with 1 Axes>"
      ]
     },
     "metadata": {
      "needs_background": "light"
     },
     "output_type": "display_data"
    }
   ],
   "source": [
    "sns.catplot(data=train_weather_df, x=\"Month\", kind=\"count\", hue='WnvPresent').fig.suptitle(\"Wnv Counts across Months\")"
   ]
  },
  {
   "cell_type": "markdown",
   "metadata": {},
   "source": [
    "Presence of WNV virus is high in August."
   ]
  },
  {
   "cell_type": "code",
   "execution_count": 38,
   "metadata": {
    "ExecuteTime": {
     "end_time": "2019-11-06T09:11:53.786357Z",
     "start_time": "2019-11-06T09:11:53.061286Z"
    }
   },
   "outputs": [
    {
     "name": "stderr",
     "output_type": "stream",
     "text": [
      "C:\\Users\\User\\Anaconda3\\lib\\site-packages\\seaborn\\axisgrid.py:2065: UserWarning: The `size` parameter has been renamed to `height`; pleaes update your code.\n",
      "  warnings.warn(msg, UserWarning)\n"
     ]
    },
    {
     "data": {
      "text/plain": [
       "Text(0.5, 0.98, 'WetBulb Vs Average Temperature')"
      ]
     },
     "execution_count": 38,
     "metadata": {},
     "output_type": "execute_result"
    },
    {
     "data": {
      "image/png": "[encoded data removed]",
      "text/plain": [
       "<Figure size 428x360 with 1 Axes>"
      ]
     },
     "metadata": {
      "needs_background": "light"
     },
     "output_type": "display_data"
    }
   ],
   "source": [
    "sns.pairplot(data=train_weather_df, x_vars='WetBulb', y_vars='Tavg', hue='WnvPresent', size=5).fig.suptitle(\"WetBulb Vs Average Temperature\")"
   ]
  },
  {
   "cell_type": "markdown",
   "metadata": {},
   "source": [
    "There's a positive correlation between Average Temperature , Wetbulb and presence of WNV.<br>\n",
    "Presence of WNV is evident when Average Temperature is above 70 Degrees Fahrenheit and wetbulb is above 65 Degrees Fahrenheit. "
   ]
  },
  {
   "cell_type": "code",
   "execution_count": 39,
   "metadata": {
    "ExecuteTime": {
     "end_time": "2019-11-06T09:11:56.744440Z",
     "start_time": "2019-11-06T09:11:56.164990Z"
    }
   },
   "outputs": [
    {
     "data": {
      "text/plain": [
       "Text(0.5, 0.98, 'DewPoint Vs Average Temperature')"
      ]
     },
     "execution_count": 39,
     "metadata": {},
     "output_type": "execute_result"
    },
    {
     "data": {
      "image/png": "[encoded data removed]",
      "text/plain": [
       "<Figure size 428x360 with 1 Axes>"
      ]
     },
     "metadata": {
      "needs_background": "light"
     },
     "output_type": "display_data"
    }
   ],
   "source": [
    "sns.pairplot(data=train_weather_df, x_vars='DewPoint', y_vars='Tavg', hue='WnvPresent', size=5).fig.suptitle(\"DewPoint Vs Average Temperature\")"
   ]
  },
  {
   "cell_type": "markdown",
   "metadata": {},
   "source": [
    "There's a positive correlation between Average Temperature , DewPoint and presence of WNV.<br>\n",
    "Presence of WNV is evident when Average Temperature is above 70 Degrees Fahrenheit and DewPoint is above 55 Degrees Fahrenheit. "
   ]
  },
  {
   "cell_type": "code",
   "execution_count": 44,
   "metadata": {
    "ExecuteTime": {
     "end_time": "2019-11-06T09:12:58.059939Z",
     "start_time": "2019-11-06T09:12:58.018053Z"
    }
   },
   "outputs": [
    {
     "name": "stdout",
     "output_type": "stream",
     "text": [
      "(8610, 38)\n"
     ]
    },
    {
     "data": {
      "text/html": [
       "<div>\n",
       "<style scoped>\n",
       "    .dataframe tbody tr th:only-of-type {\n",
       "        vertical-align: middle;\n",
       "    }\n",
       "\n",
       "    .dataframe tbody tr th {\n",
       "        vertical-align: top;\n",
       "    }\n",
       "\n",
       "    .dataframe thead th {\n",
       "        text-align: right;\n",
       "    }\n",
       "</style>\n",
       "<table border=\"1\" class=\"dataframe\">\n",
       "  <thead>\n",
       "    <tr style=\"text-align: right;\">\n",
       "      <th></th>\n",
       "      <th>Date</th>\n",
       "      <th>Address</th>\n",
       "      <th>Species</th>\n",
       "      <th>Block</th>\n",
       "      <th>Street</th>\n",
       "      <th>Trap</th>\n",
       "      <th>AddressNumberAndStreet</th>\n",
       "      <th>Latitude</th>\n",
       "      <th>Longitude</th>\n",
       "      <th>AddressAccuracy</th>\n",
       "      <th>NumMosquitos</th>\n",
       "      <th>CULEX PIPIENS/RESTUANS</th>\n",
       "      <th>CULEX PIPIENS</th>\n",
       "      <th>CULEX RESTUANS</th>\n",
       "      <th>diststat1</th>\n",
       "      <th>diststat2</th>\n",
       "      <th>Station</th>\n",
       "      <th>dateofyear</th>\n",
       "      <th>Tmax</th>\n",
       "      <th>Tmin</th>\n",
       "      <th>Tavg</th>\n",
       "      <th>Depart</th>\n",
       "      <th>DewPoint</th>\n",
       "      <th>WetBulb</th>\n",
       "      <th>Heat</th>\n",
       "      <th>Cool</th>\n",
       "      <th>Sunrise</th>\n",
       "      <th>Sunset</th>\n",
       "      <th>CodeSum</th>\n",
       "      <th>PrecipTotal</th>\n",
       "      <th>StnPressure</th>\n",
       "      <th>SeaLevel</th>\n",
       "      <th>ResultSpeed</th>\n",
       "      <th>ResultDir</th>\n",
       "      <th>AvgSpeed</th>\n",
       "      <th>Year</th>\n",
       "      <th>Month</th>\n",
       "      <th>WnvPresent</th>\n",
       "    </tr>\n",
       "  </thead>\n",
       "  <tbody>\n",
       "    <tr>\n",
       "      <th>0</th>\n",
       "      <td>2007-05-29</td>\n",
       "      <td>4100 North Oak Park Avenue, Chicago, IL 60634,...</td>\n",
       "      <td>CULEX PIPIENS/RESTUANS</td>\n",
       "      <td>41</td>\n",
       "      <td>N OAK PARK AVE</td>\n",
       "      <td>T002</td>\n",
       "      <td>4100  N OAK PARK AVE, Chicago, IL</td>\n",
       "      <td>41.95469</td>\n",
       "      <td>-87.800991</td>\n",
       "      <td>9</td>\n",
       "      <td>1</td>\n",
       "      <td>1</td>\n",
       "      <td>0</td>\n",
       "      <td>0</td>\n",
       "      <td>0.138026</td>\n",
       "      <td>0.17566</td>\n",
       "      <td>1</td>\n",
       "      <td>149</td>\n",
       "      <td>88</td>\n",
       "      <td>60</td>\n",
       "      <td>74.0</td>\n",
       "      <td>10.0</td>\n",
       "      <td>58</td>\n",
       "      <td>65.0</td>\n",
       "      <td>0.0</td>\n",
       "      <td>9.0</td>\n",
       "      <td>421</td>\n",
       "      <td>1917</td>\n",
       "      <td>BR HZ</td>\n",
       "      <td>0.0</td>\n",
       "      <td>29.39</td>\n",
       "      <td>30.11</td>\n",
       "      <td>5.8</td>\n",
       "      <td>18</td>\n",
       "      <td>6.5</td>\n",
       "      <td>2007</td>\n",
       "      <td>5</td>\n",
       "      <td>0</td>\n",
       "    </tr>\n",
       "    <tr>\n",
       "      <th>1</th>\n",
       "      <td>2007-05-29</td>\n",
       "      <td>4100 North Oak Park Avenue, Chicago, IL 60634,...</td>\n",
       "      <td>CULEX RESTUANS</td>\n",
       "      <td>41</td>\n",
       "      <td>N OAK PARK AVE</td>\n",
       "      <td>T002</td>\n",
       "      <td>4100  N OAK PARK AVE, Chicago, IL</td>\n",
       "      <td>41.95469</td>\n",
       "      <td>-87.800991</td>\n",
       "      <td>9</td>\n",
       "      <td>1</td>\n",
       "      <td>0</td>\n",
       "      <td>0</td>\n",
       "      <td>1</td>\n",
       "      <td>0.138026</td>\n",
       "      <td>0.17566</td>\n",
       "      <td>1</td>\n",
       "      <td>149</td>\n",
       "      <td>88</td>\n",
       "      <td>60</td>\n",
       "      <td>74.0</td>\n",
       "      <td>10.0</td>\n",
       "      <td>58</td>\n",
       "      <td>65.0</td>\n",
       "      <td>0.0</td>\n",
       "      <td>9.0</td>\n",
       "      <td>421</td>\n",
       "      <td>1917</td>\n",
       "      <td>BR HZ</td>\n",
       "      <td>0.0</td>\n",
       "      <td>29.39</td>\n",
       "      <td>30.11</td>\n",
       "      <td>5.8</td>\n",
       "      <td>18</td>\n",
       "      <td>6.5</td>\n",
       "      <td>2007</td>\n",
       "      <td>5</td>\n",
       "      <td>0</td>\n",
       "    </tr>\n",
       "  </tbody>\n",
       "</table>\n",
       "</div>"
      ],
      "text/plain": [
       "         Date                                            Address  \\\n",
       "0  2007-05-29  4100 North Oak Park Avenue, Chicago, IL 60634,...   \n",
       "1  2007-05-29  4100 North Oak Park Avenue, Chicago, IL 60634,...   \n",
       "\n",
       "                  Species  Block           Street  Trap  \\\n",
       "0  CULEX PIPIENS/RESTUANS     41   N OAK PARK AVE  T002   \n",
       "1          CULEX RESTUANS     41   N OAK PARK AVE  T002   \n",
       "\n",
       "              AddressNumberAndStreet  Latitude  Longitude  AddressAccuracy  \\\n",
       "0  4100  N OAK PARK AVE, Chicago, IL  41.95469 -87.800991                9   \n",
       "1  4100  N OAK PARK AVE, Chicago, IL  41.95469 -87.800991                9   \n",
       "\n",
       "   NumMosquitos  CULEX PIPIENS/RESTUANS  CULEX PIPIENS  CULEX RESTUANS  \\\n",
       "0             1                       1              0               0   \n",
       "1             1                       0              0               1   \n",
       "\n",
       "   diststat1  diststat2  Station  dateofyear  Tmax  Tmin  Tavg  Depart  \\\n",
       "0   0.138026    0.17566        1         149    88    60  74.0    10.0   \n",
       "1   0.138026    0.17566        1         149    88    60  74.0    10.0   \n",
       "\n",
       "   DewPoint  WetBulb  Heat  Cool  Sunrise  Sunset CodeSum  PrecipTotal  \\\n",
       "0        58     65.0   0.0   9.0      421    1917   BR HZ          0.0   \n",
       "1        58     65.0   0.0   9.0      421    1917   BR HZ          0.0   \n",
       "\n",
       "   StnPressure  SeaLevel  ResultSpeed  ResultDir  AvgSpeed  Year  Month  \\\n",
       "0        29.39     30.11          5.8         18       6.5  2007      5   \n",
       "1        29.39     30.11          5.8         18       6.5  2007      5   \n",
       "\n",
       "   WnvPresent  \n",
       "0           0  \n",
       "1           0  "
      ]
     },
     "execution_count": 44,
     "metadata": {},
     "output_type": "execute_result"
    }
   ],
   "source": [
    "# Rearrange Column Name\n",
    "col_at_end=['WnvPresent']\n",
    "train_weather_df=train_weather_df[[c for c in train_weather_df if c not in col_at_end]+\n",
    "                                [c for c in col_at_end]]\n",
    "print(train_weather_df.shape)\n",
    "train_weather_df.head(2)"
   ]
  },
  {
   "cell_type": "code",
   "execution_count": 55,
   "metadata": {
    "ExecuteTime": {
     "end_time": "2019-11-06T09:16:40.483142Z",
     "start_time": "2019-11-06T09:16:40.459211Z"
    }
   },
   "outputs": [],
   "source": [
    "feat = ['dateofyear','Latitude','Longitude','AddressAccuracy','CULEX PIPIENS/RESTUANS','CULEX PIPIENS','CULEX RESTUANS','Heat','Cool','WetBulb','PrecipTotal','Sunrise','Sunset','Tmin','Tmax']\n",
    "\n",
    "X_subset = train_weather_df[feat]\n",
    "#y = train_weather_df['WnvPresent']\n",
    "X_kaggle_subset = test_weather_df[feat]"
   ]
  },
  {
   "cell_type": "code",
   "execution_count": 56,
   "metadata": {
    "ExecuteTime": {
     "end_time": "2019-11-06T09:16:47.673837Z",
     "start_time": "2019-11-06T09:16:47.646909Z"
    }
   },
   "outputs": [
    {
     "data": {
      "text/html": [
       "<div>\n",
       "<style scoped>\n",
       "    .dataframe tbody tr th:only-of-type {\n",
       "        vertical-align: middle;\n",
       "    }\n",
       "\n",
       "    .dataframe tbody tr th {\n",
       "        vertical-align: top;\n",
       "    }\n",
       "\n",
       "    .dataframe thead th {\n",
       "        text-align: right;\n",
       "    }\n",
       "</style>\n",
       "<table border=\"1\" class=\"dataframe\">\n",
       "  <thead>\n",
       "    <tr style=\"text-align: right;\">\n",
       "      <th></th>\n",
       "      <th>dateofyear</th>\n",
       "      <th>Latitude</th>\n",
       "      <th>Longitude</th>\n",
       "      <th>AddressAccuracy</th>\n",
       "      <th>CULEX PIPIENS/RESTUANS</th>\n",
       "      <th>CULEX PIPIENS</th>\n",
       "      <th>CULEX RESTUANS</th>\n",
       "      <th>Heat</th>\n",
       "      <th>Cool</th>\n",
       "      <th>WetBulb</th>\n",
       "      <th>PrecipTotal</th>\n",
       "      <th>Sunrise</th>\n",
       "      <th>Sunset</th>\n",
       "      <th>Tmin</th>\n",
       "      <th>Tmax</th>\n",
       "    </tr>\n",
       "  </thead>\n",
       "  <tbody>\n",
       "    <tr>\n",
       "      <th>0</th>\n",
       "      <td>149</td>\n",
       "      <td>41.954690</td>\n",
       "      <td>-87.800991</td>\n",
       "      <td>9</td>\n",
       "      <td>1</td>\n",
       "      <td>0</td>\n",
       "      <td>0</td>\n",
       "      <td>0.0</td>\n",
       "      <td>9.0</td>\n",
       "      <td>65.0</td>\n",
       "      <td>0.0</td>\n",
       "      <td>421</td>\n",
       "      <td>1917</td>\n",
       "      <td>60</td>\n",
       "      <td>88</td>\n",
       "    </tr>\n",
       "    <tr>\n",
       "      <th>1</th>\n",
       "      <td>149</td>\n",
       "      <td>41.954690</td>\n",
       "      <td>-87.800991</td>\n",
       "      <td>9</td>\n",
       "      <td>0</td>\n",
       "      <td>0</td>\n",
       "      <td>1</td>\n",
       "      <td>0.0</td>\n",
       "      <td>9.0</td>\n",
       "      <td>65.0</td>\n",
       "      <td>0.0</td>\n",
       "      <td>421</td>\n",
       "      <td>1917</td>\n",
       "      <td>60</td>\n",
       "      <td>88</td>\n",
       "    </tr>\n",
       "    <tr>\n",
       "      <th>2</th>\n",
       "      <td>149</td>\n",
       "      <td>41.994991</td>\n",
       "      <td>-87.769279</td>\n",
       "      <td>9</td>\n",
       "      <td>0</td>\n",
       "      <td>0</td>\n",
       "      <td>1</td>\n",
       "      <td>0.0</td>\n",
       "      <td>9.0</td>\n",
       "      <td>65.0</td>\n",
       "      <td>0.0</td>\n",
       "      <td>421</td>\n",
       "      <td>1917</td>\n",
       "      <td>60</td>\n",
       "      <td>88</td>\n",
       "    </tr>\n",
       "    <tr>\n",
       "      <th>3</th>\n",
       "      <td>149</td>\n",
       "      <td>41.974089</td>\n",
       "      <td>-87.824812</td>\n",
       "      <td>8</td>\n",
       "      <td>1</td>\n",
       "      <td>0</td>\n",
       "      <td>0</td>\n",
       "      <td>0.0</td>\n",
       "      <td>9.0</td>\n",
       "      <td>65.0</td>\n",
       "      <td>0.0</td>\n",
       "      <td>421</td>\n",
       "      <td>1917</td>\n",
       "      <td>60</td>\n",
       "      <td>88</td>\n",
       "    </tr>\n",
       "    <tr>\n",
       "      <th>4</th>\n",
       "      <td>149</td>\n",
       "      <td>41.974089</td>\n",
       "      <td>-87.824812</td>\n",
       "      <td>8</td>\n",
       "      <td>0</td>\n",
       "      <td>0</td>\n",
       "      <td>1</td>\n",
       "      <td>0.0</td>\n",
       "      <td>9.0</td>\n",
       "      <td>65.0</td>\n",
       "      <td>0.0</td>\n",
       "      <td>421</td>\n",
       "      <td>1917</td>\n",
       "      <td>60</td>\n",
       "      <td>88</td>\n",
       "    </tr>\n",
       "  </tbody>\n",
       "</table>\n",
       "</div>"
      ],
      "text/plain": [
       "   dateofyear   Latitude  Longitude  AddressAccuracy  CULEX PIPIENS/RESTUANS  \\\n",
       "0         149  41.954690 -87.800991                9                       1   \n",
       "1         149  41.954690 -87.800991                9                       0   \n",
       "2         149  41.994991 -87.769279                9                       0   \n",
       "3         149  41.974089 -87.824812                8                       1   \n",
       "4         149  41.974089 -87.824812                8                       0   \n",
       "\n",
       "   CULEX PIPIENS  CULEX RESTUANS  Heat  Cool  WetBulb  PrecipTotal  Sunrise  \\\n",
       "0              0               0   0.0   9.0     65.0          0.0      421   \n",
       "1              0               1   0.0   9.0     65.0          0.0      421   \n",
       "2              0               1   0.0   9.0     65.0          0.0      421   \n",
       "3              0               0   0.0   9.0     65.0          0.0      421   \n",
       "4              0               1   0.0   9.0     65.0          0.0      421   \n",
       "\n",
       "   Sunset  Tmin  Tmax  \n",
       "0    1917    60    88  \n",
       "1    1917    60    88  \n",
       "2    1917    60    88  \n",
       "3    1917    60    88  \n",
       "4    1917    60    88  "
      ]
     },
     "execution_count": 56,
     "metadata": {},
     "output_type": "execute_result"
    }
   ],
   "source": [
    "X_subset.head()"
   ]
  },
  {
   "cell_type": "markdown",
   "metadata": {},
   "source": [
    "Applying polynomial features to get a sense of interaction terms."
   ]
  },
  {
   "cell_type": "code",
   "execution_count": 57,
   "metadata": {
    "ExecuteTime": {
     "end_time": "2019-11-06T09:16:54.323984Z",
     "start_time": "2019-11-06T09:16:53.779434Z"
    }
   },
   "outputs": [],
   "source": [
    "poly = PolynomialFeatures(interaction_only=True, include_bias=False)\n",
    "X_train_poly = poly.fit_transform(X_subset)\n",
    "X_kaggle_poly = poly.fit_transform(X_kaggle_subset)"
   ]
  },
  {
   "cell_type": "code",
   "execution_count": 59,
   "metadata": {
    "ExecuteTime": {
     "end_time": "2019-11-06T09:17:43.073242Z",
     "start_time": "2019-11-06T09:17:43.041329Z"
    }
   },
   "outputs": [],
   "source": [
    "poly_train = pd.DataFrame(X_train_poly, columns = poly.get_feature_names(X_subset.columns),index=train_weather_df.index)\n",
    "poly_kaggle = pd.DataFrame(X_kaggle_poly, columns = poly.get_feature_names(X_kaggle_subset.columns),index=test_weather_df.index)"
   ]
  },
  {
   "cell_type": "code",
   "execution_count": 61,
   "metadata": {
    "ExecuteTime": {
     "end_time": "2019-11-06T09:18:10.251575Z",
     "start_time": "2019-11-06T09:18:10.245619Z"
    }
   },
   "outputs": [],
   "source": [
    "poly_train['WnvPresent'] = train_weather_df['WnvPresent']"
   ]
  },
  {
   "cell_type": "code",
   "execution_count": 63,
   "metadata": {
    "ExecuteTime": {
     "end_time": "2019-11-06T09:18:30.761058Z",
     "start_time": "2019-11-06T09:18:30.391047Z"
    }
   },
   "outputs": [
    {
     "data": {
      "text/plain": [
       "['WnvPresent',\n",
       " 'WetBulb Sunrise',\n",
       " 'dateofyear WetBulb',\n",
       " 'Sunrise Tmin',\n",
       " 'dateofyear Tmin',\n",
       " 'Sunrise Sunset',\n",
       " 'dateofyear Tmax',\n",
       " 'Sunrise Tmax',\n",
       " 'dateofyear Sunset',\n",
       " 'CULEX PIPIENS Cool',\n",
       " 'CULEX PIPIENS Tmin',\n",
       " 'CULEX PIPIENS WetBulb',\n",
       " 'dateofyear Latitude',\n",
       " 'dateofyear Longitude',\n",
       " 'dateofyear',\n",
       " 'CULEX PIPIENS Tmax',\n",
       " 'CULEX PIPIENS Sunrise',\n",
       " 'dateofyear CULEX PIPIENS',\n",
       " 'Latitude Sunrise',\n",
       " 'Longitude Sunrise',\n",
       " 'Sunrise',\n",
       " 'Latitude CULEX PIPIENS',\n",
       " 'Longitude CULEX PIPIENS',\n",
       " 'CULEX PIPIENS Sunset',\n",
       " 'CULEX PIPIENS',\n",
       " 'AddressAccuracy CULEX PIPIENS',\n",
       " 'dateofyear Sunrise',\n",
       " 'CULEX RESTUANS Sunset',\n",
       " 'CULEX RESTUANS',\n",
       " 'Longitude CULEX RESTUANS',\n",
       " 'Latitude CULEX RESTUANS']"
      ]
     },
     "execution_count": 63,
     "metadata": {},
     "output_type": "execute_result"
    }
   ],
   "source": [
    "features = np.abs(poly_train.corr()[['WnvPresent']]).sort_values(by='WnvPresent',ascending=False).head(31).T\n",
    "features.columns.tolist()"
   ]
  },
  {
   "cell_type": "code",
   "execution_count": 53,
   "metadata": {
    "ExecuteTime": {
     "end_time": "2019-11-06T09:14:34.610510Z",
     "start_time": "2019-11-06T09:14:34.599537Z"
    }
   },
   "outputs": [
    {
     "data": {
      "text/plain": [
       "['dateofyear',\n",
       " 'Latitude',\n",
       " 'Longitude',\n",
       " 'AddressAccuracy',\n",
       " 'CULEX PIPIENS/RESTUANS',\n",
       " 'CULEX PIPIENS',\n",
       " 'CULEX RESTUANS',\n",
       " 'Heat',\n",
       " 'Cool',\n",
       " 'WetBulb',\n",
       " 'PrecipTotal',\n",
       " 'Sunrise',\n",
       " 'Sunset',\n",
       " 'Tmin',\n",
       " 'Tmax',\n",
       " 'dateofyear Latitude',\n",
       " 'dateofyear Longitude',\n",
       " 'dateofyear AddressAccuracy',\n",
       " 'dateofyear CULEX PIPIENS/RESTUANS',\n",
       " 'dateofyear CULEX PIPIENS',\n",
       " 'dateofyear CULEX RESTUANS',\n",
       " 'dateofyear Heat',\n",
       " 'dateofyear Cool',\n",
       " 'dateofyear WetBulb',\n",
       " 'dateofyear PrecipTotal',\n",
       " 'dateofyear Sunrise',\n",
       " 'dateofyear Sunset',\n",
       " 'dateofyear Tmin',\n",
       " 'dateofyear Tmax',\n",
       " 'Latitude Longitude',\n",
       " 'Latitude AddressAccuracy',\n",
       " 'Latitude CULEX PIPIENS/RESTUANS',\n",
       " 'Latitude CULEX PIPIENS',\n",
       " 'Latitude CULEX RESTUANS',\n",
       " 'Latitude Heat',\n",
       " 'Latitude Cool',\n",
       " 'Latitude WetBulb',\n",
       " 'Latitude PrecipTotal',\n",
       " 'Latitude Sunrise',\n",
       " 'Latitude Sunset',\n",
       " 'Latitude Tmin',\n",
       " 'Latitude Tmax',\n",
       " 'Longitude AddressAccuracy',\n",
       " 'Longitude CULEX PIPIENS/RESTUANS',\n",
       " 'Longitude CULEX PIPIENS',\n",
       " 'Longitude CULEX RESTUANS',\n",
       " 'Longitude Heat',\n",
       " 'Longitude Cool',\n",
       " 'Longitude WetBulb',\n",
       " 'Longitude PrecipTotal',\n",
       " 'Longitude Sunrise',\n",
       " 'Longitude Sunset',\n",
       " 'Longitude Tmin',\n",
       " 'Longitude Tmax',\n",
       " 'AddressAccuracy CULEX PIPIENS/RESTUANS',\n",
       " 'AddressAccuracy CULEX PIPIENS',\n",
       " 'AddressAccuracy CULEX RESTUANS',\n",
       " 'AddressAccuracy Heat',\n",
       " 'AddressAccuracy Cool',\n",
       " 'AddressAccuracy WetBulb',\n",
       " 'AddressAccuracy PrecipTotal',\n",
       " 'AddressAccuracy Sunrise',\n",
       " 'AddressAccuracy Sunset',\n",
       " 'AddressAccuracy Tmin',\n",
       " 'AddressAccuracy Tmax',\n",
       " 'CULEX PIPIENS/RESTUANS CULEX PIPIENS',\n",
       " 'CULEX PIPIENS/RESTUANS CULEX RESTUANS',\n",
       " 'CULEX PIPIENS/RESTUANS Heat',\n",
       " 'CULEX PIPIENS/RESTUANS Cool',\n",
       " 'CULEX PIPIENS/RESTUANS WetBulb',\n",
       " 'CULEX PIPIENS/RESTUANS PrecipTotal',\n",
       " 'CULEX PIPIENS/RESTUANS Sunrise',\n",
       " 'CULEX PIPIENS/RESTUANS Sunset',\n",
       " 'CULEX PIPIENS/RESTUANS Tmin',\n",
       " 'CULEX PIPIENS/RESTUANS Tmax',\n",
       " 'CULEX PIPIENS CULEX RESTUANS',\n",
       " 'CULEX PIPIENS Heat',\n",
       " 'CULEX PIPIENS Cool',\n",
       " 'CULEX PIPIENS WetBulb',\n",
       " 'CULEX PIPIENS PrecipTotal',\n",
       " 'CULEX PIPIENS Sunrise',\n",
       " 'CULEX PIPIENS Sunset',\n",
       " 'CULEX PIPIENS Tmin',\n",
       " 'CULEX PIPIENS Tmax',\n",
       " 'CULEX RESTUANS Heat',\n",
       " 'CULEX RESTUANS Cool',\n",
       " 'CULEX RESTUANS WetBulb',\n",
       " 'CULEX RESTUANS PrecipTotal',\n",
       " 'CULEX RESTUANS Sunrise',\n",
       " 'CULEX RESTUANS Sunset',\n",
       " 'CULEX RESTUANS Tmin',\n",
       " 'CULEX RESTUANS Tmax',\n",
       " 'Heat Cool',\n",
       " 'Heat WetBulb',\n",
       " 'Heat PrecipTotal',\n",
       " 'Heat Sunrise',\n",
       " 'Heat Sunset',\n",
       " 'Heat Tmin',\n",
       " 'Heat Tmax',\n",
       " 'Cool WetBulb',\n",
       " 'Cool PrecipTotal',\n",
       " 'Cool Sunrise',\n",
       " 'Cool Sunset',\n",
       " 'Cool Tmin',\n",
       " 'Cool Tmax',\n",
       " 'WetBulb PrecipTotal',\n",
       " 'WetBulb Sunrise',\n",
       " 'WetBulb Sunset',\n",
       " 'WetBulb Tmin',\n",
       " 'WetBulb Tmax',\n",
       " 'PrecipTotal Sunrise',\n",
       " 'PrecipTotal Sunset',\n",
       " 'PrecipTotal Tmin',\n",
       " 'PrecipTotal Tmax',\n",
       " 'Sunrise Sunset',\n",
       " 'Sunrise Tmin',\n",
       " 'Sunrise Tmax',\n",
       " 'Sunset Tmin',\n",
       " 'Sunset Tmax',\n",
       " 'Tmin Tmax']"
      ]
     },
     "execution_count": 53,
     "metadata": {},
     "output_type": "execute_result"
    }
   ],
   "source": [
    "list(poly_train.columns)"
   ]
  },
  {
   "cell_type": "code",
   "execution_count": 65,
   "metadata": {
    "ExecuteTime": {
     "end_time": "2019-11-06T09:20:32.671891Z",
     "start_time": "2019-11-06T09:20:32.613030Z"
    }
   },
   "outputs": [],
   "source": [
    "# # feature_list = ['dateofyear',\n",
    "# #                 'Latitude', \n",
    "# #                 'Longitude',\n",
    "# #                 'CULEX PIPIENS/RESTUANS',\n",
    "# #                 'CULEX PIPIENS',\n",
    "# #                 'CULEX RESTUANS',\n",
    "# #                 'dateofyear CULEX PIPIENS/RESTUANS',\n",
    "# #                 'dateofyear CULEX PIPIENS',\n",
    "# #                 'dateofyear CULEX RESTUANS',\n",
    "# #                 'Latitude CULEX PIPIENS/RESTUANS',\n",
    "# #                 'Latitude CULEX PIPIENS',\n",
    "# #                 'Latitude CULEX RESTUANS',\n",
    "# #                 'Longitude CULEX PIPIENS/RESTUANS', \n",
    "# #                 'Longitude CULEX PIPIENS',\n",
    "# #                 'Longitude CULEX RESTUANS',\n",
    "# #                'Heat','Cool','WetBulb','PrecipTotal','Sunrise','Sunset','Tmin','Tmax']\n",
    "\n",
    "# feature_list = ['dateofyear CULEX PIPIENS/RESTUANS',\n",
    "#                'dateofyear CULEX PIPIENS',\n",
    "#                'dateofyear CULEX RESTUANS',\n",
    "#                'CULEX PIPIENS/RESTUANS Sunrise',\n",
    "#                'CULEX PIPIENS Sunrise',\n",
    "#                'CULEX RESTUANS Sunrise',\n",
    "#                'Longitude CULEX PIPIENS/RESTUANS',\n",
    "#                'Longitude CULEX PIPIENS',\n",
    "#                'Longitude CULEX RESTUANS',\n",
    "#               'WetBulb Sunrise','Sunrise']\n",
    "\n",
    "\n",
    "feature_list =[\n",
    " 'WetBulb Sunrise',\n",
    " 'dateofyear WetBulb',\n",
    " 'Sunrise Tmin',\n",
    " 'dateofyear Tmin',\n",
    " 'Sunrise Sunset',\n",
    " 'dateofyear Tmax',\n",
    " 'Sunrise Tmax',\n",
    " 'dateofyear Sunset',\n",
    " 'CULEX PIPIENS Cool',\n",
    " 'CULEX PIPIENS Tmin',\n",
    " 'CULEX PIPIENS WetBulb',\n",
    " 'dateofyear Latitude',\n",
    " 'dateofyear Longitude',\n",
    " 'dateofyear',\n",
    " 'CULEX PIPIENS Tmax',\n",
    " 'CULEX PIPIENS Sunrise',\n",
    " 'dateofyear CULEX PIPIENS',\n",
    " 'Latitude Sunrise',\n",
    " 'Longitude Sunrise',\n",
    " 'Sunrise',\n",
    " 'Latitude CULEX PIPIENS',\n",
    " 'Longitude CULEX PIPIENS',\n",
    " 'CULEX PIPIENS Sunset',\n",
    " 'CULEX PIPIENS',\n",
    " 'AddressAccuracy CULEX PIPIENS',\n",
    " 'dateofyear Sunrise',\n",
    " 'CULEX RESTUANS Sunset',\n",
    " 'CULEX RESTUANS',\n",
    " 'Longitude CULEX RESTUANS',\n",
    " 'Latitude CULEX RESTUANS']\n",
    "X = poly_train[feature_list]\n",
    "X_kaggle = poly_kaggle[feature_list]"
   ]
  },
  {
   "cell_type": "markdown",
   "metadata": {},
   "source": [
    "## Model Evaluation & Kaggle Prediction Scoring"
   ]
  },
  {
   "cell_type": "markdown",
   "metadata": {},
   "source": [
    "We first create functions that will help us with our modelling later."
   ]
  },
  {
   "cell_type": "code",
   "execution_count": 84,
   "metadata": {
    "ExecuteTime": {
     "end_time": "2019-11-06T09:50:55.110861Z",
     "start_time": "2019-11-06T09:50:54.984016Z"
    }
   },
   "outputs": [],
   "source": [
    "model_dict = {\n",
    "    'ss': StandardScaler(),\n",
    "    'lr': LogisticRegression(solver='lbfgs'),\n",
    "    'nb': MultinomialNB(),\n",
    "    'knn': KNeighborsClassifier(),\n",
    "    'dt': DecisionTreeClassifier(),\n",
    "    'rf': RandomForestClassifier(random_state=42),\n",
    "    'et': ExtraTreesClassifier(),\n",
    "    'ada_dt': AdaBoostClassifier(random_state=42),\n",
    "    'ada_rf': AdaBoostClassifier(base_estimator=RandomForestClassifier(random_state=42),random_state=42),\n",
    "    'gboost': GradientBoostingClassifier()\n",
    "}\n",
    "\n",
    "model_full = {\n",
    "    'ss': 'Standard Scaler',\n",
    "    'lr': 'Logistic Regression',\n",
    "    'knn': 'KNearestNeighbor',\n",
    "    'nb': 'Multinomial NB',\n",
    "    'dt': 'Decision Tree',\n",
    "    'rf': 'Random Forest',\n",
    "    'et': 'Extra Tree',\n",
    "    'ada_dt': 'AdaBoost - Decision Tree',\n",
    "    'ada_rf': 'AdaBoost - Random Forest',\n",
    "    'gboost': 'Gradient Boosting Classifier'\n",
    "}\n",
    "\n",
    "param_dict = {    \n",
    "    'knn': {\n",
    "        'knn__n_neighbors': [2,3,4,5]\n",
    "    },\n",
    "    'lr': {\n",
    "        'lr__max_iter': [100,200]\n",
    "    },\n",
    "    'nb': {},\n",
    "    'dt': {\n",
    "        'dt__max_depth': [5,7],\n",
    "        'dt__min_samples_split': [10,15],\n",
    "        'dt__min_samples_leaf': [3,4]\n",
    "    },\n",
    "    'rf': {\n",
    "        'rf__n_estimators': [500,1000,2000],\n",
    "        'rf__min_samples_split': [2,3],\n",
    "        'rf__max_depth': [2,3],\n",
    "        'rf__min_samples_leaf': [3,4]\n",
    "        \n",
    "    },\n",
    "    'et': {\n",
    "        'et__n_estimators': [1000,2000],\n",
    "        'et__min_samples_split': [2,3],\n",
    "    },\n",
    "    'ada_dt': {\n",
    "        'ada_dt__n_estimators': [50,100,200],\n",
    "        'ada_dt__learning_rate': [0.9, 1]\n",
    "    },\n",
    "    'ada_rf': {\n",
    "        'ada_rf__n_estimators': [50,100,200],\n",
    "        'ada_rf__learning_rate': [0.9, 1],\n",
    "        'ada_rf__base_estimator__max_depth': [3], \n",
    "        'ada_rf__base_estimator__min_samples_leaf': [4], \n",
    "        'ada_rf__base_estimator__min_samples_split': [2], \n",
    "        'ada_rf__base_estimator__n_estimators': [1000]\n",
    "    },\n",
    "    'gboost': {\n",
    "        'gboost__n_estimators': [50,100],\n",
    "        'gboost__max_depth': [2,3,4],\n",
    "        'gboost__learning_rate': [0.1, 0.5, 1]\n",
    "    }\n",
    "}\n",
    "\n",
    "def prepare_pipeline(list_of_models):\n",
    "    \"\"\"\n",
    "    Prepare pipeline of models to be used for modelling\n",
    "    \n",
    "    Parameters\n",
    "    ----------\n",
    "    list_of_models: list[str]\n",
    "        List of models to be included for pipeline\n",
    "    \n",
    "    Returns\n",
    "    -------\n",
    "    Pipeline\n",
    "        Pipeline of models to be run\n",
    "    \"\"\"\n",
    "    pipe_list = [(i,model_dict[i]) for i in list_of_models]\n",
    "    return Pipeline(pipe_list)\n",
    "\n",
    "def add_params(name,pipe_dict):\n",
    "    \"\"\"\n",
    "    Add parameters for GridSearch\n",
    "    \n",
    "    Parameters\n",
    "    ----------\n",
    "    name: str\n",
    "        Name of model/vectorization method to have params added.\n",
    "    pipe_dict: Dictionary\n",
    "        Dictionary that contains parameters to be added into GridSearch\n",
    "    \n",
    "    Returns\n",
    "    -------\n",
    "    Dictionary\n",
    "        Dictionary that contains parameters to be added for GridSearch\n",
    "    \"\"\"\n",
    "    params = param_dict[name]\n",
    "    for k,v in params.items():\n",
    "        pipe_dict[k] = v\n",
    "    return pipe_dict\n",
    "\n",
    "def grid_search(model,train_data=X,train_target=y):\n",
    "    \"\"\"\n",
    "    Initialize and run GridSearch\n",
    "    \n",
    "    Parameters\n",
    "    ----------\n",
    "    model: str\n",
    "        Initialize which classification model to use. Note classification model has to be contained in model_dict.\n",
    "        \n",
    "    train_data: list[str]\n",
    "        List of training data to be used\n",
    "    \n",
    "    Returns\n",
    "    -------\n",
    "    List\n",
    "        List that contains predicted values of the test data\n",
    "    \"\"\"\n",
    "    X_train, X_test, y_train,y_test = train_test_split(train_data,train_target,test_size=0.25,stratify=train_target,random_state=42)\n",
    "    pipe_params = {}\n",
    "    pipe_params = add_params(model,pipe_params)\n",
    "    pipe = prepare_pipeline(['ss',model])\n",
    "    gs = GridSearchCV(pipe,param_grid=pipe_params,cv=3,n_jobs=-1,scoring='roc_auc')\n",
    "    gs.fit(X_train,y_train)\n",
    "    print(f'Using {model_full[model]}:')\n",
    "    print(f'Train Score: {round(gs.best_score_,4)}')\n",
    "    print(f'Test Score: {round(gs.score(X_test,y_test),4)}')\n",
    "    print(f'Using the following parameters: {gs.best_params_}')\n",
    "    \n",
    "    return {'gs':gs, 'data': {'X_test' : X_test , 'y_test':y_test} }\n"
   ]
  },
  {
   "cell_type": "code",
   "execution_count": 67,
   "metadata": {
    "ExecuteTime": {
     "end_time": "2019-11-06T09:20:53.989200Z",
     "start_time": "2019-11-06T09:20:53.950306Z"
    }
   },
   "outputs": [],
   "source": [
    "## Function to fit full data and predict kaggle target, store as csv\n",
    "def predict_kaggle(model,output,X=X,y=y,X_kaggle=X_kaggle):\n",
    "    model.fit(X,y)\n",
    "    pred = model.predict_proba(X_kaggle)[:,1]\n",
    "    pred_df = pd.DataFrame({'Id':test_weather_df['Id'],'WnvPresent': pred})\n",
    "    pred_df.to_csv('../KaggleSubmission/'+output+'.csv',index=False)\n",
    "    pass"
   ]
  },
  {
   "cell_type": "markdown",
   "metadata": {},
   "source": [
    "We will run the following models and get the train-test scores + Kaggle scores as well.\n",
    "\n",
    "1. Random Forest\n",
    "2. Logistic Regression\n",
    "3. AdaBoost with Decision Trees\n",
    "4. Gradient Boosting\n",
    "5. Adaboost with Random Forest"
   ]
  },
  {
   "cell_type": "code",
   "execution_count": 70,
   "metadata": {
    "ExecuteTime": {
     "end_time": "2019-11-06T09:30:11.047218Z",
     "start_time": "2019-11-06T09:27:53.700070Z"
    }
   },
   "outputs": [
    {
     "name": "stdout",
     "output_type": "stream",
     "text": [
      "Using Random Forest:\n",
      "Train Score: 0.7918\n",
      "Test Score: 0.8264\n",
      "Using the following parameters: {'rf__max_depth': 3, 'rf__min_samples_leaf': 4, 'rf__min_samples_split': 2, 'rf__n_estimators': 2000}\n"
     ]
    }
   ],
   "source": [
    "grid_search('rf')"
   ]
  },
  {
   "cell_type": "code",
   "execution_count": 73,
   "metadata": {
    "ExecuteTime": {
     "end_time": "2019-11-06T09:33:32.964093Z",
     "start_time": "2019-11-06T09:32:53.266693Z"
    }
   },
   "outputs": [],
   "source": [
    "predict_kaggle(RandomForestClassifier(n_estimators=2000,min_samples_leaf=4,min_samples_split=2,max_depth=3,random_state=42),'rf_prediction')"
   ]
  },
  {
   "cell_type": "code",
   "execution_count": 74,
   "metadata": {
    "ExecuteTime": {
     "end_time": "2019-11-06T09:33:54.946572Z",
     "start_time": "2019-11-06T09:33:40.989940Z"
    }
   },
   "outputs": [
    {
     "name": "stdout",
     "output_type": "stream",
     "text": [
      "Using AdaBoost - Decision Tree:\n",
      "Train Score: 0.7964\n",
      "Test Score: 0.8308\n",
      "Using the following parameters: {'ada_dt__learning_rate': 0.9, 'ada_dt__n_estimators': 50}\n"
     ]
    }
   ],
   "source": [
    "grid_search('ada_dt')"
   ]
  },
  {
   "cell_type": "code",
   "execution_count": 76,
   "metadata": {
    "ExecuteTime": {
     "end_time": "2019-11-06T09:38:34.942845Z",
     "start_time": "2019-11-06T09:37:45.843809Z"
    }
   },
   "outputs": [
    {
     "name": "stdout",
     "output_type": "stream",
     "text": [
      "Optimal number of features (after applying RFECV): 15\n"
     ]
    }
   ],
   "source": [
    "ada_dt = AdaBoostClassifier(learning_rate=0.9, n_estimators=50)\n",
    "ada_dt.fit(X, y)\n",
    "\n",
    "rfecv = RFECV(estimator=ada_dt,\n",
    "              step=5,\n",
    "              min_features_to_select=5,\n",
    "              cv=10,\n",
    "              scoring='roc_auc')\n",
    "\n",
    "rfecv.fit(X, y)\n",
    "\n",
    "print('Optimal number of features (after applying RFECV): {}'.format(rfecv.n_features_))"
   ]
  },
  {
   "cell_type": "code",
   "execution_count": 77,
   "metadata": {
    "ExecuteTime": {
     "end_time": "2019-11-06T09:38:42.293481Z",
     "start_time": "2019-11-06T09:38:42.251058Z"
    }
   },
   "outputs": [],
   "source": [
    "# Create dataframe for RFECV features\n",
    "rfecv_df = pd.DataFrame(data=rfecv.ranking_.reshape(-1,1), \n",
    "                        index=X.columns, \n",
    "                        columns=['Rank'])\n",
    "\n",
    "# Create list of selected features that have the highest rank (rank equals 1)\n",
    "final_features = rfecv_df[rfecv_df['Rank'] == 1].index.tolist()"
   ]
  },
  {
   "cell_type": "code",
   "execution_count": 78,
   "metadata": {
    "ExecuteTime": {
     "end_time": "2019-11-06T09:38:49.462967Z",
     "start_time": "2019-11-06T09:38:49.409445Z"
    }
   },
   "outputs": [],
   "source": [
    "X = poly_train[final_features]\n",
    "X_kaggle = poly_kaggle[final_features]"
   ]
  },
  {
   "cell_type": "code",
   "execution_count": 79,
   "metadata": {
    "ExecuteTime": {
     "end_time": "2019-11-06T09:39:18.567316Z",
     "start_time": "2019-11-06T09:38:56.766308Z"
    }
   },
   "outputs": [
    {
     "name": "stdout",
     "output_type": "stream",
     "text": [
      "Using AdaBoost - Decision Tree:\n",
      "Train Score: 0.7964\n",
      "Test Score: 0.8308\n",
      "Using the following parameters: {'ada_dt__learning_rate': 0.9, 'ada_dt__n_estimators': 50}\n"
     ]
    }
   ],
   "source": [
    "grid_search('ada_dt')"
   ]
  },
  {
   "cell_type": "code",
   "execution_count": 80,
   "metadata": {
    "ExecuteTime": {
     "end_time": "2019-11-06T09:40:48.780574Z",
     "start_time": "2019-11-06T09:40:43.779376Z"
    }
   },
   "outputs": [],
   "source": [
    "predict_kaggle(AdaBoostClassifier(learning_rate=0.9,n_estimators=50,random_state=42),'ada_prediction')"
   ]
  },
  {
   "cell_type": "code",
   "execution_count": 81,
   "metadata": {
    "ExecuteTime": {
     "end_time": "2019-11-06T09:41:18.202465Z",
     "start_time": "2019-11-06T09:40:55.948281Z"
    }
   },
   "outputs": [
    {
     "name": "stdout",
     "output_type": "stream",
     "text": [
      "Using Gradient Boosting Classifier:\n",
      "Train Score: 0.8122\n",
      "Test Score: 0.8327\n",
      "Using the following parameters: {'gboost__learning_rate': 0.1, 'gboost__max_depth': 3, 'gboost__n_estimators': 100}\n"
     ]
    }
   ],
   "source": [
    "grid_search('gboost')"
   ]
  },
  {
   "cell_type": "code",
   "execution_count": 82,
   "metadata": {
    "ExecuteTime": {
     "end_time": "2019-11-06T09:41:54.806353Z",
     "start_time": "2019-11-06T09:41:51.802094Z"
    }
   },
   "outputs": [],
   "source": [
    "predict_kaggle(GradientBoostingClassifier(n_estimators=100,max_depth=3,learning_rate=0.1),'gboost_prediction')"
   ]
  },
  {
   "cell_type": "code",
   "execution_count": null,
   "metadata": {
    "ExecuteTime": {
     "end_time": "2019-11-06T06:44:12.394177Z",
     "start_time": "2019-11-06T06:43:17.829Z"
    }
   },
   "outputs": [],
   "source": [
    "#grid_search('ada_rf')"
   ]
  },
  {
   "cell_type": "code",
   "execution_count": null,
   "metadata": {
    "ExecuteTime": {
     "end_time": "2019-11-06T06:44:12.396172Z",
     "start_time": "2019-11-06T06:43:17.834Z"
    }
   },
   "outputs": [],
   "source": [
    "#predict_kaggle(AdaBoostClassifier(base_estimator=RandomForestClassifier(max_depth=3,min_samples_leaf=4,min_samples_split=2,n_estimators=1000,random_state=42),learning_rate=0.9,n_estimators=50),'ada_rf_prediction')"
   ]
  },
  {
   "cell_type": "code",
   "execution_count": null,
   "metadata": {
    "ExecuteTime": {
     "end_time": "2019-11-06T06:44:12.399165Z",
     "start_time": "2019-11-06T06:43:17.841Z"
    }
   },
   "outputs": [],
   "source": [
    "# ## Trying with SMOTE (again)\n",
    "\n",
    "# from imblearn import under_sampling, over_sampling\n",
    "# from imblearn.over_sampling import SMOTE\n",
    "# #from imblearn.over_sampling import SMOTE\n",
    "# # Resample the minority class. You can change the strategy to 'auto' if you are not sure.\n",
    "# sm = SMOTE(sampling_strategy='minority', random_state=7)\n",
    "# # Fit the model to generate the data.\n",
    "# oversampled_trainX, oversampled_trainY = sm.fit_sample(X,y)\n",
    "# oversampled_train = pd.concat([pd.DataFrame(oversampled_trainY), pd.DataFrame(oversampled_trainX)], axis=1)\n",
    "# col = X.columns\n",
    "# oversampled_train.columns = col.insert(0,'WnvPresent')\n",
    "# # oversampled_train.columns = X.columns.append('WnvPresent')"
   ]
  },
  {
   "cell_type": "code",
   "execution_count": null,
   "metadata": {
    "ExecuteTime": {
     "end_time": "2019-11-06T06:44:12.401159Z",
     "start_time": "2019-11-06T06:43:17.846Z"
    }
   },
   "outputs": [],
   "source": [
    "#oversampled_train.shape"
   ]
  },
  {
   "cell_type": "code",
   "execution_count": null,
   "metadata": {
    "ExecuteTime": {
     "end_time": "2019-11-06T06:44:12.403155Z",
     "start_time": "2019-11-06T06:43:17.852Z"
    }
   },
   "outputs": [],
   "source": [
    "#grid_search('lr',train_data=oversampled_train[col],train_target=oversampled_train['WnvPresent'])"
   ]
  },
  {
   "cell_type": "code",
   "execution_count": null,
   "metadata": {
    "ExecuteTime": {
     "end_time": "2019-11-06T06:44:12.405147Z",
     "start_time": "2019-11-06T06:43:17.858Z"
    }
   },
   "outputs": [],
   "source": [
    "#predict_kaggle(LogisticRegression(max_iter=200),'lr_smote_prediction',X=oversampled_train[col],y=oversampled_train['WnvPresent'])"
   ]
  },
  {
   "cell_type": "code",
   "execution_count": null,
   "metadata": {
    "ExecuteTime": {
     "end_time": "2019-11-06T06:44:12.407142Z",
     "start_time": "2019-11-06T06:43:17.864Z"
    }
   },
   "outputs": [],
   "source": [
    "#grid_search('ada_dt',train_data=oversampled_train[col],train_target=oversampled_train['WnvPresent'])"
   ]
  },
  {
   "cell_type": "code",
   "execution_count": null,
   "metadata": {
    "ExecuteTime": {
     "end_time": "2019-11-06T06:44:12.410134Z",
     "start_time": "2019-11-06T06:43:17.868Z"
    }
   },
   "outputs": [],
   "source": [
    "#predict_kaggle(AdaBoostClassifier(learning_rate=1,n_estimators=200),'ada_prediction_smote',X=oversampled_train[col],y=oversampled_train['WnvPresent'])"
   ]
  },
  {
   "cell_type": "code",
   "execution_count": null,
   "metadata": {
    "ExecuteTime": {
     "end_time": "2019-11-06T06:44:12.411132Z",
     "start_time": "2019-11-06T06:43:17.873Z"
    }
   },
   "outputs": [],
   "source": [
    "#grid_search('gboost',train_data=oversampled_train[col],train_target=oversampled_train['WnvPresent'])"
   ]
  },
  {
   "cell_type": "code",
   "execution_count": null,
   "metadata": {
    "ExecuteTime": {
     "end_time": "2019-11-06T06:44:12.414123Z",
     "start_time": "2019-11-06T06:43:17.878Z"
    }
   },
   "outputs": [],
   "source": [
    "#predict_kaggle(GradientBoostingClassifier(n_estimators=100,max_depth=4,learning_rate=0.5),'gboost_prediction_smote',X=oversampled_train[col],y=oversampled_train['WnvPresent'])"
   ]
  },
  {
   "cell_type": "code",
   "execution_count": 83,
   "metadata": {
    "ExecuteTime": {
     "end_time": "2019-11-06T09:47:13.305378Z",
     "start_time": "2019-11-06T09:47:13.276025Z"
    }
   },
   "outputs": [],
   "source": [
    "from sklearn.metrics import roc_curve\n",
    "def get_roc_curve(model, X_val, y_val):\n",
    "    '''\n",
    "    Plots a ROC graph of a given model.\n",
    "    Provide the model, X_val and y_val values\n",
    "    '''\n",
    "    pos_preds = model.predict_proba(X_val)[:,1]\n",
    "    fpr, tpr, thresholds = roc_curve(y_val, pos_preds, pos_label=1)\n",
    "    \n",
    "    plt.figure(figsize=(14,8))\n",
    "    # Plot ROC curve\n",
    "    plt.plot(fpr,tpr, label='ROC Curve')\n",
    "    plt.plot([0,1],[0,1], linestyle='--', label='baseline')\n",
    "\n",
    "    # Label axes.\n",
    "    plt.title(f\"ROC Curve with AUC = {round(roc_auc_score(y_val, pos_preds),3)}\", fontsize=22)\n",
    "    plt.ylabel('Sensitivity (True Positive Rate)', fontsize=18)\n",
    "    plt.xlabel('1 - Specificity (False Positive Rate)', fontsize=18)\n",
    "\n",
    "    # Create legend.\n",
    "    plt.legend(fontsize=16);"
   ]
  },
  {
   "cell_type": "code",
   "execution_count": 85,
   "metadata": {
    "ExecuteTime": {
     "end_time": "2019-11-06T09:52:46.816828Z",
     "start_time": "2019-11-06T09:52:25.354200Z"
    }
   },
   "outputs": [
    {
     "name": "stdout",
     "output_type": "stream",
     "text": [
      "Using AdaBoost - Decision Tree:\n",
      "Train Score: 0.7993\n",
      "Test Score: 0.8428\n",
      "Using the following parameters: {'ada_dt__learning_rate': 0.9, 'ada_dt__n_estimators': 200}\n"
     ]
    }
   ],
   "source": [
    "ada_model = grid_search('ada_dt')"
   ]
  },
  {
   "cell_type": "code",
   "execution_count": 93,
   "metadata": {
    "ExecuteTime": {
     "end_time": "2019-11-06T09:59:45.081695Z",
     "start_time": "2019-11-06T09:59:45.074112Z"
    }
   },
   "outputs": [],
   "source": [
    "best_model = ada_model['gs'].best_estimator_"
   ]
  },
  {
   "cell_type": "code",
   "execution_count": 94,
   "metadata": {
    "ExecuteTime": {
     "end_time": "2019-11-06T09:59:52.492364Z",
     "start_time": "2019-11-06T09:59:51.859487Z"
    }
   },
   "outputs": [
    {
     "data": {
      "image/png": "[encoded data removed]",
      "text/plain": [
       "<Figure size 1008x576 with 1 Axes>"
      ]
     },
     "metadata": {
      "needs_background": "light"
     },
     "output_type": "display_data"
    }
   ],
   "source": [
    "get_roc_curve(best_model , ada_model['data']['X_test'],ada_model['data']['y_test'] )"
   ]
  },
  {
   "cell_type": "code",
   "execution_count": 92,
   "metadata": {
    "ExecuteTime": {
     "end_time": "2019-11-06T09:58:20.866273Z",
     "start_time": "2019-11-06T09:58:20.005557Z"
    }
   },
   "outputs": [
    {
     "data": {
      "image/png": "[encoded data removed]",
      "text/plain": [
       "<Figure size 1008x576 with 1 Axes>"
      ]
     },
     "metadata": {
      "needs_background": "light"
     },
     "output_type": "display_data"
    }
   ],
   "source": [
    "get_roc_curve(best_model , X ,y )"
   ]
  },
  {
   "cell_type": "markdown",
   "metadata": {},
   "source": [
    "## Conclusion"
   ]
  },
  {
   "cell_type": "code",
   "execution_count": null,
   "metadata": {},
   "outputs": [],
   "source": []
  }
 ],
 "metadata": {
  "hide_input": false,
  "kernelspec": {
   "display_name": "Python 3",
   "language": "python",
   "name": "python3"
  },
  "language_info": {
   "codemirror_mode": {
    "name": "ipython",
    "version": 3
   },
   "file_extension": ".py",
   "mimetype": "text/x-python",
   "name": "python",
   "nbconvert_exporter": "python",
   "pygments_lexer": "ipython3",
   "version": "3.7.3"
  },
  "toc": {
   "base_numbering": 1,
   "nav_menu": {},
   "number_sections": true,
   "sideBar": true,
   "skip_h1_title": false,
   "title_cell": "Table of Contents",
   "title_sidebar": "Contents",
   "toc_cell": false,
   "toc_position": {},
   "toc_section_display": true,
   "toc_window_display": false
  },
  "varInspector": {
   "cols": {
    "lenName": 16,
    "lenType": 16,
    "lenVar": 40
   },
   "kernels_config": {
    "python": {
     "delete_cmd_postfix": "",
     "delete_cmd_prefix": "del ",
     "library": "var_list.py",
     "varRefreshCmd": "print(var_dic_list())"
    },
    "r": {
     "delete_cmd_postfix": ") ",
     "delete_cmd_prefix": "rm(",
     "library": "var_list.r",
     "varRefreshCmd": "cat(var_dic_list()) "
    }
   },
   "types_to_exclude": [
    "module",
    "function",
    "builtin_function_or_method",
    "instance",
    "_Feature"
   ],
   "window_display": false
  }
 },
 "nbformat": 4,
 "nbformat_minor": 4
}
